{
 "cells": [
  {
   "cell_type": "code",
   "execution_count": 1,
   "id": "5e7a8d34",
   "metadata": {
    "_cell_guid": "b1076dfc-b9ad-4769-8c92-a6c4dae69d19",
    "_uuid": "8f2839f25d086af736a60e9eeb907d3b93b6e0e5",
    "execution": {
     "iopub.execute_input": "2022-02-12T02:58:17.496626Z",
     "iopub.status.busy": "2022-02-12T02:58:17.494944Z",
     "iopub.status.idle": "2022-02-12T02:58:17.511478Z",
     "shell.execute_reply": "2022-02-12T02:58:17.512028Z",
     "shell.execute_reply.started": "2022-02-12T02:24:46.510708Z"
    },
    "papermill": {
     "duration": 0.045414,
     "end_time": "2022-02-12T02:58:17.512329",
     "exception": false,
     "start_time": "2022-02-12T02:58:17.466915",
     "status": "completed"
    },
    "tags": []
   },
   "outputs": [
    {
     "name": "stdout",
     "output_type": "stream",
     "text": [
      "/kaggle/input/home-data-for-ml-course/train.csv\n"
     ]
    }
   ],
   "source": [
    "# This Python 3 environment comes with many helpful analytics libraries installed\n",
    "# It is defined by the kaggle/python Docker image: https://github.com/kaggle/docker-python\n",
    "# For example, here's several helpful packages to load\n",
    "\n",
    "import numpy as np # linear algebra\n",
    "import pandas as pd # data processing, CSV file I/O (e.g. pd.read_csv)\n",
    "\n",
    "# Input data files are available in the read-only \"../input/\" directory\n",
    "# For example, running this (by clicking run or pressing Shift+Enter) will list all files under the input directory\n",
    "\n",
    "import os\n",
    "for dirname, _, filenames in os.walk('/kaggle/input'):\n",
    "    for filename in filenames:\n",
    "        print(os.path.join(dirname, filename))\n",
    "\n",
    "# You can write up to 20GB to the current directory (/kaggle/working/) that gets preserved as output when you create a version using \"Save & Run All\" \n",
    "# You can also write temporary files to /kaggle/temp/, but they won't be saved outside of the current session"
   ]
  },
  {
   "cell_type": "code",
   "execution_count": 2,
   "id": "46451bf4",
   "metadata": {
    "execution": {
     "iopub.execute_input": "2022-02-12T02:58:17.556486Z",
     "iopub.status.busy": "2022-02-12T02:58:17.555611Z",
     "iopub.status.idle": "2022-02-12T02:58:18.583660Z",
     "shell.execute_reply": "2022-02-12T02:58:18.583186Z",
     "shell.execute_reply.started": "2022-02-12T02:32:47.554314Z"
    },
    "papermill": {
     "duration": 1.050687,
     "end_time": "2022-02-12T02:58:18.583800",
     "exception": false,
     "start_time": "2022-02-12T02:58:17.533113",
     "status": "completed"
    },
    "tags": []
   },
   "outputs": [],
   "source": [
    "import pandas as pd\n",
    "import numpy as np\n",
    "from sklearn.tree import DecisionTreeRegressor\n",
    "from sklearn.model_selection import train_test_split\n",
    "from sklearn.metrics import mean_absolute_error\n",
    "df=pd.read_csv('../input/home-data-for-ml-course/train.csv')\n",
    "feature=['LotArea', 'YearBuilt', '1stFlrSF', '2ndFlrSF', 'FullBath', 'BedroomAbvGr', 'TotRmsAbvGrd']\n",
    "X=df[feature].copy()\n",
    "y=df['SalePrice'].copy()"
   ]
  },
  {
   "cell_type": "code",
   "execution_count": 3,
   "id": "53893d96",
   "metadata": {
    "execution": {
     "iopub.execute_input": "2022-02-12T02:58:18.615709Z",
     "iopub.status.busy": "2022-02-12T02:58:18.615159Z",
     "iopub.status.idle": "2022-02-12T02:58:18.617664Z",
     "shell.execute_reply": "2022-02-12T02:58:18.618052Z",
     "shell.execute_reply.started": "2022-02-12T02:32:54.787694Z"
    },
    "papermill": {
     "duration": 0.021549,
     "end_time": "2022-02-12T02:58:18.618220",
     "exception": false,
     "start_time": "2022-02-12T02:58:18.596671",
     "status": "completed"
    },
    "tags": []
   },
   "outputs": [
    {
     "data": {
      "text/plain": [
       "(1460, 7)"
      ]
     },
     "execution_count": 3,
     "metadata": {},
     "output_type": "execute_result"
    }
   ],
   "source": [
    "X.shape"
   ]
  },
  {
   "cell_type": "code",
   "execution_count": 4,
   "id": "421aba4c",
   "metadata": {
    "execution": {
     "iopub.execute_input": "2022-02-12T02:58:18.647614Z",
     "iopub.status.busy": "2022-02-12T02:58:18.647053Z",
     "iopub.status.idle": "2022-02-12T02:58:18.650605Z",
     "shell.execute_reply": "2022-02-12T02:58:18.651029Z",
     "shell.execute_reply.started": "2022-02-12T02:32:59.753406Z"
    },
    "papermill": {
     "duration": 0.01957,
     "end_time": "2022-02-12T02:58:18.651189",
     "exception": false,
     "start_time": "2022-02-12T02:58:18.631619",
     "status": "completed"
    },
    "tags": []
   },
   "outputs": [
    {
     "data": {
      "text/plain": [
       "(1460,)"
      ]
     },
     "execution_count": 4,
     "metadata": {},
     "output_type": "execute_result"
    }
   ],
   "source": [
    "y.shape"
   ]
  },
  {
   "cell_type": "code",
   "execution_count": 5,
   "id": "8d246c42",
   "metadata": {
    "execution": {
     "iopub.execute_input": "2022-02-12T02:58:18.680788Z",
     "iopub.status.busy": "2022-02-12T02:58:18.680305Z",
     "iopub.status.idle": "2022-02-12T02:58:18.688832Z",
     "shell.execute_reply": "2022-02-12T02:58:18.689333Z",
     "shell.execute_reply.started": "2022-02-12T02:34:41.181964Z"
    },
    "papermill": {
     "duration": 0.024859,
     "end_time": "2022-02-12T02:58:18.689495",
     "exception": false,
     "start_time": "2022-02-12T02:58:18.664636",
     "status": "completed"
    },
    "tags": []
   },
   "outputs": [],
   "source": [
    "X_train,X_test,y_train,y_test=train_test_split(X,y,random_state=1)"
   ]
  },
  {
   "cell_type": "code",
   "execution_count": 6,
   "id": "30180f25",
   "metadata": {
    "execution": {
     "iopub.execute_input": "2022-02-12T02:58:18.721028Z",
     "iopub.status.busy": "2022-02-12T02:58:18.720341Z",
     "iopub.status.idle": "2022-02-12T02:58:18.721801Z",
     "shell.execute_reply": "2022-02-12T02:58:18.722284Z",
     "shell.execute_reply.started": "2022-02-12T02:35:52.635651Z"
    },
    "papermill": {
     "duration": 0.019296,
     "end_time": "2022-02-12T02:58:18.722410",
     "exception": false,
     "start_time": "2022-02-12T02:58:18.703114",
     "status": "completed"
    },
    "tags": []
   },
   "outputs": [],
   "source": [
    "model=DecisionTreeRegressor(random_state=1)"
   ]
  },
  {
   "cell_type": "code",
   "execution_count": 7,
   "id": "9376d8fa",
   "metadata": {
    "execution": {
     "iopub.execute_input": "2022-02-12T02:58:18.752128Z",
     "iopub.status.busy": "2022-02-12T02:58:18.751495Z",
     "iopub.status.idle": "2022-02-12T02:58:18.764573Z",
     "shell.execute_reply": "2022-02-12T02:58:18.764045Z",
     "shell.execute_reply.started": "2022-02-12T02:35:55.061177Z"
    },
    "papermill": {
     "duration": 0.028954,
     "end_time": "2022-02-12T02:58:18.764682",
     "exception": false,
     "start_time": "2022-02-12T02:58:18.735728",
     "status": "completed"
    },
    "tags": []
   },
   "outputs": [
    {
     "data": {
      "text/plain": [
       "DecisionTreeRegressor(random_state=1)"
      ]
     },
     "execution_count": 7,
     "metadata": {},
     "output_type": "execute_result"
    }
   ],
   "source": [
    "model.fit(X_train,y_train)"
   ]
  },
  {
   "cell_type": "code",
   "execution_count": 8,
   "id": "9cd0460b",
   "metadata": {
    "execution": {
     "iopub.execute_input": "2022-02-12T02:58:18.796859Z",
     "iopub.status.busy": "2022-02-12T02:58:18.796365Z",
     "iopub.status.idle": "2022-02-12T02:58:18.800745Z",
     "shell.execute_reply": "2022-02-12T02:58:18.801110Z",
     "shell.execute_reply.started": "2022-02-12T02:37:19.867935Z"
    },
    "papermill": {
     "duration": 0.022779,
     "end_time": "2022-02-12T02:58:18.801270",
     "exception": false,
     "start_time": "2022-02-12T02:58:18.778491",
     "status": "completed"
    },
    "tags": []
   },
   "outputs": [
    {
     "data": {
      "text/plain": [
       "array([186500., 184000., 130000.,  92000., 164500.])"
      ]
     },
     "execution_count": 8,
     "metadata": {},
     "output_type": "execute_result"
    }
   ],
   "source": [
    "prediction=model.predict(X_test)\n",
    "prediction[:5]"
   ]
  },
  {
   "cell_type": "code",
   "execution_count": 9,
   "id": "ab79cd63",
   "metadata": {
    "execution": {
     "iopub.execute_input": "2022-02-12T02:58:18.835684Z",
     "iopub.status.busy": "2022-02-12T02:58:18.834987Z",
     "iopub.status.idle": "2022-02-12T02:58:18.838387Z",
     "shell.execute_reply": "2022-02-12T02:58:18.837949Z",
     "shell.execute_reply.started": "2022-02-12T02:39:08.669720Z"
    },
    "papermill": {
     "duration": 0.023043,
     "end_time": "2022-02-12T02:58:18.838495",
     "exception": false,
     "start_time": "2022-02-12T02:58:18.815452",
     "status": "completed"
    },
    "tags": []
   },
   "outputs": [
    {
     "data": {
      "text/plain": [
       "29652.931506849316"
      ]
     },
     "execution_count": 9,
     "metadata": {},
     "output_type": "execute_result"
    }
   ],
   "source": [
    "mae=mean_absolute_error(prediction,y_test)\n",
    "mae"
   ]
  },
  {
   "cell_type": "code",
   "execution_count": 10,
   "id": "8eaf2444",
   "metadata": {
    "execution": {
     "iopub.execute_input": "2022-02-12T02:58:18.869766Z",
     "iopub.status.busy": "2022-02-12T02:58:18.869290Z",
     "iopub.status.idle": "2022-02-12T02:58:18.873879Z",
     "shell.execute_reply": "2022-02-12T02:58:18.874361Z",
     "shell.execute_reply.started": "2022-02-12T02:44:02.524818Z"
    },
    "papermill": {
     "duration": 0.021772,
     "end_time": "2022-02-12T02:58:18.874494",
     "exception": false,
     "start_time": "2022-02-12T02:58:18.852722",
     "status": "completed"
    },
    "tags": []
   },
   "outputs": [],
   "source": [
    "def ml_var_node(node,xt,yt,xv,yv):\n",
    "    model=DecisionTreeRegressor(max_leaf_nodes=node,random_state=1)\n",
    "    model.fit(xt,yt)\n",
    "    prediction=model.predict(xv)\n",
    "    mae=mean_absolute_error(prediction,yv)\n",
    "    return mae"
   ]
  },
  {
   "cell_type": "code",
   "execution_count": 11,
   "id": "92bf511d",
   "metadata": {
    "execution": {
     "iopub.execute_input": "2022-02-12T02:58:18.905285Z",
     "iopub.status.busy": "2022-02-12T02:58:18.904788Z",
     "iopub.status.idle": "2022-02-12T02:58:18.951803Z",
     "shell.execute_reply": "2022-02-12T02:58:18.951353Z",
     "shell.execute_reply.started": "2022-02-12T02:54:10.132892Z"
    },
    "papermill": {
     "duration": 0.063434,
     "end_time": "2022-02-12T02:58:18.951924",
     "exception": false,
     "start_time": "2022-02-12T02:58:18.888490",
     "status": "completed"
    },
    "tags": []
   },
   "outputs": [
    {
     "name": "stdout",
     "output_type": "stream",
     "text": [
      "The best node is 100 that give score 27282.50803885739\n"
     ]
    }
   ],
   "source": [
    "node=[5,25,50,100,250,500]\n",
    "score={node:ml_var_node(node,X_train,y_train,X_test,y_test) for node in node}\n",
    "best_score=min(score,key=score.get)\n",
    "print('The best node is {} that give score {}'.format(best_score,score[best_score]))"
   ]
  },
  {
   "cell_type": "code",
   "execution_count": null,
   "id": "5fca2a35",
   "metadata": {
    "papermill": {
     "duration": 0.014654,
     "end_time": "2022-02-12T02:58:18.981448",
     "exception": false,
     "start_time": "2022-02-12T02:58:18.966794",
     "status": "completed"
    },
    "tags": []
   },
   "outputs": [],
   "source": []
  },
  {
   "cell_type": "code",
   "execution_count": 12,
   "id": "a2df5658",
   "metadata": {
    "execution": {
     "iopub.execute_input": "2022-02-12T02:58:19.014666Z",
     "iopub.status.busy": "2022-02-12T02:58:19.014099Z",
     "iopub.status.idle": "2022-02-12T02:58:19.026800Z",
     "shell.execute_reply": "2022-02-12T02:58:19.027323Z",
     "shell.execute_reply.started": "2022-02-12T02:56:38.965635Z"
    },
    "papermill": {
     "duration": 0.031094,
     "end_time": "2022-02-12T02:58:19.027468",
     "exception": false,
     "start_time": "2022-02-12T02:58:18.996374",
     "status": "completed"
    },
    "tags": []
   },
   "outputs": [
    {
     "data": {
      "text/plain": [
       "DecisionTreeRegressor(max_leaf_nodes=100, random_state=1)"
      ]
     },
     "execution_count": 12,
     "metadata": {},
     "output_type": "execute_result"
    }
   ],
   "source": [
    "final_model=DecisionTreeRegressor(max_leaf_nodes=best_score,random_state=1)\n",
    "final_model.fit(X,y)"
   ]
  },
  {
   "cell_type": "code",
   "execution_count": null,
   "id": "bb9e962d",
   "metadata": {
    "papermill": {
     "duration": 0.014607,
     "end_time": "2022-02-12T02:58:19.058685",
     "exception": false,
     "start_time": "2022-02-12T02:58:19.044078",
     "status": "completed"
    },
    "tags": []
   },
   "outputs": [],
   "source": []
  }
 ],
 "metadata": {
  "kernelspec": {
   "display_name": "Python 3",
   "language": "python",
   "name": "python3"
  },
  "language_info": {
   "codemirror_mode": {
    "name": "ipython",
    "version": 3
   },
   "file_extension": ".py",
   "mimetype": "text/x-python",
   "name": "python",
   "nbconvert_exporter": "python",
   "pygments_lexer": "ipython3",
   "version": "3.7.12"
  },
  "papermill": {
   "default_parameters": {},
   "duration": 10.096198,
   "end_time": "2022-02-12T02:58:19.681781",
   "environment_variables": {},
   "exception": null,
   "input_path": "__notebook__.ipynb",
   "output_path": "__notebook__.ipynb",
   "parameters": {},
   "start_time": "2022-02-12T02:58:09.585583",
   "version": "2.3.3"
  }
 },
 "nbformat": 4,
 "nbformat_minor": 5
}
