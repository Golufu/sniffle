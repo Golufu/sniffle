{
 "cells": [
  {
   "cell_type": "code",
   "execution_count": 1,
   "id": "cd5ea5c7",
   "metadata": {
    "_cell_guid": "b1076dfc-b9ad-4769-8c92-a6c4dae69d19",
    "_uuid": "8f2839f25d086af736a60e9eeb907d3b93b6e0e5",
    "execution": {
     "iopub.execute_input": "2022-02-13T07:07:29.509369Z",
     "iopub.status.busy": "2022-02-13T07:07:29.508349Z",
     "iopub.status.idle": "2022-02-13T07:07:29.523168Z",
     "shell.execute_reply": "2022-02-13T07:07:29.522175Z",
     "shell.execute_reply.started": "2022-02-13T06:34:32.790734Z"
    },
    "papermill": {
     "duration": 0.043151,
     "end_time": "2022-02-13T07:07:29.523373",
     "exception": false,
     "start_time": "2022-02-13T07:07:29.480222",
     "status": "completed"
    },
    "tags": []
   },
   "outputs": [
    {
     "name": "stdout",
     "output_type": "stream",
     "text": [
      "/kaggle/input/melbourne-housing-snapshot/melb_data.csv\n"
     ]
    }
   ],
   "source": [
    "# This Python 3 environment comes with many helpful analytics libraries installed\n",
    "# It is defined by the kaggle/python Docker image: https://github.com/kaggle/docker-python\n",
    "# For example, here's several helpful packages to load\n",
    "\n",
    "import numpy as np # linear algebra\n",
    "import pandas as pd # data processing, CSV file I/O (e.g. pd.read_csv)\n",
    "\n",
    "# Input data files are available in the read-only \"../input/\" directory\n",
    "# For example, running this (by clicking run or pressing Shift+Enter) will list all files under the input directory\n",
    "\n",
    "import os\n",
    "for dirname, _, filenames in os.walk('/kaggle/input'):\n",
    "    for filename in filenames:\n",
    "        print(os.path.join(dirname, filename))\n",
    "\n",
    "# You can write up to 20GB to the current directory (/kaggle/working/) that gets preserved as output when you create a version using \"Save & Run All\" \n",
    "# You can also write temporary files to /kaggle/temp/, but they won't be saved outside of the current session"
   ]
  },
  {
   "cell_type": "code",
   "execution_count": 2,
   "id": "b21c0843",
   "metadata": {
    "execution": {
     "iopub.execute_input": "2022-02-13T07:07:29.556674Z",
     "iopub.status.busy": "2022-02-13T07:07:29.553581Z",
     "iopub.status.idle": "2022-02-13T07:07:29.673331Z",
     "shell.execute_reply": "2022-02-13T07:07:29.674406Z",
     "shell.execute_reply.started": "2022-02-13T06:40:23.830795Z"
    },
    "papermill": {
     "duration": 0.138042,
     "end_time": "2022-02-13T07:07:29.674747",
     "exception": false,
     "start_time": "2022-02-13T07:07:29.536705",
     "status": "completed"
    },
    "tags": []
   },
   "outputs": [],
   "source": [
    "import pandas as pd\n",
    "df=pd.read_csv('../input/melbourne-housing-snapshot/melb_data.csv')\n",
    "feature=['Rooms', 'Distance', 'Landsize', 'BuildingArea', 'YearBuilt']\n",
    "X=df[feature]\n",
    "y=df.Price"
   ]
  },
  {
   "cell_type": "code",
   "execution_count": 3,
   "id": "c2503ac1",
   "metadata": {
    "execution": {
     "iopub.execute_input": "2022-02-13T07:07:29.702028Z",
     "iopub.status.busy": "2022-02-13T07:07:29.700933Z",
     "iopub.status.idle": "2022-02-13T07:07:29.714256Z",
     "shell.execute_reply": "2022-02-13T07:07:29.714827Z",
     "shell.execute_reply.started": "2022-02-13T06:53:34.425928Z"
    },
    "papermill": {
     "duration": 0.026838,
     "end_time": "2022-02-13T07:07:29.715036",
     "exception": false,
     "start_time": "2022-02-13T07:07:29.688198",
     "status": "completed"
    },
    "tags": []
   },
   "outputs": [
    {
     "data": {
      "text/plain": [
       "['Rooms', 'Distance', 'Landsize', 'BuildingArea', 'YearBuilt']"
      ]
     },
     "execution_count": 3,
     "metadata": {},
     "output_type": "execute_result"
    }
   ],
   "source": [
    "numerical_col=[col for col in X.columns\n",
    "              if X[col].dtypes in ['int64','float64']]\n",
    "numerical_col"
   ]
  },
  {
   "cell_type": "code",
   "execution_count": 4,
   "id": "1a8cbc52",
   "metadata": {
    "execution": {
     "iopub.execute_input": "2022-02-13T07:07:29.738526Z",
     "iopub.status.busy": "2022-02-13T07:07:29.737407Z",
     "iopub.status.idle": "2022-02-13T07:07:31.304983Z",
     "shell.execute_reply": "2022-02-13T07:07:31.304201Z",
     "shell.execute_reply.started": "2022-02-13T06:59:56.194673Z"
    },
    "papermill": {
     "duration": 1.580428,
     "end_time": "2022-02-13T07:07:31.305140",
     "exception": false,
     "start_time": "2022-02-13T07:07:29.724712",
     "status": "completed"
    },
    "tags": []
   },
   "outputs": [],
   "source": [
    "from sklearn.ensemble import RandomForestRegressor\n",
    "from sklearn.pipeline import Pipeline\n",
    "from sklearn.impute import SimpleImputer\n",
    "from sklearn.compose import ColumnTransformer\n",
    "\n",
    "\n",
    "pipline=Pipeline(steps=[('preprocessor',SimpleImputer(strategy='median')),\n",
    "    ('model',RandomForestRegressor(n_estimators=50,random_state=0))\n",
    "    \n",
    "])\n",
    "\n",
    "\n"
   ]
  },
  {
   "cell_type": "code",
   "execution_count": 5,
   "id": "347adc58",
   "metadata": {
    "execution": {
     "iopub.execute_input": "2022-02-13T07:07:31.328233Z",
     "iopub.status.busy": "2022-02-13T07:07:31.327151Z",
     "iopub.status.idle": "2022-02-13T07:07:39.109632Z",
     "shell.execute_reply": "2022-02-13T07:07:39.108918Z",
     "shell.execute_reply.started": "2022-02-13T07:05:41.795822Z"
    },
    "papermill": {
     "duration": 7.795048,
     "end_time": "2022-02-13T07:07:39.109792",
     "exception": false,
     "start_time": "2022-02-13T07:07:31.314744",
     "status": "completed"
    },
    "tags": []
   },
   "outputs": [
    {
     "data": {
      "text/plain": [
       "array([301779.02350553, 302528.4118892 , 289250.45796505, 235124.57771079,\n",
       "       259607.65637442])"
      ]
     },
     "execution_count": 5,
     "metadata": {},
     "output_type": "execute_result"
    }
   ],
   "source": [
    "from sklearn.model_selection import cross_val_score\n",
    "\n",
    "score=-1*cross_val_score(pipline,X,y,cv=5,scoring='neg_mean_absolute_error')\n",
    "score"
   ]
  },
  {
   "cell_type": "code",
   "execution_count": 6,
   "id": "f75e6738",
   "metadata": {
    "execution": {
     "iopub.execute_input": "2022-02-13T07:07:39.136182Z",
     "iopub.status.busy": "2022-02-13T07:07:39.135231Z",
     "iopub.status.idle": "2022-02-13T07:07:39.139578Z",
     "shell.execute_reply": "2022-02-13T07:07:39.139004Z",
     "shell.execute_reply.started": "2022-02-13T07:06:09.788822Z"
    },
    "papermill": {
     "duration": 0.020108,
     "end_time": "2022-02-13T07:07:39.139734",
     "exception": false,
     "start_time": "2022-02-13T07:07:39.119626",
     "status": "completed"
    },
    "tags": []
   },
   "outputs": [
    {
     "data": {
      "text/plain": [
       "277658.0254889969"
      ]
     },
     "execution_count": 6,
     "metadata": {},
     "output_type": "execute_result"
    }
   ],
   "source": [
    "score.mean()"
   ]
  },
  {
   "cell_type": "code",
   "execution_count": null,
   "id": "17524647",
   "metadata": {
    "papermill": {
     "duration": 0.01014,
     "end_time": "2022-02-13T07:07:39.160010",
     "exception": false,
     "start_time": "2022-02-13T07:07:39.149870",
     "status": "completed"
    },
    "tags": []
   },
   "outputs": [],
   "source": []
  }
 ],
 "metadata": {
  "kernelspec": {
   "display_name": "Python 3",
   "language": "python",
   "name": "python3"
  },
  "language_info": {
   "codemirror_mode": {
    "name": "ipython",
    "version": 3
   },
   "file_extension": ".py",
   "mimetype": "text/x-python",
   "name": "python",
   "nbconvert_exporter": "python",
   "pygments_lexer": "ipython3",
   "version": "3.7.12"
  },
  "papermill": {
   "default_parameters": {},
   "duration": 23.236774,
   "end_time": "2022-02-13T07:07:39.982189",
   "environment_variables": {},
   "exception": null,
   "input_path": "__notebook__.ipynb",
   "output_path": "__notebook__.ipynb",
   "parameters": {},
   "start_time": "2022-02-13T07:07:16.745415",
   "version": "2.3.3"
  }
 },
 "nbformat": 4,
 "nbformat_minor": 5
}
