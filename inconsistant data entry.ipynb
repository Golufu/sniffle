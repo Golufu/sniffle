{
 "cells": [
  {
   "cell_type": "code",
   "execution_count": 1,
   "id": "9c9243fe",
   "metadata": {
    "_cell_guid": "b1076dfc-b9ad-4769-8c92-a6c4dae69d19",
    "_uuid": "8f2839f25d086af736a60e9eeb907d3b93b6e0e5",
    "execution": {
     "iopub.execute_input": "2022-02-11T17:35:54.784828Z",
     "iopub.status.busy": "2022-02-11T17:35:54.782952Z",
     "iopub.status.idle": "2022-02-11T17:35:54.806625Z",
     "shell.execute_reply": "2022-02-11T17:35:54.807337Z",
     "shell.execute_reply.started": "2022-02-11T16:25:38.309574Z"
    },
    "papermill": {
     "duration": 0.050795,
     "end_time": "2022-02-11T17:35:54.807860",
     "exception": false,
     "start_time": "2022-02-11T17:35:54.757065",
     "status": "completed"
    },
    "tags": []
   },
   "outputs": [
    {
     "name": "stdout",
     "output_type": "stream",
     "text": [
      "/kaggle/input/pakistan-intellectual-capital/pakistan_intellectual_capital.csv\n"
     ]
    }
   ],
   "source": [
    "# This Python 3 environment comes with many helpful analytics libraries installed\n",
    "# It is defined by the kaggle/python Docker image: https://github.com/kaggle/docker-python\n",
    "# For example, here's several helpful packages to load\n",
    "\n",
    "import numpy as np # linear algebra\n",
    "import pandas as pd # data processing, CSV file I/O (e.g. pd.read_csv)\n",
    "\n",
    "# Input data files are available in the read-only \"../input/\" directory\n",
    "# For example, running this (by clicking run or pressing Shift+Enter) will list all files under the input directory\n",
    "\n",
    "import os\n",
    "for dirname, _, filenames in os.walk('/kaggle/input'):\n",
    "    for filename in filenames:\n",
    "        print(os.path.join(dirname, filename))\n",
    "\n",
    "# You can write up to 20GB to the current directory (/kaggle/working/) that gets preserved as output when you create a version using \"Save & Run All\" \n",
    "# You can also write temporary files to /kaggle/temp/, but they won't be saved outside of the current session"
   ]
  },
  {
   "cell_type": "code",
   "execution_count": 2,
   "id": "381decea",
   "metadata": {
    "execution": {
     "iopub.execute_input": "2022-02-11T17:35:54.853797Z",
     "iopub.status.busy": "2022-02-11T17:35:54.853105Z",
     "iopub.status.idle": "2022-02-11T17:35:56.016064Z",
     "shell.execute_reply": "2022-02-11T17:35:56.015094Z",
     "shell.execute_reply.started": "2022-02-11T16:38:51.276339Z"
    },
    "papermill": {
     "duration": 1.186001,
     "end_time": "2022-02-11T17:35:56.016231",
     "exception": false,
     "start_time": "2022-02-11T17:35:54.830230",
     "status": "completed"
    },
    "tags": []
   },
   "outputs": [],
   "source": [
    "import pandas as pd\n",
    "import numpy as np\n",
    "import matplotlib.pyplot as plt\n",
    "import seaborn as sns\n",
    "import datetime as dt\n",
    "import chardet\n",
    "from scipy import stats\n",
    "from mlxtend.preprocessing import minmax_scaling\n",
    "import fuzzywuzzy\n",
    "from fuzzywuzzy import process\n",
    "%matplotlib Inline\n",
    "%config InlineBacked.figure_format='retina'\n",
    "pd.set_option('display.max_columns',100)\n",
    "np.random.seed(0)\n",
    "import warnings\n",
    "warnings.filterwarnings('ignore')"
   ]
  },
  {
   "cell_type": "code",
   "execution_count": 3,
   "id": "3211d81f",
   "metadata": {
    "execution": {
     "iopub.execute_input": "2022-02-11T17:35:56.063650Z",
     "iopub.status.busy": "2022-02-11T17:35:56.062973Z",
     "iopub.status.idle": "2022-02-11T17:35:56.110361Z",
     "shell.execute_reply": "2022-02-11T17:35:56.110917Z",
     "shell.execute_reply.started": "2022-02-11T17:10:05.963506Z"
    },
    "papermill": {
     "duration": 0.072894,
     "end_time": "2022-02-11T17:35:56.111087",
     "exception": false,
     "start_time": "2022-02-11T17:35:56.038193",
     "status": "completed"
    },
    "tags": []
   },
   "outputs": [
    {
     "data": {
      "text/html": [
       "<div>\n",
       "<style scoped>\n",
       "    .dataframe tbody tr th:only-of-type {\n",
       "        vertical-align: middle;\n",
       "    }\n",
       "\n",
       "    .dataframe tbody tr th {\n",
       "        vertical-align: top;\n",
       "    }\n",
       "\n",
       "    .dataframe thead th {\n",
       "        text-align: right;\n",
       "    }\n",
       "</style>\n",
       "<table border=\"1\" class=\"dataframe\">\n",
       "  <thead>\n",
       "    <tr style=\"text-align: right;\">\n",
       "      <th></th>\n",
       "      <th>Unnamed: 0</th>\n",
       "      <th>S#</th>\n",
       "      <th>Teacher Name</th>\n",
       "      <th>University Currently Teaching</th>\n",
       "      <th>Department</th>\n",
       "      <th>Province University Located</th>\n",
       "      <th>Designation</th>\n",
       "      <th>Terminal Degree</th>\n",
       "      <th>Graduated from</th>\n",
       "      <th>Country</th>\n",
       "      <th>Year</th>\n",
       "      <th>Area of Specialization/Research Interests</th>\n",
       "      <th>Other Information</th>\n",
       "    </tr>\n",
       "  </thead>\n",
       "  <tbody>\n",
       "    <tr>\n",
       "      <th>0</th>\n",
       "      <td>2</td>\n",
       "      <td>3</td>\n",
       "      <td>Dr. Abdul Basit</td>\n",
       "      <td>University of Balochistan</td>\n",
       "      <td>Computer Science &amp; IT</td>\n",
       "      <td>Balochistan</td>\n",
       "      <td>Assistant Professor</td>\n",
       "      <td>PhD</td>\n",
       "      <td>Asian Institute of Technology</td>\n",
       "      <td>Thailand</td>\n",
       "      <td>NaN</td>\n",
       "      <td>Software Engineering &amp; DBMS</td>\n",
       "      <td>NaN</td>\n",
       "    </tr>\n",
       "    <tr>\n",
       "      <th>1</th>\n",
       "      <td>4</td>\n",
       "      <td>5</td>\n",
       "      <td>Dr. Waheed Noor</td>\n",
       "      <td>University of Balochistan</td>\n",
       "      <td>Computer Science &amp; IT</td>\n",
       "      <td>Balochistan</td>\n",
       "      <td>Assistant Professor</td>\n",
       "      <td>PhD</td>\n",
       "      <td>Asian Institute of Technology</td>\n",
       "      <td>Thailand</td>\n",
       "      <td>NaN</td>\n",
       "      <td>DBMS</td>\n",
       "      <td>NaN</td>\n",
       "    </tr>\n",
       "    <tr>\n",
       "      <th>2</th>\n",
       "      <td>5</td>\n",
       "      <td>6</td>\n",
       "      <td>Dr. Junaid Baber</td>\n",
       "      <td>University of Balochistan</td>\n",
       "      <td>Computer Science &amp; IT</td>\n",
       "      <td>Balochistan</td>\n",
       "      <td>Assistant Professor</td>\n",
       "      <td>PhD</td>\n",
       "      <td>Asian Institute of Technology</td>\n",
       "      <td>Thailand</td>\n",
       "      <td>NaN</td>\n",
       "      <td>Information processing, Multimedia mining</td>\n",
       "      <td>NaN</td>\n",
       "    </tr>\n",
       "    <tr>\n",
       "      <th>3</th>\n",
       "      <td>6</td>\n",
       "      <td>7</td>\n",
       "      <td>Dr. Maheen Bakhtyar</td>\n",
       "      <td>University of Balochistan</td>\n",
       "      <td>Computer Science &amp; IT</td>\n",
       "      <td>Balochistan</td>\n",
       "      <td>Assistant Professor</td>\n",
       "      <td>PhD</td>\n",
       "      <td>Asian Institute of Technology</td>\n",
       "      <td>Thailand</td>\n",
       "      <td>NaN</td>\n",
       "      <td>NLP, Information Retrieval, Question Answering...</td>\n",
       "      <td>NaN</td>\n",
       "    </tr>\n",
       "    <tr>\n",
       "      <th>4</th>\n",
       "      <td>24</td>\n",
       "      <td>25</td>\n",
       "      <td>Samina Azim</td>\n",
       "      <td>Sardar Bahadur Khan Women's University</td>\n",
       "      <td>Computer Science</td>\n",
       "      <td>Balochistan</td>\n",
       "      <td>Lecturer</td>\n",
       "      <td>BS</td>\n",
       "      <td>Balochistan University of Information Technolo...</td>\n",
       "      <td>Pakistan</td>\n",
       "      <td>2005.0</td>\n",
       "      <td>VLSI Electronics DLD Database</td>\n",
       "      <td>NaN</td>\n",
       "    </tr>\n",
       "  </tbody>\n",
       "</table>\n",
       "</div>"
      ],
      "text/plain": [
       "   Unnamed: 0  S#         Teacher Name  \\\n",
       "0           2   3      Dr. Abdul Basit   \n",
       "1           4   5      Dr. Waheed Noor   \n",
       "2           5   6     Dr. Junaid Baber   \n",
       "3           6   7  Dr. Maheen Bakhtyar   \n",
       "4          24  25          Samina Azim   \n",
       "\n",
       "            University Currently Teaching             Department  \\\n",
       "0               University of Balochistan  Computer Science & IT   \n",
       "1               University of Balochistan  Computer Science & IT   \n",
       "2               University of Balochistan  Computer Science & IT   \n",
       "3               University of Balochistan  Computer Science & IT   \n",
       "4  Sardar Bahadur Khan Women's University       Computer Science   \n",
       "\n",
       "  Province University Located          Designation Terminal Degree  \\\n",
       "0                 Balochistan  Assistant Professor             PhD   \n",
       "1                 Balochistan  Assistant Professor             PhD   \n",
       "2                 Balochistan  Assistant Professor             PhD   \n",
       "3                 Balochistan  Assistant Professor             PhD   \n",
       "4                 Balochistan             Lecturer              BS   \n",
       "\n",
       "                                      Graduated from   Country    Year  \\\n",
       "0                      Asian Institute of Technology  Thailand     NaN   \n",
       "1                      Asian Institute of Technology  Thailand     NaN   \n",
       "2                      Asian Institute of Technology  Thailand     NaN   \n",
       "3                      Asian Institute of Technology  Thailand     NaN   \n",
       "4  Balochistan University of Information Technolo...  Pakistan  2005.0   \n",
       "\n",
       "           Area of Specialization/Research Interests Other Information  \n",
       "0                        Software Engineering & DBMS               NaN  \n",
       "1                                               DBMS               NaN  \n",
       "2          Information processing, Multimedia mining               NaN  \n",
       "3  NLP, Information Retrieval, Question Answering...               NaN  \n",
       "4                      VLSI Electronics DLD Database               NaN  "
      ]
     },
     "execution_count": 3,
     "metadata": {},
     "output_type": "execute_result"
    }
   ],
   "source": [
    "df=pd.read_csv('../input/pakistan-intellectual-capital/pakistan_intellectual_capital.csv')\n",
    "df.head()"
   ]
  },
  {
   "cell_type": "code",
   "execution_count": 4,
   "id": "5c71a94a",
   "metadata": {
    "execution": {
     "iopub.execute_input": "2022-02-11T17:35:56.165211Z",
     "iopub.status.busy": "2022-02-11T17:35:56.164553Z",
     "iopub.status.idle": "2022-02-11T17:35:56.167154Z",
     "shell.execute_reply": "2022-02-11T17:35:56.167648Z",
     "shell.execute_reply.started": "2022-02-11T17:10:08.410124Z"
    },
    "papermill": {
     "duration": 0.035978,
     "end_time": "2022-02-11T17:35:56.167811",
     "exception": false,
     "start_time": "2022-02-11T17:35:56.131833",
     "status": "completed"
    },
    "tags": []
   },
   "outputs": [
    {
     "data": {
      "text/plain": [
       "array(['Abasyn University', 'Air University',\n",
       "       'Bahria University,Islamabad',\n",
       "       'Barani Institute of Information and Technology',\n",
       "       'Beaconhouse National University', 'COMSATS, Islamabad Campus',\n",
       "       'Capital University of Science and Technology', 'City University',\n",
       "       'DHA Suffa University', 'FAST(Faisalabad)', 'FAST(Karachi)',\n",
       "       'FAST(Lahore)', 'FAST,Peshawar', 'FAST-NU(Islamabad)',\n",
       "       'Fatima Jinnah Women University', 'Ghulam Ishaq Khan Institute',\n",
       "       'Gift University', 'Government College University Faisalabad',\n",
       "       'Habib University', 'ISRA University',\n",
       "       'Information Technology University',\n",
       "       'Institute of Business Administration, Karachi\\xa0',\n",
       "       'Institute of Business Administration,Sukkur',\n",
       "       'International Islamic University,Islamabad',\n",
       "       'Islamia University Bhawalpur', 'Jinnah University for Women',\n",
       "       'Lahore Garrison University',\n",
       "       'Lahore University of Management Sciences',\n",
       "       'Minhaj University Lahore', 'Mohammad Ali Jinnah University',\n",
       "       'NAML-Mianwali', 'NED,UET',\n",
       "       'NFC Institute of Engineering and Fertilizer Research',\n",
       "       'National Textile University,Faisalabad',\n",
       "       'National University of Modern Languages',\n",
       "       'National University of Sciences and Technology',\n",
       "       'PAF-Karachi Institute of Economics and Technology',\n",
       "       'Pakistan Institute of Engineering and Applied Sciences',\n",
       "       'Punjab University College of Information and Technology',\n",
       "       'Punjab University,Gujranwala Campus',\n",
       "       'QUAID-E-AWAM UNIVERSITY OF ENGINEERING, SCIENCE & TECHNOLOGY,NAWABSHAH\\n',\n",
       "       'RIPHAH International', 'Riphah University,Faisalabad',\n",
       "       \"Sardar Bahadur Khan Women's University\",\n",
       "       'Shah Abdul Latif University, Khairpur',\n",
       "       'Shaheed Benazir Bhutto University,Shaheed Benazirabad\\n',\n",
       "       'Shaheed Zulfikar Ali Bhutto Institute of Science and Technology',\n",
       "       'Sir Syed University of Engineering and Technology',\n",
       "       'University of Agriculture,Peshawar', 'University of Balochistan',\n",
       "       'University of Central Punjab', 'University of Chakwal',\n",
       "       'University of Engineering and Technology,Peshawar',\n",
       "       'University of Gujrat', 'University of Karachi',\n",
       "       'University of Lahore-PakPattan',\n",
       "       'University of Management and Technology',\n",
       "       'University of Peshawar', 'University of Sahiwal',\n",
       "       'University of Sargodha,Mandi Bahauddin Campus',\n",
       "       'University of Sindh', 'University of Turbat',\n",
       "       'Virtual University'], dtype=object)"
      ]
     },
     "execution_count": 4,
     "metadata": {},
     "output_type": "execute_result"
    }
   ],
   "source": [
    "univesity=df['University Currently Teaching'].unique()\n",
    "univesity.sort()\n",
    "univesity"
   ]
  },
  {
   "cell_type": "code",
   "execution_count": 5,
   "id": "4ac28071",
   "metadata": {
    "execution": {
     "iopub.execute_input": "2022-02-11T17:35:56.213882Z",
     "iopub.status.busy": "2022-02-11T17:35:56.213228Z",
     "iopub.status.idle": "2022-02-11T17:35:56.219026Z",
     "shell.execute_reply": "2022-02-11T17:35:56.219661Z",
     "shell.execute_reply.started": "2022-02-11T17:10:11.153850Z"
    },
    "papermill": {
     "duration": 0.030723,
     "end_time": "2022-02-11T17:35:56.219848",
     "exception": false,
     "start_time": "2022-02-11T17:35:56.189125",
     "status": "completed"
    },
    "tags": []
   },
   "outputs": [],
   "source": [
    "df['University Currently Teaching']=df['University Currently Teaching'].str.lower()\n",
    "df['University Currently Teaching']=df['University Currently Teaching'].str.strip()"
   ]
  },
  {
   "cell_type": "code",
   "execution_count": 6,
   "id": "201ff679",
   "metadata": {
    "execution": {
     "iopub.execute_input": "2022-02-11T17:35:56.269824Z",
     "iopub.status.busy": "2022-02-11T17:35:56.268979Z",
     "iopub.status.idle": "2022-02-11T17:35:56.272218Z",
     "shell.execute_reply": "2022-02-11T17:35:56.272706Z",
     "shell.execute_reply.started": "2022-02-11T17:10:12.580906Z"
    },
    "papermill": {
     "duration": 0.031295,
     "end_time": "2022-02-11T17:35:56.272883",
     "exception": false,
     "start_time": "2022-02-11T17:35:56.241588",
     "status": "completed"
    },
    "tags": []
   },
   "outputs": [
    {
     "data": {
      "text/plain": [
       "array([' Germany', ' New Zealand', ' Sweden', ' USA', 'Australia',\n",
       "       'Austria', 'Canada', 'China', 'Finland', 'France', 'Greece',\n",
       "       'HongKong', 'Ireland', 'Italy', 'Japan', 'Macau', 'Malaysia',\n",
       "       'Mauritius', 'Netherland', 'New Zealand', 'Norway', 'Pakistan',\n",
       "       'Portugal', 'Russian Federation', 'Saudi Arabia', 'Scotland',\n",
       "       'Singapore', 'South Korea', 'SouthKorea', 'Spain', 'Sweden',\n",
       "       'Thailand', 'Turkey', 'UK', 'USA', 'USofA', 'Urbana', 'germany'],\n",
       "      dtype=object)"
      ]
     },
     "execution_count": 6,
     "metadata": {},
     "output_type": "execute_result"
    }
   ],
   "source": [
    "unique_data=df['Country'].unique()\n",
    "unique_data.sort()\n",
    "unique_data"
   ]
  },
  {
   "cell_type": "code",
   "execution_count": 7,
   "id": "e49e2063",
   "metadata": {
    "execution": {
     "iopub.execute_input": "2022-02-11T17:35:56.324282Z",
     "iopub.status.busy": "2022-02-11T17:35:56.323640Z",
     "iopub.status.idle": "2022-02-11T17:35:56.325095Z",
     "shell.execute_reply": "2022-02-11T17:35:56.325717Z",
     "shell.execute_reply.started": "2022-02-11T17:10:14.374790Z"
    },
    "papermill": {
     "duration": 0.031379,
     "end_time": "2022-02-11T17:35:56.325885",
     "exception": false,
     "start_time": "2022-02-11T17:35:56.294506",
     "status": "completed"
    },
    "tags": []
   },
   "outputs": [],
   "source": [
    "df['Country']=df['Country'].str.lower()\n",
    "df['Country']=df['Country'].str.strip()"
   ]
  },
  {
   "cell_type": "code",
   "execution_count": 8,
   "id": "e10b8467",
   "metadata": {
    "execution": {
     "iopub.execute_input": "2022-02-11T17:35:56.376325Z",
     "iopub.status.busy": "2022-02-11T17:35:56.375563Z",
     "iopub.status.idle": "2022-02-11T17:35:56.378736Z",
     "shell.execute_reply": "2022-02-11T17:35:56.379205Z",
     "shell.execute_reply.started": "2022-02-11T17:10:16.211464Z"
    },
    "papermill": {
     "duration": 0.03178,
     "end_time": "2022-02-11T17:35:56.379374",
     "exception": false,
     "start_time": "2022-02-11T17:35:56.347594",
     "status": "completed"
    },
    "tags": []
   },
   "outputs": [
    {
     "data": {
      "text/plain": [
       "[('South Korea', 100),\n",
       " ('SouthKorea', 48),\n",
       " ('Saudi Arabia', 43),\n",
       " ('Norway', 35),\n",
       " ('Austria', 33),\n",
       " ('Ireland', 33),\n",
       " ('Pakistan', 32),\n",
       " ('Portugal', 32),\n",
       " ('Scotland', 32),\n",
       " ('Australia', 30)]"
      ]
     },
     "execution_count": 8,
     "metadata": {},
     "output_type": "execute_result"
    }
   ],
   "source": [
    "match=fuzzywuzzy.process.extract('South korea',unique_data,limit=10,scorer=fuzzywuzzy.fuzz.token_sort_ratio)\n",
    "match"
   ]
  },
  {
   "cell_type": "code",
   "execution_count": 9,
   "id": "cdb36e90",
   "metadata": {
    "execution": {
     "iopub.execute_input": "2022-02-11T17:35:56.429919Z",
     "iopub.status.busy": "2022-02-11T17:35:56.426028Z",
     "iopub.status.idle": "2022-02-11T17:35:56.432494Z",
     "shell.execute_reply": "2022-02-11T17:35:56.431927Z",
     "shell.execute_reply.started": "2022-02-11T17:10:17.805629Z"
    },
    "papermill": {
     "duration": 0.03149,
     "end_time": "2022-02-11T17:35:56.432647",
     "exception": false,
     "start_time": "2022-02-11T17:35:56.401157",
     "status": "completed"
    },
    "tags": []
   },
   "outputs": [],
   "source": [
    "def replace_sting(df,columns,text,ratio=47):\n",
    "    string=df[columns].unique()\n",
    "    match=fuzzywuzzy.process.extract(text,string,limit=10,scorer=fuzzywuzzy.fuzz.token_sort_ratio)\n",
    "    string_match=[i[0] for i in match if i[1]>=ratio]\n",
    "    row_match=df[columns].isin(string_match)\n",
    "    df.loc[row_match,columns]=text\n",
    "    print('Done')\n"
   ]
  },
  {
   "cell_type": "code",
   "execution_count": 10,
   "id": "3712db76",
   "metadata": {
    "execution": {
     "iopub.execute_input": "2022-02-11T17:35:56.486314Z",
     "iopub.status.busy": "2022-02-11T17:35:56.485646Z",
     "iopub.status.idle": "2022-02-11T17:35:56.489316Z",
     "shell.execute_reply": "2022-02-11T17:35:56.488481Z",
     "shell.execute_reply.started": "2022-02-11T17:10:20.018201Z"
    },
    "papermill": {
     "duration": 0.0342,
     "end_time": "2022-02-11T17:35:56.489527",
     "exception": false,
     "start_time": "2022-02-11T17:35:56.455327",
     "status": "completed"
    },
    "tags": []
   },
   "outputs": [
    {
     "name": "stdout",
     "output_type": "stream",
     "text": [
      "Done\n"
     ]
    }
   ],
   "source": [
    "replace_sting(df,'Country','South korea')"
   ]
  },
  {
   "cell_type": "code",
   "execution_count": 11,
   "id": "ebeade7c",
   "metadata": {
    "execution": {
     "iopub.execute_input": "2022-02-11T17:35:56.540307Z",
     "iopub.status.busy": "2022-02-11T17:35:56.539677Z",
     "iopub.status.idle": "2022-02-11T17:35:56.544852Z",
     "shell.execute_reply": "2022-02-11T17:35:56.545423Z",
     "shell.execute_reply.started": "2022-02-11T17:10:22.082102Z"
    },
    "papermill": {
     "duration": 0.03219,
     "end_time": "2022-02-11T17:35:56.545584",
     "exception": false,
     "start_time": "2022-02-11T17:35:56.513394",
     "status": "completed"
    },
    "tags": []
   },
   "outputs": [
    {
     "data": {
      "text/plain": [
       "array(['thailand', 'pakistan', 'germany', 'austria', 'australia', 'uk',\n",
       "       'china', 'france', 'usofa', 'South korea', 'malaysia', 'sweden',\n",
       "       'italy', 'canada', 'norway', 'ireland', 'new zealand', 'urbana',\n",
       "       'portugal', 'russian federation', 'usa', 'finland', 'netherland',\n",
       "       'greece', 'turkey', 'macau', 'singapore', 'spain', 'japan',\n",
       "       'hongkong', 'saudi arabia', 'mauritius', 'scotland'], dtype=object)"
      ]
     },
     "execution_count": 11,
     "metadata": {},
     "output_type": "execute_result"
    }
   ],
   "source": [
    "df['Country'].unique()"
   ]
  },
  {
   "cell_type": "code",
   "execution_count": 12,
   "id": "a98a647b",
   "metadata": {
    "execution": {
     "iopub.execute_input": "2022-02-11T17:35:56.594740Z",
     "iopub.status.busy": "2022-02-11T17:35:56.594037Z",
     "iopub.status.idle": "2022-02-11T17:35:56.599627Z",
     "shell.execute_reply": "2022-02-11T17:35:56.600119Z",
     "shell.execute_reply.started": "2022-02-11T17:15:08.530838Z"
    },
    "papermill": {
     "duration": 0.031683,
     "end_time": "2022-02-11T17:35:56.600291",
     "exception": false,
     "start_time": "2022-02-11T17:35:56.568608",
     "status": "completed"
    },
    "tags": []
   },
   "outputs": [
    {
     "data": {
      "text/plain": [
       "array(['PhD', 'BS', 'MCS', 'MS', 'BE', 'Phd', nan, 'PostDoc', 'Masters',\n",
       "       'MBA', 'MSc', 'BIT', 'MA', 'Mphil', 'MPhil', 'Post Doc', ' MCS',\n",
       "       'MIT', 'BSC', 'MSCS', 'BSIT', 'MSC', 'M.Phil', 'Master',\n",
       "       'Bachelors', 'M.Phil leading to PhD', 'BSCS', 'M.Sc', 'BCS', 'ME',\n",
       "       'B.Ed', 'M.A', 'M.Eng', 'MCIT', 'B.E', 'M.E', 'MSIT', 'Ph.D',\n",
       "       'MSSE', 'MSTN', 'Doctor of Professional Studies', 'BSc', 'BA'],\n",
       "      dtype=object)"
      ]
     },
     "execution_count": 12,
     "metadata": {},
     "output_type": "execute_result"
    }
   ],
   "source": [
    "string_df=df['Terminal Degree'].unique()\n",
    "\n",
    "string_df"
   ]
  },
  {
   "cell_type": "code",
   "execution_count": 13,
   "id": "25cc5005",
   "metadata": {
    "execution": {
     "iopub.execute_input": "2022-02-11T17:35:56.651710Z",
     "iopub.status.busy": "2022-02-11T17:35:56.651068Z",
     "iopub.status.idle": "2022-02-11T17:35:56.657384Z",
     "shell.execute_reply": "2022-02-11T17:35:56.658066Z",
     "shell.execute_reply.started": "2022-02-11T17:13:17.625471Z"
    },
    "papermill": {
     "duration": 0.032669,
     "end_time": "2022-02-11T17:35:56.658245",
     "exception": false,
     "start_time": "2022-02-11T17:35:56.625576",
     "status": "completed"
    },
    "tags": []
   },
   "outputs": [],
   "source": [
    "df['Terminal Degree']=df['Terminal Degree'].str.lower()\n",
    "df['Terminal Degree']=df['Terminal Degree'].str.strip()"
   ]
  },
  {
   "cell_type": "code",
   "execution_count": 14,
   "id": "1ba52b04",
   "metadata": {
    "execution": {
     "iopub.execute_input": "2022-02-11T17:35:56.708299Z",
     "iopub.status.busy": "2022-02-11T17:35:56.707719Z",
     "iopub.status.idle": "2022-02-11T17:35:56.713375Z",
     "shell.execute_reply": "2022-02-11T17:35:56.713956Z",
     "shell.execute_reply.started": "2022-02-11T17:13:32.717206Z"
    },
    "papermill": {
     "duration": 0.032478,
     "end_time": "2022-02-11T17:35:56.714129",
     "exception": false,
     "start_time": "2022-02-11T17:35:56.681651",
     "status": "completed"
    },
    "tags": []
   },
   "outputs": [
    {
     "data": {
      "text/plain": [
       "array(['phd', 'bs', 'mcs', 'ms', 'be', nan, 'postdoc', 'masters', 'mba',\n",
       "       'msc', 'bit', 'ma', 'mphil', 'post doc', 'mit', 'bsc', 'mscs',\n",
       "       'bsit', 'm.phil', 'master', 'bachelors', 'm.phil leading to phd',\n",
       "       'bscs', 'm.sc', 'bcs', 'me', 'b.ed', 'm.a', 'm.eng', 'mcit', 'b.e',\n",
       "       'm.e', 'msit', 'ph.d', 'msse', 'mstn',\n",
       "       'doctor of professional studies', 'ba'], dtype=object)"
      ]
     },
     "execution_count": 14,
     "metadata": {},
     "output_type": "execute_result"
    }
   ],
   "source": [
    "df['Terminal Degree'].unique()"
   ]
  },
  {
   "cell_type": "code",
   "execution_count": 15,
   "id": "71a57d92",
   "metadata": {
    "execution": {
     "iopub.execute_input": "2022-02-11T17:35:56.765227Z",
     "iopub.status.busy": "2022-02-11T17:35:56.764579Z",
     "iopub.status.idle": "2022-02-11T17:35:56.770943Z",
     "shell.execute_reply": "2022-02-11T17:35:56.771449Z",
     "shell.execute_reply.started": "2022-02-11T17:32:27.048236Z"
    },
    "papermill": {
     "duration": 0.033813,
     "end_time": "2022-02-11T17:35:56.771622",
     "exception": false,
     "start_time": "2022-02-11T17:35:56.737809",
     "status": "completed"
    },
    "tags": []
   },
   "outputs": [
    {
     "data": {
      "text/plain": [
       "[('BS', 100),\n",
       " ('BSC', 80),\n",
       " ('BCS', 80),\n",
       " ('BSc', 80),\n",
       " ('BSIT', 67),\n",
       " ('BSCS', 67),\n",
       " ('MS', 50),\n",
       " ('BE', 50),\n",
       " ('BA', 50),\n",
       " ('MCS', 40)]"
      ]
     },
     "execution_count": 15,
     "metadata": {},
     "output_type": "execute_result"
    }
   ],
   "source": [
    "match=fuzzywuzzy.process.extract('bs',string_df,limit=10,scorer=fuzzywuzzy.fuzz.token_sort_ratio)\n",
    "match"
   ]
  },
  {
   "cell_type": "code",
   "execution_count": 16,
   "id": "e9a9c74b",
   "metadata": {
    "execution": {
     "iopub.execute_input": "2022-02-11T17:35:56.823471Z",
     "iopub.status.busy": "2022-02-11T17:35:56.822869Z",
     "iopub.status.idle": "2022-02-11T17:35:56.826852Z",
     "shell.execute_reply": "2022-02-11T17:35:56.827420Z",
     "shell.execute_reply.started": "2022-02-11T17:21:48.297372Z"
    },
    "papermill": {
     "duration": 0.031385,
     "end_time": "2022-02-11T17:35:56.827581",
     "exception": false,
     "start_time": "2022-02-11T17:35:56.796196",
     "status": "completed"
    },
    "tags": []
   },
   "outputs": [],
   "source": [
    "def replace_string(text,df,columns,string):\n",
    "    row_match=df[columns].isin(string)\n",
    "    df.loc[row_match,columns]=text"
   ]
  },
  {
   "cell_type": "code",
   "execution_count": 17,
   "id": "daf22111",
   "metadata": {
    "execution": {
     "iopub.execute_input": "2022-02-11T17:35:56.878766Z",
     "iopub.status.busy": "2022-02-11T17:35:56.878084Z",
     "iopub.status.idle": "2022-02-11T17:35:56.883454Z",
     "shell.execute_reply": "2022-02-11T17:35:56.883927Z",
     "shell.execute_reply.started": "2022-02-11T17:33:57.086999Z"
    },
    "papermill": {
     "duration": 0.032276,
     "end_time": "2022-02-11T17:35:56.884111",
     "exception": false,
     "start_time": "2022-02-11T17:35:56.851835",
     "status": "completed"
    },
    "tags": []
   },
   "outputs": [],
   "source": [
    "match_string=['bs','bsc','bcs','bscs']\n",
    "replace_string('BS',df,'Terminal Degree',match_string)"
   ]
  },
  {
   "cell_type": "code",
   "execution_count": 18,
   "id": "88785a48",
   "metadata": {
    "execution": {
     "iopub.execute_input": "2022-02-11T17:35:56.938178Z",
     "iopub.status.busy": "2022-02-11T17:35:56.937515Z",
     "iopub.status.idle": "2022-02-11T17:35:56.941561Z",
     "shell.execute_reply": "2022-02-11T17:35:56.941036Z",
     "shell.execute_reply.started": "2022-02-11T17:34:09.503665Z"
    },
    "papermill": {
     "duration": 0.03353,
     "end_time": "2022-02-11T17:35:56.941707",
     "exception": false,
     "start_time": "2022-02-11T17:35:56.908177",
     "status": "completed"
    },
    "tags": []
   },
   "outputs": [
    {
     "data": {
      "text/plain": [
       "array(['phd', 'BS', 'mcs', 'ms', 'be', nan, 'postdoc', 'masters', 'mba',\n",
       "       'msc', 'bit', 'ma', 'mphil', 'post doc', 'mit', 'mscs', 'bsit',\n",
       "       'm.phil', 'master', 'bachelors', 'm.phil leading to phd', 'm.sc',\n",
       "       'me', 'b.ed', 'm.a', 'm.eng', 'mcit', 'b.e', 'm.e', 'msit', 'ph.d',\n",
       "       'msse', 'mstn', 'doctor of professional studies', 'ba'],\n",
       "      dtype=object)"
      ]
     },
     "execution_count": 18,
     "metadata": {},
     "output_type": "execute_result"
    }
   ],
   "source": [
    "df['Terminal Degree'].unique()"
   ]
  },
  {
   "cell_type": "code",
   "execution_count": null,
   "id": "b8b37974",
   "metadata": {
    "papermill": {
     "duration": 0.024005,
     "end_time": "2022-02-11T17:35:56.990176",
     "exception": false,
     "start_time": "2022-02-11T17:35:56.966171",
     "status": "completed"
    },
    "tags": []
   },
   "outputs": [],
   "source": []
  }
 ],
 "metadata": {
  "kernelspec": {
   "display_name": "Python 3",
   "language": "python",
   "name": "python3"
  },
  "language_info": {
   "codemirror_mode": {
    "name": "ipython",
    "version": 3
   },
   "file_extension": ".py",
   "mimetype": "text/x-python",
   "name": "python",
   "nbconvert_exporter": "python",
   "pygments_lexer": "ipython3",
   "version": "3.7.12"
  },
  "papermill": {
   "default_parameters": {},
   "duration": 12.888665,
   "end_time": "2022-02-11T17:35:57.724805",
   "environment_variables": {},
   "exception": null,
   "input_path": "__notebook__.ipynb",
   "output_path": "__notebook__.ipynb",
   "parameters": {},
   "start_time": "2022-02-11T17:35:44.836140",
   "version": "2.3.3"
  }
 },
 "nbformat": 4,
 "nbformat_minor": 5
}
