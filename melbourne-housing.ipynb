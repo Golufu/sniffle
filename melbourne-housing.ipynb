{
 "cells": [
  {
   "cell_type": "code",
   "execution_count": 1,
   "id": "327160e6",
   "metadata": {
    "_cell_guid": "b1076dfc-b9ad-4769-8c92-a6c4dae69d19",
    "_uuid": "8f2839f25d086af736a60e9eeb907d3b93b6e0e5",
    "execution": {
     "iopub.execute_input": "2022-02-12T02:21:06.753287Z",
     "iopub.status.busy": "2022-02-12T02:21:06.752628Z",
     "iopub.status.idle": "2022-02-12T02:21:06.795869Z",
     "shell.execute_reply": "2022-02-12T02:21:06.796514Z",
     "shell.execute_reply.started": "2022-02-11T18:45:57.544832Z"
    },
    "papermill": {
     "duration": 0.085611,
     "end_time": "2022-02-12T02:21:06.796812",
     "exception": false,
     "start_time": "2022-02-12T02:21:06.711201",
     "status": "completed"
    },
    "tags": []
   },
   "outputs": [
    {
     "name": "stdout",
     "output_type": "stream",
     "text": [
      "/kaggle/input/melbourne-housing-market/Melbourne_housing_FULL.csv\n",
      "/kaggle/input/melbourne-housing-market/MELBOURNE_HOUSE_PRICES_LESS.csv\n",
      "/kaggle/input/housing-prices-competition-for-kaggle-learn-users/train.csv\n",
      "/kaggle/input/housing-prices-competition-for-kaggle-learn-users/test.csv\n",
      "/kaggle/input/melbourne-housing-snapshot/melb_data.csv\n",
      "/kaggle/input/house-prices/train_test_analysis.xlsx\n",
      "/kaggle/input/house-prices/submission.csv\n",
      "/kaggle/input/house-prices/train.csv\n",
      "/kaggle/input/house-prices/test.csv\n",
      "/kaggle/input/mobile-price-classification/train.csv\n",
      "/kaggle/input/mobile-price-classification/test.csv\n"
     ]
    }
   ],
   "source": [
    "# This Python 3 environment comes with many helpful analytics libraries installed\n",
    "# It is defined by the kaggle/python Docker image: https://github.com/kaggle/docker-python\n",
    "# For example, here's several helpful packages to load\n",
    "\n",
    "import numpy as np # linear algebra\n",
    "import pandas as pd # data processing, CSV file I/O (e.g. pd.read_csv)\n",
    "\n",
    "# Input data files are available in the read-only \"../input/\" directory\n",
    "# For example, running this (by clicking run or pressing Shift+Enter) will list all files under the input directory\n",
    "\n",
    "import os\n",
    "for dirname, _, filenames in os.walk('/kaggle/input'):\n",
    "    for filename in filenames:\n",
    "        print(os.path.join(dirname, filename))\n",
    "\n",
    "# You can write up to 20GB to the current directory (/kaggle/working/) that gets preserved as output when you create a version using \"Save & Run All\" \n",
    "# You can also write temporary files to /kaggle/temp/, but they won't be saved outside of the current session"
   ]
  },
  {
   "cell_type": "code",
   "execution_count": 2,
   "id": "d0316a6f",
   "metadata": {
    "execution": {
     "iopub.execute_input": "2022-02-12T02:21:06.863951Z",
     "iopub.status.busy": "2022-02-12T02:21:06.863271Z",
     "iopub.status.idle": "2022-02-12T02:21:07.126587Z",
     "shell.execute_reply": "2022-02-12T02:21:07.127091Z",
     "shell.execute_reply.started": "2022-02-11T20:39:12.444316Z"
    },
    "papermill": {
     "duration": 0.298294,
     "end_time": "2022-02-12T02:21:07.127280",
     "exception": false,
     "start_time": "2022-02-12T02:21:06.828986",
     "status": "completed"
    },
    "tags": []
   },
   "outputs": [
    {
     "data": {
      "text/html": [
       "<div>\n",
       "<style scoped>\n",
       "    .dataframe tbody tr th:only-of-type {\n",
       "        vertical-align: middle;\n",
       "    }\n",
       "\n",
       "    .dataframe tbody tr th {\n",
       "        vertical-align: top;\n",
       "    }\n",
       "\n",
       "    .dataframe thead th {\n",
       "        text-align: right;\n",
       "    }\n",
       "</style>\n",
       "<table border=\"1\" class=\"dataframe\">\n",
       "  <thead>\n",
       "    <tr style=\"text-align: right;\">\n",
       "      <th></th>\n",
       "      <th>Suburb</th>\n",
       "      <th>Address</th>\n",
       "      <th>Rooms</th>\n",
       "      <th>Type</th>\n",
       "      <th>Price</th>\n",
       "      <th>Method</th>\n",
       "      <th>SellerG</th>\n",
       "      <th>Date</th>\n",
       "      <th>Distance</th>\n",
       "      <th>Postcode</th>\n",
       "      <th>...</th>\n",
       "      <th>Bathroom</th>\n",
       "      <th>Car</th>\n",
       "      <th>Landsize</th>\n",
       "      <th>BuildingArea</th>\n",
       "      <th>YearBuilt</th>\n",
       "      <th>CouncilArea</th>\n",
       "      <th>Lattitude</th>\n",
       "      <th>Longtitude</th>\n",
       "      <th>Regionname</th>\n",
       "      <th>Propertycount</th>\n",
       "    </tr>\n",
       "  </thead>\n",
       "  <tbody>\n",
       "    <tr>\n",
       "      <th>0</th>\n",
       "      <td>Abbotsford</td>\n",
       "      <td>68 Studley St</td>\n",
       "      <td>2</td>\n",
       "      <td>h</td>\n",
       "      <td>NaN</td>\n",
       "      <td>SS</td>\n",
       "      <td>Jellis</td>\n",
       "      <td>3/09/2016</td>\n",
       "      <td>2.5</td>\n",
       "      <td>3067.0</td>\n",
       "      <td>...</td>\n",
       "      <td>1.0</td>\n",
       "      <td>1.0</td>\n",
       "      <td>126.0</td>\n",
       "      <td>NaN</td>\n",
       "      <td>NaN</td>\n",
       "      <td>Yarra City Council</td>\n",
       "      <td>-37.8014</td>\n",
       "      <td>144.9958</td>\n",
       "      <td>Northern Metropolitan</td>\n",
       "      <td>4019.0</td>\n",
       "    </tr>\n",
       "    <tr>\n",
       "      <th>1</th>\n",
       "      <td>Abbotsford</td>\n",
       "      <td>85 Turner St</td>\n",
       "      <td>2</td>\n",
       "      <td>h</td>\n",
       "      <td>1480000.0</td>\n",
       "      <td>S</td>\n",
       "      <td>Biggin</td>\n",
       "      <td>3/12/2016</td>\n",
       "      <td>2.5</td>\n",
       "      <td>3067.0</td>\n",
       "      <td>...</td>\n",
       "      <td>1.0</td>\n",
       "      <td>1.0</td>\n",
       "      <td>202.0</td>\n",
       "      <td>NaN</td>\n",
       "      <td>NaN</td>\n",
       "      <td>Yarra City Council</td>\n",
       "      <td>-37.7996</td>\n",
       "      <td>144.9984</td>\n",
       "      <td>Northern Metropolitan</td>\n",
       "      <td>4019.0</td>\n",
       "    </tr>\n",
       "    <tr>\n",
       "      <th>2</th>\n",
       "      <td>Abbotsford</td>\n",
       "      <td>25 Bloomburg St</td>\n",
       "      <td>2</td>\n",
       "      <td>h</td>\n",
       "      <td>1035000.0</td>\n",
       "      <td>S</td>\n",
       "      <td>Biggin</td>\n",
       "      <td>4/02/2016</td>\n",
       "      <td>2.5</td>\n",
       "      <td>3067.0</td>\n",
       "      <td>...</td>\n",
       "      <td>1.0</td>\n",
       "      <td>0.0</td>\n",
       "      <td>156.0</td>\n",
       "      <td>79.0</td>\n",
       "      <td>1900.0</td>\n",
       "      <td>Yarra City Council</td>\n",
       "      <td>-37.8079</td>\n",
       "      <td>144.9934</td>\n",
       "      <td>Northern Metropolitan</td>\n",
       "      <td>4019.0</td>\n",
       "    </tr>\n",
       "    <tr>\n",
       "      <th>3</th>\n",
       "      <td>Abbotsford</td>\n",
       "      <td>18/659 Victoria St</td>\n",
       "      <td>3</td>\n",
       "      <td>u</td>\n",
       "      <td>NaN</td>\n",
       "      <td>VB</td>\n",
       "      <td>Rounds</td>\n",
       "      <td>4/02/2016</td>\n",
       "      <td>2.5</td>\n",
       "      <td>3067.0</td>\n",
       "      <td>...</td>\n",
       "      <td>2.0</td>\n",
       "      <td>1.0</td>\n",
       "      <td>0.0</td>\n",
       "      <td>NaN</td>\n",
       "      <td>NaN</td>\n",
       "      <td>Yarra City Council</td>\n",
       "      <td>-37.8114</td>\n",
       "      <td>145.0116</td>\n",
       "      <td>Northern Metropolitan</td>\n",
       "      <td>4019.0</td>\n",
       "    </tr>\n",
       "    <tr>\n",
       "      <th>4</th>\n",
       "      <td>Abbotsford</td>\n",
       "      <td>5 Charles St</td>\n",
       "      <td>3</td>\n",
       "      <td>h</td>\n",
       "      <td>1465000.0</td>\n",
       "      <td>SP</td>\n",
       "      <td>Biggin</td>\n",
       "      <td>4/03/2017</td>\n",
       "      <td>2.5</td>\n",
       "      <td>3067.0</td>\n",
       "      <td>...</td>\n",
       "      <td>2.0</td>\n",
       "      <td>0.0</td>\n",
       "      <td>134.0</td>\n",
       "      <td>150.0</td>\n",
       "      <td>1900.0</td>\n",
       "      <td>Yarra City Council</td>\n",
       "      <td>-37.8093</td>\n",
       "      <td>144.9944</td>\n",
       "      <td>Northern Metropolitan</td>\n",
       "      <td>4019.0</td>\n",
       "    </tr>\n",
       "  </tbody>\n",
       "</table>\n",
       "<p>5 rows × 21 columns</p>\n",
       "</div>"
      ],
      "text/plain": [
       "       Suburb             Address  Rooms Type      Price Method SellerG  \\\n",
       "0  Abbotsford       68 Studley St      2    h        NaN     SS  Jellis   \n",
       "1  Abbotsford        85 Turner St      2    h  1480000.0      S  Biggin   \n",
       "2  Abbotsford     25 Bloomburg St      2    h  1035000.0      S  Biggin   \n",
       "3  Abbotsford  18/659 Victoria St      3    u        NaN     VB  Rounds   \n",
       "4  Abbotsford        5 Charles St      3    h  1465000.0     SP  Biggin   \n",
       "\n",
       "        Date  Distance  Postcode  ...  Bathroom  Car  Landsize  BuildingArea  \\\n",
       "0  3/09/2016       2.5    3067.0  ...       1.0  1.0     126.0           NaN   \n",
       "1  3/12/2016       2.5    3067.0  ...       1.0  1.0     202.0           NaN   \n",
       "2  4/02/2016       2.5    3067.0  ...       1.0  0.0     156.0          79.0   \n",
       "3  4/02/2016       2.5    3067.0  ...       2.0  1.0       0.0           NaN   \n",
       "4  4/03/2017       2.5    3067.0  ...       2.0  0.0     134.0         150.0   \n",
       "\n",
       "   YearBuilt         CouncilArea Lattitude  Longtitude             Regionname  \\\n",
       "0        NaN  Yarra City Council  -37.8014    144.9958  Northern Metropolitan   \n",
       "1        NaN  Yarra City Council  -37.7996    144.9984  Northern Metropolitan   \n",
       "2     1900.0  Yarra City Council  -37.8079    144.9934  Northern Metropolitan   \n",
       "3        NaN  Yarra City Council  -37.8114    145.0116  Northern Metropolitan   \n",
       "4     1900.0  Yarra City Council  -37.8093    144.9944  Northern Metropolitan   \n",
       "\n",
       "  Propertycount  \n",
       "0        4019.0  \n",
       "1        4019.0  \n",
       "2        4019.0  \n",
       "3        4019.0  \n",
       "4        4019.0  \n",
       "\n",
       "[5 rows x 21 columns]"
      ]
     },
     "execution_count": 2,
     "metadata": {},
     "output_type": "execute_result"
    }
   ],
   "source": [
    "import pandas as pd\n",
    "\n",
    "df=pd.read_csv('../input/melbourne-housing-market/Melbourne_housing_FULL.csv')\n",
    "df.head()\n"
   ]
  },
  {
   "cell_type": "code",
   "execution_count": 3,
   "id": "3b926dbd",
   "metadata": {
    "execution": {
     "iopub.execute_input": "2022-02-12T02:21:07.199222Z",
     "iopub.status.busy": "2022-02-12T02:21:07.198299Z",
     "iopub.status.idle": "2022-02-12T02:21:07.201732Z",
     "shell.execute_reply": "2022-02-12T02:21:07.202232Z",
     "shell.execute_reply.started": "2022-02-11T20:39:12.995633Z"
    },
    "papermill": {
     "duration": 0.042116,
     "end_time": "2022-02-12T02:21:07.202397",
     "exception": false,
     "start_time": "2022-02-12T02:21:07.160281",
     "status": "completed"
    },
    "tags": []
   },
   "outputs": [
    {
     "data": {
      "text/plain": [
       "(34857, 21)"
      ]
     },
     "execution_count": 3,
     "metadata": {},
     "output_type": "execute_result"
    }
   ],
   "source": [
    "df.shape"
   ]
  },
  {
   "cell_type": "code",
   "execution_count": 4,
   "id": "ab24182b",
   "metadata": {
    "execution": {
     "iopub.execute_input": "2022-02-12T02:21:07.272981Z",
     "iopub.status.busy": "2022-02-12T02:21:07.272269Z",
     "iopub.status.idle": "2022-02-12T02:21:07.311688Z",
     "shell.execute_reply": "2022-02-12T02:21:07.311082Z",
     "shell.execute_reply.started": "2022-02-11T20:39:13.484429Z"
    },
    "papermill": {
     "duration": 0.077194,
     "end_time": "2022-02-12T02:21:07.311836",
     "exception": false,
     "start_time": "2022-02-12T02:21:07.234642",
     "status": "completed"
    },
    "tags": []
   },
   "outputs": [
    {
     "data": {
      "text/plain": [
       "Suburb               0\n",
       "Address              0\n",
       "Rooms                0\n",
       "Type                 0\n",
       "Price             7610\n",
       "Method               0\n",
       "SellerG              0\n",
       "Date                 0\n",
       "Distance             1\n",
       "Postcode             1\n",
       "Bedroom2          8217\n",
       "Bathroom          8226\n",
       "Car               8728\n",
       "Landsize         11810\n",
       "BuildingArea     21115\n",
       "YearBuilt        19306\n",
       "CouncilArea          3\n",
       "Lattitude         7976\n",
       "Longtitude        7976\n",
       "Regionname           3\n",
       "Propertycount        3\n",
       "dtype: int64"
      ]
     },
     "execution_count": 4,
     "metadata": {},
     "output_type": "execute_result"
    }
   ],
   "source": [
    "df.isnull().sum()"
   ]
  },
  {
   "cell_type": "code",
   "execution_count": 5,
   "id": "d8a39cf5",
   "metadata": {
    "execution": {
     "iopub.execute_input": "2022-02-12T02:21:07.381872Z",
     "iopub.status.busy": "2022-02-12T02:21:07.380785Z",
     "iopub.status.idle": "2022-02-12T02:21:07.426597Z",
     "shell.execute_reply": "2022-02-12T02:21:07.427071Z",
     "shell.execute_reply.started": "2022-02-11T20:39:14.097943Z"
    },
    "papermill": {
     "duration": 0.082532,
     "end_time": "2022-02-12T02:21:07.427283",
     "exception": false,
     "start_time": "2022-02-12T02:21:07.344751",
     "status": "completed"
    },
    "tags": []
   },
   "outputs": [
    {
     "data": {
      "text/html": [
       "<div>\n",
       "<style scoped>\n",
       "    .dataframe tbody tr th:only-of-type {\n",
       "        vertical-align: middle;\n",
       "    }\n",
       "\n",
       "    .dataframe tbody tr th {\n",
       "        vertical-align: top;\n",
       "    }\n",
       "\n",
       "    .dataframe thead th {\n",
       "        text-align: right;\n",
       "    }\n",
       "</style>\n",
       "<table border=\"1\" class=\"dataframe\">\n",
       "  <thead>\n",
       "    <tr style=\"text-align: right;\">\n",
       "      <th></th>\n",
       "      <th>level_0</th>\n",
       "      <th>level_1</th>\n",
       "      <th>0</th>\n",
       "    </tr>\n",
       "  </thead>\n",
       "  <tbody>\n",
       "    <tr>\n",
       "      <th>5</th>\n",
       "      <td>BuildingArea</td>\n",
       "      <td>BuildingArea</td>\n",
       "      <td>1.000000</td>\n",
       "    </tr>\n",
       "    <tr>\n",
       "      <th>33</th>\n",
       "      <td>BuildingArea</td>\n",
       "      <td>Landsize</td>\n",
       "      <td>0.354530</td>\n",
       "    </tr>\n",
       "    <tr>\n",
       "      <th>64</th>\n",
       "      <td>BuildingArea</td>\n",
       "      <td>Rooms</td>\n",
       "      <td>0.156229</td>\n",
       "    </tr>\n",
       "    <tr>\n",
       "      <th>65</th>\n",
       "      <td>BuildingArea</td>\n",
       "      <td>Bedroom2</td>\n",
       "      <td>0.154157</td>\n",
       "    </tr>\n",
       "    <tr>\n",
       "      <th>67</th>\n",
       "      <td>BuildingArea</td>\n",
       "      <td>Bathroom</td>\n",
       "      <td>0.147558</td>\n",
       "    </tr>\n",
       "    <tr>\n",
       "      <th>79</th>\n",
       "      <td>BuildingArea</td>\n",
       "      <td>Car</td>\n",
       "      <td>0.104373</td>\n",
       "    </tr>\n",
       "    <tr>\n",
       "      <th>84</th>\n",
       "      <td>BuildingArea</td>\n",
       "      <td>Price</td>\n",
       "      <td>0.100754</td>\n",
       "    </tr>\n",
       "    <tr>\n",
       "      <th>96</th>\n",
       "      <td>BuildingArea</td>\n",
       "      <td>Distance</td>\n",
       "      <td>0.076301</td>\n",
       "    </tr>\n",
       "    <tr>\n",
       "      <th>102</th>\n",
       "      <td>BuildingArea</td>\n",
       "      <td>YearBuilt</td>\n",
       "      <td>0.067811</td>\n",
       "    </tr>\n",
       "    <tr>\n",
       "      <th>118</th>\n",
       "      <td>BuildingArea</td>\n",
       "      <td>Postcode</td>\n",
       "      <td>0.042437</td>\n",
       "    </tr>\n",
       "    <tr>\n",
       "      <th>136</th>\n",
       "      <td>BuildingArea</td>\n",
       "      <td>Propertycount</td>\n",
       "      <td>0.024523</td>\n",
       "    </tr>\n",
       "    <tr>\n",
       "      <th>145</th>\n",
       "      <td>BuildingArea</td>\n",
       "      <td>Lattitude</td>\n",
       "      <td>0.017155</td>\n",
       "    </tr>\n",
       "    <tr>\n",
       "      <th>166</th>\n",
       "      <td>BuildingArea</td>\n",
       "      <td>Longtitude</td>\n",
       "      <td>0.002143</td>\n",
       "    </tr>\n",
       "  </tbody>\n",
       "</table>\n",
       "</div>"
      ],
      "text/plain": [
       "          level_0        level_1         0\n",
       "5    BuildingArea   BuildingArea  1.000000\n",
       "33   BuildingArea       Landsize  0.354530\n",
       "64   BuildingArea          Rooms  0.156229\n",
       "65   BuildingArea       Bedroom2  0.154157\n",
       "67   BuildingArea       Bathroom  0.147558\n",
       "79   BuildingArea            Car  0.104373\n",
       "84   BuildingArea          Price  0.100754\n",
       "96   BuildingArea       Distance  0.076301\n",
       "102  BuildingArea      YearBuilt  0.067811\n",
       "118  BuildingArea       Postcode  0.042437\n",
       "136  BuildingArea  Propertycount  0.024523\n",
       "145  BuildingArea      Lattitude  0.017155\n",
       "166  BuildingArea     Longtitude  0.002143"
      ]
     },
     "execution_count": 5,
     "metadata": {},
     "output_type": "execute_result"
    }
   ],
   "source": [
    "data_corr=df.corr().abs().unstack().sort_values(ascending=False).reset_index()\n",
    "data_corr[data_corr['level_0']=='BuildingArea']\n"
   ]
  },
  {
   "cell_type": "code",
   "execution_count": 6,
   "id": "2df74bba",
   "metadata": {
    "execution": {
     "iopub.execute_input": "2022-02-12T02:21:07.501556Z",
     "iopub.status.busy": "2022-02-12T02:21:07.500744Z",
     "iopub.status.idle": "2022-02-12T02:21:08.637844Z",
     "shell.execute_reply": "2022-02-12T02:21:08.637153Z",
     "shell.execute_reply.started": "2022-02-11T20:39:14.533040Z"
    },
    "papermill": {
     "duration": 1.177541,
     "end_time": "2022-02-12T02:21:08.638005",
     "exception": false,
     "start_time": "2022-02-12T02:21:07.460464",
     "status": "completed"
    },
    "tags": []
   },
   "outputs": [],
   "source": [
    "import seaborn as sns\n",
    "import matplotlib.pyplot as plt"
   ]
  },
  {
   "cell_type": "code",
   "execution_count": 7,
   "id": "c24493d3",
   "metadata": {
    "execution": {
     "iopub.execute_input": "2022-02-12T02:21:08.714560Z",
     "iopub.status.busy": "2022-02-12T02:21:08.713549Z",
     "iopub.status.idle": "2022-02-12T02:21:08.718686Z",
     "shell.execute_reply": "2022-02-12T02:21:08.719312Z",
     "shell.execute_reply.started": "2022-02-11T20:39:15.157832Z"
    },
    "papermill": {
     "duration": 0.045582,
     "end_time": "2022-02-12T02:21:08.719495",
     "exception": false,
     "start_time": "2022-02-12T02:21:08.673913",
     "status": "completed"
    },
    "tags": []
   },
   "outputs": [
    {
     "data": {
      "text/plain": [
       "7610"
      ]
     },
     "execution_count": 7,
     "metadata": {},
     "output_type": "execute_result"
    }
   ],
   "source": [
    "df['Price'].isnull().sum()"
   ]
  },
  {
   "cell_type": "markdown",
   "id": "35c26550",
   "metadata": {
    "papermill": {
     "duration": 0.034155,
     "end_time": "2022-02-12T02:21:08.787970",
     "exception": false,
     "start_time": "2022-02-12T02:21:08.753815",
     "status": "completed"
    },
    "tags": []
   },
   "source": []
  },
  {
   "cell_type": "code",
   "execution_count": 8,
   "id": "5106c42e",
   "metadata": {
    "execution": {
     "iopub.execute_input": "2022-02-12T02:21:08.859414Z",
     "iopub.status.busy": "2022-02-12T02:21:08.858414Z",
     "iopub.status.idle": "2022-02-12T02:21:08.874111Z",
     "shell.execute_reply": "2022-02-12T02:21:08.874690Z",
     "shell.execute_reply.started": "2022-02-11T20:39:16.204678Z"
    },
    "papermill": {
     "duration": 0.053089,
     "end_time": "2022-02-12T02:21:08.874871",
     "exception": false,
     "start_time": "2022-02-12T02:21:08.821782",
     "status": "completed"
    },
    "tags": []
   },
   "outputs": [],
   "source": [
    "df.dropna(subset=['Price'],inplace=True)"
   ]
  },
  {
   "cell_type": "code",
   "execution_count": 9,
   "id": "38e766ba",
   "metadata": {
    "execution": {
     "iopub.execute_input": "2022-02-12T02:21:08.947996Z",
     "iopub.status.busy": "2022-02-12T02:21:08.947009Z",
     "iopub.status.idle": "2022-02-12T02:21:08.952523Z",
     "shell.execute_reply": "2022-02-12T02:21:08.953076Z",
     "shell.execute_reply.started": "2022-02-11T20:39:16.780633Z"
    },
    "papermill": {
     "duration": 0.044122,
     "end_time": "2022-02-12T02:21:08.953283",
     "exception": false,
     "start_time": "2022-02-12T02:21:08.909161",
     "status": "completed"
    },
    "tags": []
   },
   "outputs": [
    {
     "data": {
      "text/plain": [
       "(27247, 21)"
      ]
     },
     "execution_count": 9,
     "metadata": {},
     "output_type": "execute_result"
    }
   ],
   "source": [
    "df.shape"
   ]
  },
  {
   "cell_type": "code",
   "execution_count": 10,
   "id": "9c57a30c",
   "metadata": {
    "execution": {
     "iopub.execute_input": "2022-02-12T02:21:09.025435Z",
     "iopub.status.busy": "2022-02-12T02:21:09.024414Z",
     "iopub.status.idle": "2022-02-12T02:21:09.057801Z",
     "shell.execute_reply": "2022-02-12T02:21:09.057261Z",
     "shell.execute_reply.started": "2022-02-11T20:39:17.726625Z"
    },
    "papermill": {
     "duration": 0.070789,
     "end_time": "2022-02-12T02:21:09.057950",
     "exception": false,
     "start_time": "2022-02-12T02:21:08.987161",
     "status": "completed"
    },
    "tags": []
   },
   "outputs": [
    {
     "data": {
      "text/plain": [
       "Suburb               0\n",
       "Address              0\n",
       "Rooms                0\n",
       "Type                 0\n",
       "Price                0\n",
       "Method               0\n",
       "SellerG              0\n",
       "Date                 0\n",
       "Distance             1\n",
       "Postcode             1\n",
       "Bedroom2          6441\n",
       "Bathroom          6447\n",
       "Car               6824\n",
       "Landsize          9265\n",
       "BuildingArea     16591\n",
       "YearBuilt        15163\n",
       "CouncilArea          3\n",
       "Lattitude         6254\n",
       "Longtitude        6254\n",
       "Regionname           3\n",
       "Propertycount        3\n",
       "dtype: int64"
      ]
     },
     "execution_count": 10,
     "metadata": {},
     "output_type": "execute_result"
    }
   ],
   "source": [
    "df.isnull().sum()"
   ]
  },
  {
   "cell_type": "code",
   "execution_count": 11,
   "id": "41fe4696",
   "metadata": {
    "execution": {
     "iopub.execute_input": "2022-02-12T02:21:09.131486Z",
     "iopub.status.busy": "2022-02-12T02:21:09.130491Z",
     "iopub.status.idle": "2022-02-12T02:21:09.166015Z",
     "shell.execute_reply": "2022-02-12T02:21:09.166542Z",
     "shell.execute_reply.started": "2022-02-11T20:39:18.357293Z"
    },
    "papermill": {
     "duration": 0.073853,
     "end_time": "2022-02-12T02:21:09.166733",
     "exception": false,
     "start_time": "2022-02-12T02:21:09.092880",
     "status": "completed"
    },
    "tags": []
   },
   "outputs": [
    {
     "data": {
      "text/html": [
       "<div>\n",
       "<style scoped>\n",
       "    .dataframe tbody tr th:only-of-type {\n",
       "        vertical-align: middle;\n",
       "    }\n",
       "\n",
       "    .dataframe tbody tr th {\n",
       "        vertical-align: top;\n",
       "    }\n",
       "\n",
       "    .dataframe thead th {\n",
       "        text-align: right;\n",
       "    }\n",
       "</style>\n",
       "<table border=\"1\" class=\"dataframe\">\n",
       "  <thead>\n",
       "    <tr style=\"text-align: right;\">\n",
       "      <th></th>\n",
       "      <th>level_0</th>\n",
       "      <th>level_1</th>\n",
       "      <th>0</th>\n",
       "    </tr>\n",
       "  </thead>\n",
       "  <tbody>\n",
       "    <tr>\n",
       "      <th>5</th>\n",
       "      <td>BuildingArea</td>\n",
       "      <td>BuildingArea</td>\n",
       "      <td>1.000000</td>\n",
       "    </tr>\n",
       "    <tr>\n",
       "      <th>31</th>\n",
       "      <td>BuildingArea</td>\n",
       "      <td>Landsize</td>\n",
       "      <td>0.375341</td>\n",
       "    </tr>\n",
       "    <tr>\n",
       "      <th>65</th>\n",
       "      <td>BuildingArea</td>\n",
       "      <td>Rooms</td>\n",
       "      <td>0.138519</td>\n",
       "    </tr>\n",
       "    <tr>\n",
       "      <th>67</th>\n",
       "      <td>BuildingArea</td>\n",
       "      <td>Bedroom2</td>\n",
       "      <td>0.136956</td>\n",
       "    </tr>\n",
       "    <tr>\n",
       "      <th>70</th>\n",
       "      <td>BuildingArea</td>\n",
       "      <td>Bathroom</td>\n",
       "      <td>0.129216</td>\n",
       "    </tr>\n",
       "    <tr>\n",
       "      <th>77</th>\n",
       "      <td>BuildingArea</td>\n",
       "      <td>Price</td>\n",
       "      <td>0.100754</td>\n",
       "    </tr>\n",
       "    <tr>\n",
       "      <th>84</th>\n",
       "      <td>BuildingArea</td>\n",
       "      <td>Car</td>\n",
       "      <td>0.094166</td>\n",
       "    </tr>\n",
       "    <tr>\n",
       "      <th>98</th>\n",
       "      <td>BuildingArea</td>\n",
       "      <td>Distance</td>\n",
       "      <td>0.076786</td>\n",
       "    </tr>\n",
       "    <tr>\n",
       "      <th>99</th>\n",
       "      <td>BuildingArea</td>\n",
       "      <td>YearBuilt</td>\n",
       "      <td>0.072976</td>\n",
       "    </tr>\n",
       "    <tr>\n",
       "      <th>113</th>\n",
       "      <td>BuildingArea</td>\n",
       "      <td>Postcode</td>\n",
       "      <td>0.041697</td>\n",
       "    </tr>\n",
       "    <tr>\n",
       "      <th>136</th>\n",
       "      <td>BuildingArea</td>\n",
       "      <td>Propertycount</td>\n",
       "      <td>0.026473</td>\n",
       "    </tr>\n",
       "    <tr>\n",
       "      <th>138</th>\n",
       "      <td>BuildingArea</td>\n",
       "      <td>Lattitude</td>\n",
       "      <td>0.025880</td>\n",
       "    </tr>\n",
       "    <tr>\n",
       "      <th>160</th>\n",
       "      <td>BuildingArea</td>\n",
       "      <td>Longtitude</td>\n",
       "      <td>0.010702</td>\n",
       "    </tr>\n",
       "  </tbody>\n",
       "</table>\n",
       "</div>"
      ],
      "text/plain": [
       "          level_0        level_1         0\n",
       "5    BuildingArea   BuildingArea  1.000000\n",
       "31   BuildingArea       Landsize  0.375341\n",
       "65   BuildingArea          Rooms  0.138519\n",
       "67   BuildingArea       Bedroom2  0.136956\n",
       "70   BuildingArea       Bathroom  0.129216\n",
       "77   BuildingArea          Price  0.100754\n",
       "84   BuildingArea            Car  0.094166\n",
       "98   BuildingArea       Distance  0.076786\n",
       "99   BuildingArea      YearBuilt  0.072976\n",
       "113  BuildingArea       Postcode  0.041697\n",
       "136  BuildingArea  Propertycount  0.026473\n",
       "138  BuildingArea      Lattitude  0.025880\n",
       "160  BuildingArea     Longtitude  0.010702"
      ]
     },
     "execution_count": 11,
     "metadata": {},
     "output_type": "execute_result"
    }
   ],
   "source": [
    "data_corr=df.corr().abs().unstack().sort_values(ascending=False).reset_index()\n",
    "data_corr[data_corr['level_0']=='BuildingArea']"
   ]
  },
  {
   "cell_type": "code",
   "execution_count": 12,
   "id": "e0f6c214",
   "metadata": {
    "execution": {
     "iopub.execute_input": "2022-02-12T02:21:09.240893Z",
     "iopub.status.busy": "2022-02-12T02:21:09.239919Z",
     "iopub.status.idle": "2022-02-12T02:21:09.276240Z",
     "shell.execute_reply": "2022-02-12T02:21:09.275537Z",
     "shell.execute_reply.started": "2022-02-11T20:39:18.825064Z"
    },
    "papermill": {
     "duration": 0.074376,
     "end_time": "2022-02-12T02:21:09.276389",
     "exception": false,
     "start_time": "2022-02-12T02:21:09.202013",
     "status": "completed"
    },
    "tags": []
   },
   "outputs": [
    {
     "data": {
      "text/html": [
       "<div>\n",
       "<style scoped>\n",
       "    .dataframe tbody tr th:only-of-type {\n",
       "        vertical-align: middle;\n",
       "    }\n",
       "\n",
       "    .dataframe tbody tr th {\n",
       "        vertical-align: top;\n",
       "    }\n",
       "\n",
       "    .dataframe thead th {\n",
       "        text-align: right;\n",
       "    }\n",
       "</style>\n",
       "<table border=\"1\" class=\"dataframe\">\n",
       "  <thead>\n",
       "    <tr style=\"text-align: right;\">\n",
       "      <th></th>\n",
       "      <th>level_0</th>\n",
       "      <th>level_1</th>\n",
       "      <th>0</th>\n",
       "    </tr>\n",
       "  </thead>\n",
       "  <tbody>\n",
       "    <tr>\n",
       "      <th>1</th>\n",
       "      <td>Price</td>\n",
       "      <td>Price</td>\n",
       "      <td>1.000000</td>\n",
       "    </tr>\n",
       "    <tr>\n",
       "      <th>21</th>\n",
       "      <td>Price</td>\n",
       "      <td>Rooms</td>\n",
       "      <td>0.465238</td>\n",
       "    </tr>\n",
       "    <tr>\n",
       "      <th>23</th>\n",
       "      <td>Price</td>\n",
       "      <td>Bedroom2</td>\n",
       "      <td>0.430275</td>\n",
       "    </tr>\n",
       "    <tr>\n",
       "      <th>26</th>\n",
       "      <td>Price</td>\n",
       "      <td>Bathroom</td>\n",
       "      <td>0.429878</td>\n",
       "    </tr>\n",
       "    <tr>\n",
       "      <th>38</th>\n",
       "      <td>Price</td>\n",
       "      <td>YearBuilt</td>\n",
       "      <td>0.333306</td>\n",
       "    </tr>\n",
       "    <tr>\n",
       "      <th>51</th>\n",
       "      <td>Price</td>\n",
       "      <td>Lattitude</td>\n",
       "      <td>0.215607</td>\n",
       "    </tr>\n",
       "    <tr>\n",
       "      <th>54</th>\n",
       "      <td>Price</td>\n",
       "      <td>Distance</td>\n",
       "      <td>0.211384</td>\n",
       "    </tr>\n",
       "    <tr>\n",
       "      <th>56</th>\n",
       "      <td>Price</td>\n",
       "      <td>Car</td>\n",
       "      <td>0.201803</td>\n",
       "    </tr>\n",
       "    <tr>\n",
       "      <th>58</th>\n",
       "      <td>Price</td>\n",
       "      <td>Longtitude</td>\n",
       "      <td>0.197874</td>\n",
       "    </tr>\n",
       "    <tr>\n",
       "      <th>78</th>\n",
       "      <td>Price</td>\n",
       "      <td>BuildingArea</td>\n",
       "      <td>0.100754</td>\n",
       "    </tr>\n",
       "    <tr>\n",
       "      <th>105</th>\n",
       "      <td>Price</td>\n",
       "      <td>Propertycount</td>\n",
       "      <td>0.059017</td>\n",
       "    </tr>\n",
       "    <tr>\n",
       "      <th>111</th>\n",
       "      <td>Price</td>\n",
       "      <td>Postcode</td>\n",
       "      <td>0.044950</td>\n",
       "    </tr>\n",
       "    <tr>\n",
       "      <th>129</th>\n",
       "      <td>Price</td>\n",
       "      <td>Landsize</td>\n",
       "      <td>0.032748</td>\n",
       "    </tr>\n",
       "  </tbody>\n",
       "</table>\n",
       "</div>"
      ],
      "text/plain": [
       "    level_0        level_1         0\n",
       "1     Price          Price  1.000000\n",
       "21    Price          Rooms  0.465238\n",
       "23    Price       Bedroom2  0.430275\n",
       "26    Price       Bathroom  0.429878\n",
       "38    Price      YearBuilt  0.333306\n",
       "51    Price      Lattitude  0.215607\n",
       "54    Price       Distance  0.211384\n",
       "56    Price            Car  0.201803\n",
       "58    Price     Longtitude  0.197874\n",
       "78    Price   BuildingArea  0.100754\n",
       "105   Price  Propertycount  0.059017\n",
       "111   Price       Postcode  0.044950\n",
       "129   Price       Landsize  0.032748"
      ]
     },
     "execution_count": 12,
     "metadata": {},
     "output_type": "execute_result"
    }
   ],
   "source": [
    "data_corr=df.corr().abs().unstack().sort_values(ascending=False).reset_index()\n",
    "data_corr[data_corr['level_0']=='Price']"
   ]
  },
  {
   "cell_type": "code",
   "execution_count": 13,
   "id": "adf3a775",
   "metadata": {
    "execution": {
     "iopub.execute_input": "2022-02-12T02:21:09.353467Z",
     "iopub.status.busy": "2022-02-12T02:21:09.352473Z",
     "iopub.status.idle": "2022-02-12T02:21:09.371156Z",
     "shell.execute_reply": "2022-02-12T02:21:09.371706Z",
     "shell.execute_reply.started": "2022-02-11T20:39:19.284185Z"
    },
    "papermill": {
     "duration": 0.058655,
     "end_time": "2022-02-12T02:21:09.371908",
     "exception": false,
     "start_time": "2022-02-12T02:21:09.313253",
     "status": "completed"
    },
    "tags": []
   },
   "outputs": [
    {
     "data": {
      "text/plain": [
       "Rooms  Type\n",
       "1      h        1.0\n",
       "       t        1.0\n",
       "       u        1.0\n",
       "2      h        2.0\n",
       "       t        2.0\n",
       "       u        2.0\n",
       "3      h        3.0\n",
       "       t        3.0\n",
       "       u        3.0\n",
       "4      h        4.0\n",
       "       t        4.0\n",
       "       u        4.0\n",
       "5      h        5.0\n",
       "       t        5.0\n",
       "6      h        6.0\n",
       "       u        4.0\n",
       "7      h        7.0\n",
       "8      h        8.0\n",
       "       u        4.0\n",
       "9      h        NaN\n",
       "10     h       10.0\n",
       "12     h       12.0\n",
       "16     h       16.0\n",
       "Name: Bedroom2, dtype: float64"
      ]
     },
     "execution_count": 13,
     "metadata": {},
     "output_type": "execute_result"
    }
   ],
   "source": [
    "df.groupby(['Rooms','Type'])['Bedroom2'].median()"
   ]
  },
  {
   "cell_type": "code",
   "execution_count": 14,
   "id": "0b8bcd5d",
   "metadata": {
    "execution": {
     "iopub.execute_input": "2022-02-12T02:21:09.451785Z",
     "iopub.status.busy": "2022-02-12T02:21:09.451054Z",
     "iopub.status.idle": "2022-02-12T02:21:09.466569Z",
     "shell.execute_reply": "2022-02-12T02:21:09.465937Z",
     "shell.execute_reply.started": "2022-02-11T20:39:20.496285Z"
    },
    "papermill": {
     "duration": 0.058078,
     "end_time": "2022-02-12T02:21:09.466756",
     "exception": false,
     "start_time": "2022-02-12T02:21:09.408678",
     "status": "completed"
    },
    "tags": []
   },
   "outputs": [],
   "source": [
    "df['Bedroom2']=df.groupby('Rooms')['Bedroom2'].apply(lambda x: x.fillna(x.median()))"
   ]
  },
  {
   "cell_type": "code",
   "execution_count": 15,
   "id": "6a03b516",
   "metadata": {
    "execution": {
     "iopub.execute_input": "2022-02-12T02:21:09.569586Z",
     "iopub.status.busy": "2022-02-12T02:21:09.568885Z",
     "iopub.status.idle": "2022-02-12T02:21:09.577849Z",
     "shell.execute_reply": "2022-02-12T02:21:09.578473Z",
     "shell.execute_reply.started": "2022-02-11T20:39:20.876474Z"
    },
    "papermill": {
     "duration": 0.074376,
     "end_time": "2022-02-12T02:21:09.578668",
     "exception": false,
     "start_time": "2022-02-12T02:21:09.504292",
     "status": "completed"
    },
    "tags": []
   },
   "outputs": [
    {
     "data": {
      "text/plain": [
       "Suburb               0\n",
       "Address              0\n",
       "Rooms                0\n",
       "Type                 0\n",
       "Price                0\n",
       "Method               0\n",
       "SellerG              0\n",
       "Date                 0\n",
       "Distance             1\n",
       "Postcode             1\n",
       "Bedroom2             1\n",
       "Bathroom          6447\n",
       "Car               6824\n",
       "Landsize          9265\n",
       "BuildingArea     16591\n",
       "YearBuilt        15163\n",
       "CouncilArea          3\n",
       "Lattitude         6254\n",
       "Longtitude        6254\n",
       "Regionname           3\n",
       "Propertycount        3\n",
       "dtype: int64"
      ]
     },
     "execution_count": 15,
     "metadata": {},
     "output_type": "execute_result"
    }
   ],
   "source": [
    "df.isnull().sum()"
   ]
  },
  {
   "cell_type": "code",
   "execution_count": 16,
   "id": "2c4dcc77",
   "metadata": {
    "execution": {
     "iopub.execute_input": "2022-02-12T02:21:09.655489Z",
     "iopub.status.busy": "2022-02-12T02:21:09.654831Z",
     "iopub.status.idle": "2022-02-12T02:21:09.669592Z",
     "shell.execute_reply": "2022-02-12T02:21:09.670145Z",
     "shell.execute_reply.started": "2022-02-11T20:39:21.247190Z"
    },
    "papermill": {
     "duration": 0.054869,
     "end_time": "2022-02-12T02:21:09.670317",
     "exception": false,
     "start_time": "2022-02-12T02:21:09.615448",
     "status": "completed"
    },
    "tags": []
   },
   "outputs": [
    {
     "data": {
      "text/plain": [
       "Rooms  Type\n",
       "1      h       1.0\n",
       "       t       1.0\n",
       "       u       1.0\n",
       "2      h       1.0\n",
       "       t       1.0\n",
       "       u       1.0\n",
       "3      h       1.0\n",
       "       t       2.0\n",
       "       u       2.0\n",
       "4      h       2.0\n",
       "       t       2.0\n",
       "       u       2.0\n",
       "5      h       3.0\n",
       "       t       2.0\n",
       "6      h       3.0\n",
       "       u       2.0\n",
       "7      h       3.0\n",
       "8      h       4.0\n",
       "       u       2.0\n",
       "9      h       NaN\n",
       "10     h       6.0\n",
       "12     h       5.0\n",
       "16     h       8.0\n",
       "Name: Bathroom, dtype: float64"
      ]
     },
     "execution_count": 16,
     "metadata": {},
     "output_type": "execute_result"
    }
   ],
   "source": [
    "df.groupby(['Rooms','Type'])['Bathroom'].median()"
   ]
  },
  {
   "cell_type": "code",
   "execution_count": 17,
   "id": "92ee9363",
   "metadata": {
    "execution": {
     "iopub.execute_input": "2022-02-12T02:21:09.754298Z",
     "iopub.status.busy": "2022-02-12T02:21:09.753625Z",
     "iopub.status.idle": "2022-02-12T02:21:09.769724Z",
     "shell.execute_reply": "2022-02-12T02:21:09.770312Z",
     "shell.execute_reply.started": "2022-02-11T20:39:21.550019Z"
    },
    "papermill": {
     "duration": 0.062176,
     "end_time": "2022-02-12T02:21:09.770510",
     "exception": false,
     "start_time": "2022-02-12T02:21:09.708334",
     "status": "completed"
    },
    "tags": []
   },
   "outputs": [],
   "source": [
    "df['Bathroom']=df.groupby('Rooms')['Bathroom'].apply(lambda x: x.fillna((x.median())/2))"
   ]
  },
  {
   "cell_type": "code",
   "execution_count": 18,
   "id": "fe861d3b",
   "metadata": {
    "execution": {
     "iopub.execute_input": "2022-02-12T02:21:09.851425Z",
     "iopub.status.busy": "2022-02-12T02:21:09.850693Z",
     "iopub.status.idle": "2022-02-12T02:21:09.884243Z",
     "shell.execute_reply": "2022-02-12T02:21:09.884813Z",
     "shell.execute_reply.started": "2022-02-11T20:39:21.922278Z"
    },
    "papermill": {
     "duration": 0.075877,
     "end_time": "2022-02-12T02:21:09.884994",
     "exception": false,
     "start_time": "2022-02-12T02:21:09.809117",
     "status": "completed"
    },
    "tags": []
   },
   "outputs": [
    {
     "data": {
      "text/plain": [
       "Suburb               0\n",
       "Address              0\n",
       "Rooms                0\n",
       "Type                 0\n",
       "Price                0\n",
       "Method               0\n",
       "SellerG              0\n",
       "Date                 0\n",
       "Distance             1\n",
       "Postcode             1\n",
       "Bedroom2             1\n",
       "Bathroom             1\n",
       "Car               6824\n",
       "Landsize          9265\n",
       "BuildingArea     16591\n",
       "YearBuilt        15163\n",
       "CouncilArea          3\n",
       "Lattitude         6254\n",
       "Longtitude        6254\n",
       "Regionname           3\n",
       "Propertycount        3\n",
       "dtype: int64"
      ]
     },
     "execution_count": 18,
     "metadata": {},
     "output_type": "execute_result"
    }
   ],
   "source": [
    "df.isnull().sum()"
   ]
  },
  {
   "cell_type": "code",
   "execution_count": 19,
   "id": "1b9f1d27",
   "metadata": {
    "execution": {
     "iopub.execute_input": "2022-02-12T02:21:09.965779Z",
     "iopub.status.busy": "2022-02-12T02:21:09.964816Z",
     "iopub.status.idle": "2022-02-12T02:21:09.983606Z",
     "shell.execute_reply": "2022-02-12T02:21:09.984207Z",
     "shell.execute_reply.started": "2022-02-11T20:39:22.208602Z"
    },
    "papermill": {
     "duration": 0.060573,
     "end_time": "2022-02-12T02:21:09.984384",
     "exception": false,
     "start_time": "2022-02-12T02:21:09.923811",
     "status": "completed"
    },
    "tags": []
   },
   "outputs": [
    {
     "data": {
      "text/plain": [
       "Bedroom2  Type\n",
       "0.0       h       1.0\n",
       "          t       1.0\n",
       "          u       0.0\n",
       "1.0       h       1.0\n",
       "          t       1.0\n",
       "          u       1.0\n",
       "2.0       h       1.0\n",
       "          t       1.0\n",
       "          u       1.0\n",
       "3.0       h       2.0\n",
       "          t       2.0\n",
       "          u       1.0\n",
       "4.0       h       2.0\n",
       "          t       2.0\n",
       "          u       2.0\n",
       "5.0       h       2.0\n",
       "          t       2.0\n",
       "          u       2.5\n",
       "6.0       h       2.0\n",
       "7.0       h       2.0\n",
       "8.0       h       3.5\n",
       "          u       NaN\n",
       "9.0       h       4.0\n",
       "10.0      h       4.5\n",
       "12.0      h       3.0\n",
       "16.0      h       8.0\n",
       "20.0      h       2.0\n",
       "Name: Car, dtype: float64"
      ]
     },
     "execution_count": 19,
     "metadata": {},
     "output_type": "execute_result"
    }
   ],
   "source": [
    "df.groupby(['Bedroom2','Type'])['Car'].median()"
   ]
  },
  {
   "cell_type": "code",
   "execution_count": 20,
   "id": "bd7d5449",
   "metadata": {
    "execution": {
     "iopub.execute_input": "2022-02-12T02:21:10.066553Z",
     "iopub.status.busy": "2022-02-12T02:21:10.065849Z",
     "iopub.status.idle": "2022-02-12T02:21:10.086268Z",
     "shell.execute_reply": "2022-02-12T02:21:10.086791Z",
     "shell.execute_reply.started": "2022-02-11T20:39:22.608969Z"
    },
    "papermill": {
     "duration": 0.064313,
     "end_time": "2022-02-12T02:21:10.086971",
     "exception": false,
     "start_time": "2022-02-12T02:21:10.022658",
     "status": "completed"
    },
    "tags": []
   },
   "outputs": [],
   "source": [
    "df['Car']=df.groupby('Rooms')['Car'].apply(lambda x: x.fillna((4.0)))"
   ]
  },
  {
   "cell_type": "code",
   "execution_count": 21,
   "id": "681e2cc9",
   "metadata": {
    "execution": {
     "iopub.execute_input": "2022-02-12T02:21:10.167683Z",
     "iopub.status.busy": "2022-02-12T02:21:10.166978Z",
     "iopub.status.idle": "2022-02-12T02:21:10.201506Z",
     "shell.execute_reply": "2022-02-12T02:21:10.202071Z",
     "shell.execute_reply.started": "2022-02-11T20:39:22.960507Z"
    },
    "papermill": {
     "duration": 0.077132,
     "end_time": "2022-02-12T02:21:10.202282",
     "exception": false,
     "start_time": "2022-02-12T02:21:10.125150",
     "status": "completed"
    },
    "tags": []
   },
   "outputs": [
    {
     "data": {
      "text/plain": [
       "Suburb               0\n",
       "Address              0\n",
       "Rooms                0\n",
       "Type                 0\n",
       "Price                0\n",
       "Method               0\n",
       "SellerG              0\n",
       "Date                 0\n",
       "Distance             1\n",
       "Postcode             1\n",
       "Bedroom2             1\n",
       "Bathroom             1\n",
       "Car                  0\n",
       "Landsize          9265\n",
       "BuildingArea     16591\n",
       "YearBuilt        15163\n",
       "CouncilArea          3\n",
       "Lattitude         6254\n",
       "Longtitude        6254\n",
       "Regionname           3\n",
       "Propertycount        3\n",
       "dtype: int64"
      ]
     },
     "execution_count": 21,
     "metadata": {},
     "output_type": "execute_result"
    }
   ],
   "source": [
    "df.isnull().sum()"
   ]
  },
  {
   "cell_type": "code",
   "execution_count": 22,
   "id": "0ad0fd24",
   "metadata": {
    "execution": {
     "iopub.execute_input": "2022-02-12T02:21:10.284847Z",
     "iopub.status.busy": "2022-02-12T02:21:10.284183Z",
     "iopub.status.idle": "2022-02-12T02:21:10.295796Z",
     "shell.execute_reply": "2022-02-12T02:21:10.295283Z",
     "shell.execute_reply.started": "2022-02-11T20:39:23.310868Z"
    },
    "papermill": {
     "duration": 0.054922,
     "end_time": "2022-02-12T02:21:10.295940",
     "exception": false,
     "start_time": "2022-02-12T02:21:10.241018",
     "status": "completed"
    },
    "tags": []
   },
   "outputs": [
    {
     "data": {
      "text/plain": [
       "Postcode\n",
       "3000.0   -37.812435\n",
       "3002.0   -37.815250\n",
       "3003.0   -37.808200\n",
       "3006.0   -37.826700\n",
       "3008.0   -37.814100\n",
       "            ...    \n",
       "3910.0   -38.155750\n",
       "3975.0   -38.054200\n",
       "3976.0   -38.033780\n",
       "3977.0   -38.094655\n",
       "3978.0   -38.112450\n",
       "Name: Lattitude, Length: 209, dtype: float64"
      ]
     },
     "execution_count": 22,
     "metadata": {},
     "output_type": "execute_result"
    }
   ],
   "source": [
    "df.groupby(['Postcode'])['Lattitude'].median()"
   ]
  },
  {
   "cell_type": "code",
   "execution_count": 23,
   "id": "2b3c2f4d",
   "metadata": {
    "execution": {
     "iopub.execute_input": "2022-02-12T02:21:10.377358Z",
     "iopub.status.busy": "2022-02-12T02:21:10.376683Z",
     "iopub.status.idle": "2022-02-12T02:21:10.434271Z",
     "shell.execute_reply": "2022-02-12T02:21:10.434754Z",
     "shell.execute_reply.started": "2022-02-11T20:39:23.922376Z"
    },
    "papermill": {
     "duration": 0.100349,
     "end_time": "2022-02-12T02:21:10.434943",
     "exception": false,
     "start_time": "2022-02-12T02:21:10.334594",
     "status": "completed"
    },
    "tags": []
   },
   "outputs": [],
   "source": [
    "df['Longtitude']=df.groupby('Postcode')['Longtitude'].apply(lambda x: x.fillna((x.median())))"
   ]
  },
  {
   "cell_type": "code",
   "execution_count": 24,
   "id": "9a1e2fec",
   "metadata": {
    "execution": {
     "iopub.execute_input": "2022-02-12T02:21:10.520206Z",
     "iopub.status.busy": "2022-02-12T02:21:10.518290Z",
     "iopub.status.idle": "2022-02-12T02:21:10.553314Z",
     "shell.execute_reply": "2022-02-12T02:21:10.552609Z",
     "shell.execute_reply.started": "2022-02-11T20:39:25.325419Z"
    },
    "papermill": {
     "duration": 0.079593,
     "end_time": "2022-02-12T02:21:10.553461",
     "exception": false,
     "start_time": "2022-02-12T02:21:10.473868",
     "status": "completed"
    },
    "tags": []
   },
   "outputs": [
    {
     "data": {
      "text/plain": [
       "Suburb               0\n",
       "Address              0\n",
       "Rooms                0\n",
       "Type                 0\n",
       "Price                0\n",
       "Method               0\n",
       "SellerG              0\n",
       "Date                 0\n",
       "Distance             1\n",
       "Postcode             1\n",
       "Bedroom2             1\n",
       "Bathroom             1\n",
       "Car                  0\n",
       "Landsize          9265\n",
       "BuildingArea     16591\n",
       "YearBuilt        15163\n",
       "CouncilArea          3\n",
       "Lattitude         6254\n",
       "Longtitude           2\n",
       "Regionname           3\n",
       "Propertycount        3\n",
       "dtype: int64"
      ]
     },
     "execution_count": 24,
     "metadata": {},
     "output_type": "execute_result"
    }
   ],
   "source": [
    "df.isnull().sum()"
   ]
  },
  {
   "cell_type": "code",
   "execution_count": 25,
   "id": "d41b6e79",
   "metadata": {
    "execution": {
     "iopub.execute_input": "2022-02-12T02:21:10.640107Z",
     "iopub.status.busy": "2022-02-12T02:21:10.639437Z",
     "iopub.status.idle": "2022-02-12T02:21:10.648682Z",
     "shell.execute_reply": "2022-02-12T02:21:10.649281Z",
     "shell.execute_reply.started": "2022-02-11T20:39:26.114613Z"
    },
    "papermill": {
     "duration": 0.056518,
     "end_time": "2022-02-12T02:21:10.649464",
     "exception": false,
     "start_time": "2022-02-12T02:21:10.592946",
     "status": "completed"
    },
    "tags": []
   },
   "outputs": [
    {
     "data": {
      "text/plain": [
       "Landsize\n",
       "0.0          73.0\n",
       "1.0          62.0\n",
       "2.0           NaN\n",
       "3.0         131.0\n",
       "5.0           NaN\n",
       "            ...  \n",
       "75100.0       NaN\n",
       "76000.0       NaN\n",
       "89030.0       NaN\n",
       "146699.0      NaN\n",
       "433014.0      NaN\n",
       "Name: BuildingArea, Length: 1557, dtype: float64"
      ]
     },
     "execution_count": 25,
     "metadata": {},
     "output_type": "execute_result"
    }
   ],
   "source": [
    "df.groupby(['Landsize'])['BuildingArea'].median()"
   ]
  },
  {
   "cell_type": "code",
   "execution_count": 26,
   "id": "0ece4c5c",
   "metadata": {
    "execution": {
     "iopub.execute_input": "2022-02-12T02:21:10.736203Z",
     "iopub.status.busy": "2022-02-12T02:21:10.735376Z",
     "iopub.status.idle": "2022-02-12T02:21:10.963750Z",
     "shell.execute_reply": "2022-02-12T02:21:10.964310Z",
     "shell.execute_reply.started": "2022-02-11T20:39:29.730352Z"
    },
    "papermill": {
     "duration": 0.274101,
     "end_time": "2022-02-12T02:21:10.964488",
     "exception": false,
     "start_time": "2022-02-12T02:21:10.690387",
     "status": "completed"
    },
    "tags": []
   },
   "outputs": [
    {
     "data": {
      "text/plain": [
       "<AxesSubplot:ylabel='Landsize'>"
      ]
     },
     "execution_count": 26,
     "metadata": {},
     "output_type": "execute_result"
    },
    {
     "data": {
      "image/png": "[encoded data removed]",
      "text/plain": [
       "<Figure size 432x288 with 1 Axes>"
      ]
     },
     "metadata": {
      "needs_background": "light"
     },
     "output_type": "display_data"
    }
   ],
   "source": [
    "sns.boxplot(y='Landsize',data=df)"
   ]
  },
  {
   "cell_type": "code",
   "execution_count": 27,
   "id": "a0fb98c5",
   "metadata": {
    "execution": {
     "iopub.execute_input": "2022-02-12T02:21:11.055746Z",
     "iopub.status.busy": "2022-02-12T02:21:11.055032Z",
     "iopub.status.idle": "2022-02-12T02:21:11.276153Z",
     "shell.execute_reply": "2022-02-12T02:21:11.275286Z",
     "shell.execute_reply.started": "2022-02-11T20:39:32.063228Z"
    },
    "papermill": {
     "duration": 0.267391,
     "end_time": "2022-02-12T02:21:11.276343",
     "exception": false,
     "start_time": "2022-02-12T02:21:11.008952",
     "status": "completed"
    },
    "tags": []
   },
   "outputs": [
    {
     "data": {
      "text/plain": [
       "<AxesSubplot:ylabel='BuildingArea'>"
      ]
     },
     "execution_count": 27,
     "metadata": {},
     "output_type": "execute_result"
    },
    {
     "data": {
      "image/png": "[encoded data removed]",
      "text/plain": [
       "<Figure size 432x288 with 1 Axes>"
      ]
     },
     "metadata": {
      "needs_background": "light"
     },
     "output_type": "display_data"
    }
   ],
   "source": [
    "sns.boxplot(y='BuildingArea',data=df)"
   ]
  },
  {
   "cell_type": "code",
   "execution_count": 28,
   "id": "b607bce1",
   "metadata": {
    "execution": {
     "iopub.execute_input": "2022-02-12T02:21:11.372847Z",
     "iopub.status.busy": "2022-02-12T02:21:11.372197Z",
     "iopub.status.idle": "2022-02-12T02:21:11.375525Z",
     "shell.execute_reply": "2022-02-12T02:21:11.376101Z",
     "shell.execute_reply.started": "2022-02-11T20:43:06.865623Z"
    },
    "papermill": {
     "duration": 0.055243,
     "end_time": "2022-02-12T02:21:11.376296",
     "exception": false,
     "start_time": "2022-02-12T02:21:11.321053",
     "status": "completed"
    },
    "tags": []
   },
   "outputs": [],
   "source": [
    "data=df['BuildingArea'].value_counts()"
   ]
  },
  {
   "cell_type": "code",
   "execution_count": 29,
   "id": "c9dc5f88",
   "metadata": {
    "execution": {
     "iopub.execute_input": "2022-02-12T02:21:11.469477Z",
     "iopub.status.busy": "2022-02-12T02:21:11.468590Z",
     "iopub.status.idle": "2022-02-12T02:21:11.478188Z",
     "shell.execute_reply": "2022-02-12T02:21:11.477486Z",
     "shell.execute_reply.started": "2022-02-11T20:43:55.177625Z"
    },
    "papermill": {
     "duration": 0.057975,
     "end_time": "2022-02-12T02:21:11.478344",
     "exception": false,
     "start_time": "2022-02-12T02:21:11.420369",
     "status": "completed"
    },
    "tags": []
   },
   "outputs": [
    {
     "data": {
      "text/plain": [
       "array([False, False, False, False, False, False, False, False, False,\n",
       "       False, False, False, False, False, False, False, False, False,\n",
       "       False, False, False, False, False, False, False, False, False,\n",
       "       False, False, False, False, False, False, False, False, False,\n",
       "       False, False, False, False, False, False, False, False, False,\n",
       "       False, False, False, False, False, False, False, False, False,\n",
       "       False, False, False, False, False, False, False, False, False,\n",
       "       False, False, False, False, False, False, False, False, False,\n",
       "       False, False, False, False, False, False, False, False, False,\n",
       "       False, False, False, False, False, False, False, False, False,\n",
       "       False, False, False, False, False, False, False, False, False,\n",
       "       False, False, False, False, False, False, False, False, False,\n",
       "       False, False, False, False, False, False, False, False, False,\n",
       "       False, False, False, False, False, False, False, False, False,\n",
       "       False, False, False, False, False, False, False, False, False,\n",
       "       False, False, False, False, False, False, False, False, False,\n",
       "       False, False, False, False, False, False, False, False, False,\n",
       "       False, False, False, False, False, False, False, False, False,\n",
       "       False, False, False, False, False, False, False, False, False,\n",
       "       False, False, False, False, False, False, False, False, False,\n",
       "       False, False, False, False, False, False, False, False, False,\n",
       "       False, False, False, False, False, False, False, False, False,\n",
       "       False, False, False, False, False, False, False, False, False,\n",
       "       False, False, False, False, False, False, False, False, False,\n",
       "       False, False, False, False, False, False, False, False, False,\n",
       "       False, False, False, False, False, False, False, False, False,\n",
       "       False, False, False, False, False, False, False, False, False,\n",
       "       False, False, False, False, False, False, False, False, False,\n",
       "       False, False, False, False, False, False, False, False, False,\n",
       "       False, False, False, False, False, False, False, False, False,\n",
       "       False, False, False, False, False, False, False, False, False,\n",
       "       False, False, False, False, False, False, False, False, False,\n",
       "       False, False, False, False, False, False, False, False, False,\n",
       "       False, False, False, False, False, False, False, False, False,\n",
       "       False, False, False, False, False, False, False, False, False,\n",
       "       False, False, False, False, False, False, False, False, False,\n",
       "       False, False, False, False, False, False, False, False, False,\n",
       "       False, False, False, False, False, False, False, False, False,\n",
       "       False, False, False, False, False, False, False, False, False,\n",
       "       False, False, False, False, False, False, False, False, False,\n",
       "       False, False, False, False, False, False, False, False, False,\n",
       "       False, False, False, False, False, False, False, False, False,\n",
       "       False, False, False, False, False, False, False, False, False,\n",
       "       False, False, False,  True,  True,  True,  True,  True,  True,\n",
       "        True,  True,  True,  True,  True,  True,  True,  True,  True,\n",
       "        True,  True,  True,  True,  True,  True,  True,  True,  True,\n",
       "        True,  True,  True,  True,  True,  True,  True,  True,  True,\n",
       "        True,  True,  True,  True,  True,  True,  True,  True,  True,\n",
       "        True,  True,  True,  True,  True,  True,  True,  True,  True,\n",
       "        True,  True,  True,  True,  True,  True,  True,  True,  True,\n",
       "        True,  True,  True,  True,  True,  True,  True,  True,  True,\n",
       "        True,  True,  True,  True,  True,  True,  True,  True,  True,\n",
       "        True,  True,  True,  True,  True,  True,  True,  True,  True,\n",
       "        True,  True,  True,  True,  True,  True,  True,  True,  True,\n",
       "        True,  True,  True,  True,  True,  True,  True,  True,  True,\n",
       "        True,  True,  True,  True,  True,  True,  True,  True,  True,\n",
       "        True,  True,  True,  True,  True,  True,  True,  True,  True,\n",
       "        True,  True,  True,  True,  True,  True,  True,  True,  True,\n",
       "        True,  True,  True,  True,  True,  True,  True,  True,  True,\n",
       "        True,  True,  True,  True,  True,  True,  True,  True,  True,\n",
       "        True,  True,  True,  True,  True,  True,  True,  True,  True,\n",
       "        True,  True,  True,  True,  True,  True,  True,  True,  True,\n",
       "        True,  True,  True,  True,  True,  True,  True,  True,  True,\n",
       "        True,  True,  True,  True,  True,  True,  True,  True,  True,\n",
       "        True,  True,  True,  True,  True,  True,  True,  True,  True,\n",
       "        True,  True,  True,  True,  True,  True,  True,  True,  True,\n",
       "        True,  True,  True,  True,  True,  True,  True,  True,  True,\n",
       "        True,  True,  True,  True,  True,  True,  True,  True,  True,\n",
       "        True,  True,  True,  True,  True,  True,  True,  True,  True,\n",
       "        True,  True,  True,  True,  True,  True,  True,  True,  True,\n",
       "        True,  True,  True,  True,  True,  True,  True,  True,  True,\n",
       "        True,  True,  True,  True,  True,  True,  True,  True,  True,\n",
       "        True,  True,  True,  True,  True,  True,  True,  True,  True,\n",
       "        True,  True,  True,  True,  True])"
      ]
     },
     "execution_count": 29,
     "metadata": {},
     "output_type": "execute_result"
    }
   ],
   "source": [
    "data.values==1"
   ]
  },
  {
   "cell_type": "code",
   "execution_count": null,
   "id": "25e7fead",
   "metadata": {
    "papermill": {
     "duration": 0.043751,
     "end_time": "2022-02-12T02:21:11.567344",
     "exception": false,
     "start_time": "2022-02-12T02:21:11.523593",
     "status": "completed"
    },
    "tags": []
   },
   "outputs": [],
   "source": []
  }
 ],
 "metadata": {
  "kernelspec": {
   "display_name": "Python 3",
   "language": "python",
   "name": "python3"
  },
  "language_info": {
   "codemirror_mode": {
    "name": "ipython",
    "version": 3
   },
   "file_extension": ".py",
   "mimetype": "text/x-python",
   "name": "python",
   "nbconvert_exporter": "python",
   "pygments_lexer": "ipython3",
   "version": "3.7.12"
  },
  "papermill": {
   "default_parameters": {},
   "duration": 16.573571,
   "end_time": "2022-02-12T02:21:12.426328",
   "environment_variables": {},
   "exception": null,
   "input_path": "__notebook__.ipynb",
   "output_path": "__notebook__.ipynb",
   "parameters": {},
   "start_time": "2022-02-12T02:20:55.852757",
   "version": "2.3.3"
  }
 },
 "nbformat": 4,
 "nbformat_minor": 5
}
