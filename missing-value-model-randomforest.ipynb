{
 "cells": [
  {
   "cell_type": "code",
   "execution_count": 1,
   "id": "0946026e",
   "metadata": {
    "_cell_guid": "b1076dfc-b9ad-4769-8c92-a6c4dae69d19",
    "_uuid": "8f2839f25d086af736a60e9eeb907d3b93b6e0e5",
    "execution": {
     "iopub.execute_input": "2022-02-12T06:28:41.927987Z",
     "iopub.status.busy": "2022-02-12T06:28:41.926763Z",
     "iopub.status.idle": "2022-02-12T06:28:41.946461Z",
     "shell.execute_reply": "2022-02-12T06:28:41.945367Z",
     "shell.execute_reply.started": "2022-02-12T06:11:00.292308Z"
    },
    "papermill": {
     "duration": 0.04616,
     "end_time": "2022-02-12T06:28:41.946697",
     "exception": false,
     "start_time": "2022-02-12T06:28:41.900537",
     "status": "completed"
    },
    "tags": []
   },
   "outputs": [
    {
     "name": "stdout",
     "output_type": "stream",
     "text": [
      "/kaggle/input/home-data-for-ml-course/sample_submission.csv\n",
      "/kaggle/input/home-data-for-ml-course/train.csv\n",
      "/kaggle/input/home-data-for-ml-course/test.csv\n"
     ]
    }
   ],
   "source": [
    "# This Python 3 environment comes with many helpful analytics libraries installed\n",
    "# It is defined by the kaggle/python Docker image: https://github.com/kaggle/docker-python\n",
    "# For example, here's several helpful packages to load\n",
    "\n",
    "import numpy as np # linear algebra\n",
    "import pandas as pd # data processing, CSV file I/O (e.g. pd.read_csv)\n",
    "\n",
    "# Input data files are available in the read-only \"../input/\" directory\n",
    "# For example, running this (by clicking run or pressing Shift+Enter) will list all files under the input directory\n",
    "\n",
    "import os\n",
    "for dirname, _, filenames in os.walk('/kaggle/input'):\n",
    "    for filename in filenames:\n",
    "        print(os.path.join(dirname, filename))\n",
    "\n",
    "# You can write up to 20GB to the current directory (/kaggle/working/) that gets preserved as output when you create a version using \"Save & Run All\" \n",
    "# You can also write temporary files to /kaggle/temp/, but they won't be saved outside of the current session"
   ]
  },
  {
   "cell_type": "code",
   "execution_count": 2,
   "id": "51807557",
   "metadata": {
    "execution": {
     "iopub.execute_input": "2022-02-12T06:28:41.996142Z",
     "iopub.status.busy": "2022-02-12T06:28:41.995495Z",
     "iopub.status.idle": "2022-02-12T06:28:43.330780Z",
     "shell.execute_reply": "2022-02-12T06:28:43.331320Z",
     "shell.execute_reply.started": "2022-02-12T06:11:00.311867Z"
    },
    "papermill": {
     "duration": 1.361422,
     "end_time": "2022-02-12T06:28:43.331518",
     "exception": false,
     "start_time": "2022-02-12T06:28:41.970096",
     "status": "completed"
    },
    "tags": []
   },
   "outputs": [],
   "source": [
    "import pandas as pd\n",
    "import numpy as np\n",
    "import matplotlib.pyplot as plt\n",
    "from sklearn.ensemble import RandomForestRegressor\n",
    "from sklearn.model_selection import train_test_split\n",
    "from sklearn.tree import DecisionTreeRegressor\n",
    "from sklearn.metrics import mean_absolute_error\n",
    "import warnings\n",
    "warnings.filterwarnings('ignore')\n",
    "%matplotlib Inline"
   ]
  },
  {
   "cell_type": "code",
   "execution_count": 3,
   "id": "dafd29b1",
   "metadata": {
    "execution": {
     "iopub.execute_input": "2022-02-12T06:28:43.378249Z",
     "iopub.status.busy": "2022-02-12T06:28:43.377570Z",
     "iopub.status.idle": "2022-02-12T06:28:43.467808Z",
     "shell.execute_reply": "2022-02-12T06:28:43.468327Z",
     "shell.execute_reply.started": "2022-02-12T06:11:00.325822Z"
    },
    "papermill": {
     "duration": 0.115029,
     "end_time": "2022-02-12T06:28:43.468535",
     "exception": false,
     "start_time": "2022-02-12T06:28:43.353506",
     "status": "completed"
    },
    "tags": []
   },
   "outputs": [],
   "source": [
    "df_full=pd.read_csv('../input/home-data-for-ml-course/train.csv', index_col='Id')\n",
    "df_test_full=pd.read_csv('../input/home-data-for-ml-course/test.csv', index_col='Id')\n"
   ]
  },
  {
   "cell_type": "code",
   "execution_count": 4,
   "id": "31ac95ae",
   "metadata": {
    "execution": {
     "iopub.execute_input": "2022-02-12T06:28:43.515519Z",
     "iopub.status.busy": "2022-02-12T06:28:43.514807Z",
     "iopub.status.idle": "2022-02-12T06:28:43.521525Z",
     "shell.execute_reply": "2022-02-12T06:28:43.522010Z",
     "shell.execute_reply.started": "2022-02-12T06:11:00.390246Z"
    },
    "papermill": {
     "duration": 0.031936,
     "end_time": "2022-02-12T06:28:43.522193",
     "exception": false,
     "start_time": "2022-02-12T06:28:43.490257",
     "status": "completed"
    },
    "tags": []
   },
   "outputs": [
    {
     "data": {
      "text/plain": [
       "(1460, 80)"
      ]
     },
     "execution_count": 4,
     "metadata": {},
     "output_type": "execute_result"
    }
   ],
   "source": [
    "df_full.shape"
   ]
  },
  {
   "cell_type": "code",
   "execution_count": 5,
   "id": "3d7ff819",
   "metadata": {
    "execution": {
     "iopub.execute_input": "2022-02-12T06:28:43.570340Z",
     "iopub.status.busy": "2022-02-12T06:28:43.569683Z",
     "iopub.status.idle": "2022-02-12T06:28:43.575068Z",
     "shell.execute_reply": "2022-02-12T06:28:43.574427Z",
     "shell.execute_reply.started": "2022-02-12T06:11:00.401922Z"
    },
    "papermill": {
     "duration": 0.030758,
     "end_time": "2022-02-12T06:28:43.575224",
     "exception": false,
     "start_time": "2022-02-12T06:28:43.544466",
     "status": "completed"
    },
    "tags": []
   },
   "outputs": [
    {
     "data": {
      "text/plain": [
       "(1459, 79)"
      ]
     },
     "execution_count": 5,
     "metadata": {},
     "output_type": "execute_result"
    }
   ],
   "source": [
    "df_test_full.shape"
   ]
  },
  {
   "cell_type": "code",
   "execution_count": 6,
   "id": "273b29cc",
   "metadata": {
    "execution": {
     "iopub.execute_input": "2022-02-12T06:28:43.630924Z",
     "iopub.status.busy": "2022-02-12T06:28:43.630260Z",
     "iopub.status.idle": "2022-02-12T06:28:43.639325Z",
     "shell.execute_reply": "2022-02-12T06:28:43.639916Z",
     "shell.execute_reply.started": "2022-02-12T06:11:00.414169Z"
    },
    "papermill": {
     "duration": 0.042596,
     "end_time": "2022-02-12T06:28:43.640096",
     "exception": false,
     "start_time": "2022-02-12T06:28:43.597500",
     "status": "completed"
    },
    "tags": []
   },
   "outputs": [
    {
     "data": {
      "text/plain": [
       "MSSubClass         0\n",
       "MSZoning           0\n",
       "LotFrontage      259\n",
       "LotArea            0\n",
       "Street             0\n",
       "                ... \n",
       "MoSold             0\n",
       "YrSold             0\n",
       "SaleType           0\n",
       "SaleCondition      0\n",
       "SalePrice          0\n",
       "Length: 80, dtype: int64"
      ]
     },
     "execution_count": 6,
     "metadata": {},
     "output_type": "execute_result"
    }
   ],
   "source": [
    "df_full.isnull().sum()\n",
    "    "
   ]
  },
  {
   "cell_type": "code",
   "execution_count": 7,
   "id": "09e6b973",
   "metadata": {
    "execution": {
     "iopub.execute_input": "2022-02-12T06:28:43.689765Z",
     "iopub.status.busy": "2022-02-12T06:28:43.689097Z",
     "iopub.status.idle": "2022-02-12T06:28:43.702591Z",
     "shell.execute_reply": "2022-02-12T06:28:43.703167Z",
     "shell.execute_reply.started": "2022-02-12T06:11:00.441846Z"
    },
    "papermill": {
     "duration": 0.04079,
     "end_time": "2022-02-12T06:28:43.703342",
     "exception": false,
     "start_time": "2022-02-12T06:28:43.662552",
     "status": "completed"
    },
    "tags": []
   },
   "outputs": [
    {
     "data": {
      "text/plain": [
       "MSSubClass         0\n",
       "MSZoning           4\n",
       "LotFrontage      227\n",
       "LotArea            0\n",
       "Street             0\n",
       "                ... \n",
       "MiscVal            0\n",
       "MoSold             0\n",
       "YrSold             0\n",
       "SaleType           1\n",
       "SaleCondition      0\n",
       "Length: 79, dtype: int64"
      ]
     },
     "execution_count": 7,
     "metadata": {},
     "output_type": "execute_result"
    }
   ],
   "source": [
    "df_test_full.isnull().sum()"
   ]
  },
  {
   "cell_type": "code",
   "execution_count": 8,
   "id": "d75230a6",
   "metadata": {
    "execution": {
     "iopub.execute_input": "2022-02-12T06:28:43.752440Z",
     "iopub.status.busy": "2022-02-12T06:28:43.751804Z",
     "iopub.status.idle": "2022-02-12T06:28:43.764443Z",
     "shell.execute_reply": "2022-02-12T06:28:43.764975Z",
     "shell.execute_reply.started": "2022-02-12T06:11:00.466102Z"
    },
    "papermill": {
     "duration": 0.038555,
     "end_time": "2022-02-12T06:28:43.765148",
     "exception": false,
     "start_time": "2022-02-12T06:28:43.726593",
     "status": "completed"
    },
    "tags": []
   },
   "outputs": [],
   "source": [
    "df_full.dropna(axis=0,subset=['SalePrice'],inplace=True)\n",
    "y=df_full.SalePrice\n",
    "df_full.drop(['SalePrice'],axis=1,inplace=True)"
   ]
  },
  {
   "cell_type": "code",
   "execution_count": 9,
   "id": "e742f4c1",
   "metadata": {
    "execution": {
     "iopub.execute_input": "2022-02-12T06:28:43.814249Z",
     "iopub.status.busy": "2022-02-12T06:28:43.813569Z",
     "iopub.status.idle": "2022-02-12T06:28:43.820659Z",
     "shell.execute_reply": "2022-02-12T06:28:43.821205Z",
     "shell.execute_reply.started": "2022-02-12T06:11:00.481024Z"
    },
    "papermill": {
     "duration": 0.033022,
     "end_time": "2022-02-12T06:28:43.821386",
     "exception": false,
     "start_time": "2022-02-12T06:28:43.788364",
     "status": "completed"
    },
    "tags": []
   },
   "outputs": [],
   "source": [
    "X=df_full.select_dtypes(exclude=['object'])\n",
    "X_test=df_test_full.select_dtypes(exclude=['object'])\n"
   ]
  },
  {
   "cell_type": "code",
   "execution_count": 10,
   "id": "13f4754a",
   "metadata": {
    "execution": {
     "iopub.execute_input": "2022-02-12T06:28:43.869829Z",
     "iopub.status.busy": "2022-02-12T06:28:43.869217Z",
     "iopub.status.idle": "2022-02-12T06:28:43.874946Z",
     "shell.execute_reply": "2022-02-12T06:28:43.875666Z",
     "shell.execute_reply.started": "2022-02-12T06:11:00.495783Z"
    },
    "papermill": {
     "duration": 0.031657,
     "end_time": "2022-02-12T06:28:43.875854",
     "exception": false,
     "start_time": "2022-02-12T06:28:43.844197",
     "status": "completed"
    },
    "tags": []
   },
   "outputs": [],
   "source": [
    "X_tr,X_t,y_tr,y_t=train_test_split(X,y,test_size=0.2,random_state=0)"
   ]
  },
  {
   "cell_type": "code",
   "execution_count": 11,
   "id": "71f26c2a",
   "metadata": {
    "execution": {
     "iopub.execute_input": "2022-02-12T06:28:43.926545Z",
     "iopub.status.busy": "2022-02-12T06:28:43.925886Z",
     "iopub.status.idle": "2022-02-12T06:28:43.933201Z",
     "shell.execute_reply": "2022-02-12T06:28:43.933709Z",
     "shell.execute_reply.started": "2022-02-12T06:11:00.505110Z"
    },
    "papermill": {
     "duration": 0.033298,
     "end_time": "2022-02-12T06:28:43.933894",
     "exception": false,
     "start_time": "2022-02-12T06:28:43.900596",
     "status": "completed"
    },
    "tags": []
   },
   "outputs": [
    {
     "data": {
      "text/plain": [
       "MSSubClass         0\n",
       "LotFrontage      212\n",
       "LotArea            0\n",
       "OverallQual        0\n",
       "OverallCond        0\n",
       "YearBuilt          0\n",
       "YearRemodAdd       0\n",
       "MasVnrArea         6\n",
       "BsmtFinSF1         0\n",
       "BsmtFinSF2         0\n",
       "BsmtUnfSF          0\n",
       "TotalBsmtSF        0\n",
       "1stFlrSF           0\n",
       "2ndFlrSF           0\n",
       "LowQualFinSF       0\n",
       "GrLivArea          0\n",
       "BsmtFullBath       0\n",
       "BsmtHalfBath       0\n",
       "FullBath           0\n",
       "HalfBath           0\n",
       "BedroomAbvGr       0\n",
       "KitchenAbvGr       0\n",
       "TotRmsAbvGrd       0\n",
       "Fireplaces         0\n",
       "GarageYrBlt       58\n",
       "GarageCars         0\n",
       "GarageArea         0\n",
       "WoodDeckSF         0\n",
       "OpenPorchSF        0\n",
       "EnclosedPorch      0\n",
       "3SsnPorch          0\n",
       "ScreenPorch        0\n",
       "PoolArea           0\n",
       "MiscVal            0\n",
       "MoSold             0\n",
       "YrSold             0\n",
       "dtype: int64"
      ]
     },
     "execution_count": 11,
     "metadata": {},
     "output_type": "execute_result"
    }
   ],
   "source": [
    "X_tr.isnull().sum()"
   ]
  },
  {
   "cell_type": "code",
   "execution_count": 12,
   "id": "8be2c84f",
   "metadata": {
    "execution": {
     "iopub.execute_input": "2022-02-12T06:28:43.983694Z",
     "iopub.status.busy": "2022-02-12T06:28:43.982998Z",
     "iopub.status.idle": "2022-02-12T06:28:43.987450Z",
     "shell.execute_reply": "2022-02-12T06:28:43.987986Z",
     "shell.execute_reply.started": "2022-02-12T06:11:00.520954Z"
    },
    "papermill": {
     "duration": 0.030977,
     "end_time": "2022-02-12T06:28:43.988173",
     "exception": false,
     "start_time": "2022-02-12T06:28:43.957196",
     "status": "completed"
    },
    "tags": []
   },
   "outputs": [],
   "source": [
    "def score_molde(X_tr,X_t,y_tr,y_t):\n",
    "    model=RandomForestRegressor(n_estimators=100,random_state=0)\n",
    "    model.fit(X_tr,y_tr)\n",
    "    preds=model.predict(X_t)\n",
    "    return mean_absolute_error(preds,y_t)"
   ]
  },
  {
   "cell_type": "code",
   "execution_count": 13,
   "id": "6977daeb",
   "metadata": {
    "execution": {
     "iopub.execute_input": "2022-02-12T06:28:44.041053Z",
     "iopub.status.busy": "2022-02-12T06:28:44.040410Z",
     "iopub.status.idle": "2022-02-12T06:28:44.050026Z",
     "shell.execute_reply": "2022-02-12T06:28:44.050562Z",
     "shell.execute_reply.started": "2022-02-12T06:11:00.529262Z"
    },
    "papermill": {
     "duration": 0.039269,
     "end_time": "2022-02-12T06:28:44.050745",
     "exception": false,
     "start_time": "2022-02-12T06:28:44.011476",
     "status": "completed"
    },
    "tags": []
   },
   "outputs": [],
   "source": [
    "missing_col=[col for col in X_tr.columns\n",
    "            if X_tr[col].isnull().any()]\n",
    "X_tr_drop=X_tr.drop(missing_col,axis=1)\n",
    "X_t_drop=X_t.drop(missing_col,axis=1)"
   ]
  },
  {
   "cell_type": "code",
   "execution_count": 14,
   "id": "30bb8c81",
   "metadata": {
    "execution": {
     "iopub.execute_input": "2022-02-12T06:28:44.100318Z",
     "iopub.status.busy": "2022-02-12T06:28:44.099706Z",
     "iopub.status.idle": "2022-02-12T06:28:45.315819Z",
     "shell.execute_reply": "2022-02-12T06:28:45.315281Z",
     "shell.execute_reply.started": "2022-02-12T06:11:15.262353Z"
    },
    "papermill": {
     "duration": 1.241703,
     "end_time": "2022-02-12T06:28:45.315961",
     "exception": false,
     "start_time": "2022-02-12T06:28:44.074258",
     "status": "completed"
    },
    "tags": []
   },
   "outputs": [
    {
     "data": {
      "text/plain": [
       "17837.82570776256"
      ]
     },
     "execution_count": 14,
     "metadata": {},
     "output_type": "execute_result"
    }
   ],
   "source": [
    "score_molde(X_tr_drop,X_t_drop,y_tr,y_t)"
   ]
  },
  {
   "cell_type": "code",
   "execution_count": 15,
   "id": "47bf718a",
   "metadata": {
    "execution": {
     "iopub.execute_input": "2022-02-12T06:28:45.368893Z",
     "iopub.status.busy": "2022-02-12T06:28:45.368211Z",
     "iopub.status.idle": "2022-02-12T06:28:45.385268Z",
     "shell.execute_reply": "2022-02-12T06:28:45.384569Z",
     "shell.execute_reply.started": "2022-02-12T06:13:46.338891Z"
    },
    "papermill": {
     "duration": 0.045712,
     "end_time": "2022-02-12T06:28:45.385422",
     "exception": false,
     "start_time": "2022-02-12T06:28:45.339710",
     "status": "completed"
    },
    "tags": []
   },
   "outputs": [],
   "source": [
    "from sklearn.impute import SimpleImputer\n",
    "impute=SimpleImputer()\n",
    "impute_X_tr=pd.DataFrame(impute.fit_transform(X_tr))\n",
    "impute_X_t=pd.DataFrame(impute.transform(X_t))"
   ]
  },
  {
   "cell_type": "code",
   "execution_count": 16,
   "id": "b7461547",
   "metadata": {
    "execution": {
     "iopub.execute_input": "2022-02-12T06:28:45.436556Z",
     "iopub.status.busy": "2022-02-12T06:28:45.435885Z",
     "iopub.status.idle": "2022-02-12T06:28:46.775146Z",
     "shell.execute_reply": "2022-02-12T06:28:46.775625Z",
     "shell.execute_reply.started": "2022-02-12T06:14:26.369052Z"
    },
    "papermill": {
     "duration": 1.366405,
     "end_time": "2022-02-12T06:28:46.775801",
     "exception": false,
     "start_time": "2022-02-12T06:28:45.409396",
     "status": "completed"
    },
    "tags": []
   },
   "outputs": [
    {
     "data": {
      "text/plain": [
       "18062.894611872147"
      ]
     },
     "execution_count": 16,
     "metadata": {},
     "output_type": "execute_result"
    }
   ],
   "source": [
    "score_molde(impute_X_tr,impute_X_t,y_tr,y_t)"
   ]
  },
  {
   "cell_type": "code",
   "execution_count": 17,
   "id": "fdfecd52",
   "metadata": {
    "execution": {
     "iopub.execute_input": "2022-02-12T06:28:46.827609Z",
     "iopub.status.busy": "2022-02-12T06:28:46.826664Z",
     "iopub.status.idle": "2022-02-12T06:28:46.841284Z",
     "shell.execute_reply": "2022-02-12T06:28:46.841840Z",
     "shell.execute_reply.started": "2022-02-12T06:15:39.007145Z"
    },
    "papermill": {
     "duration": 0.042145,
     "end_time": "2022-02-12T06:28:46.842029",
     "exception": false,
     "start_time": "2022-02-12T06:28:46.799884",
     "status": "completed"
    },
    "tags": []
   },
   "outputs": [],
   "source": [
    "from sklearn.impute import SimpleImputer\n",
    "impute=SimpleImputer(strategy='median')\n",
    "final_impute_X_tr=pd.DataFrame(impute.fit_transform(X_tr))\n",
    "final_impute_X_t=pd.DataFrame(impute.transform(X_t))"
   ]
  },
  {
   "cell_type": "code",
   "execution_count": 18,
   "id": "bb81041f",
   "metadata": {
    "execution": {
     "iopub.execute_input": "2022-02-12T06:28:46.913045Z",
     "iopub.status.busy": "2022-02-12T06:28:46.896841Z",
     "iopub.status.idle": "2022-02-12T06:28:48.235313Z",
     "shell.execute_reply": "2022-02-12T06:28:48.234745Z",
     "shell.execute_reply.started": "2022-02-12T06:15:57.335536Z"
    },
    "papermill": {
     "duration": 1.369335,
     "end_time": "2022-02-12T06:28:48.235462",
     "exception": false,
     "start_time": "2022-02-12T06:28:46.866127",
     "status": "completed"
    },
    "tags": []
   },
   "outputs": [
    {
     "data": {
      "text/plain": [
       "17791.59899543379"
      ]
     },
     "execution_count": 18,
     "metadata": {},
     "output_type": "execute_result"
    }
   ],
   "source": [
    "score_molde(final_impute_X_tr,final_impute_X_t,y_tr,y_t)"
   ]
  },
  {
   "cell_type": "code",
   "execution_count": 19,
   "id": "f92dbc07",
   "metadata": {
    "execution": {
     "iopub.execute_input": "2022-02-12T06:28:48.292436Z",
     "iopub.status.busy": "2022-02-12T06:28:48.291751Z",
     "iopub.status.idle": "2022-02-12T06:28:49.654236Z",
     "shell.execute_reply": "2022-02-12T06:28:49.653583Z",
     "shell.execute_reply.started": "2022-02-12T06:27:06.208328Z"
    },
    "papermill": {
     "duration": 1.39434,
     "end_time": "2022-02-12T06:28:49.654378",
     "exception": false,
     "start_time": "2022-02-12T06:28:48.260038",
     "status": "completed"
    },
    "tags": []
   },
   "outputs": [
    {
     "data": {
      "text/plain": [
       "array([125985.5 , 154599.5 , 180070.24, ..., 154751.44, 107387.  ,\n",
       "       229281.55])"
      ]
     },
     "execution_count": 19,
     "metadata": {},
     "output_type": "execute_result"
    }
   ],
   "source": [
    "final_X_t=pd.DataFrame(impute.transform(X_test))\n",
    "model=RandomForestRegressor(n_estimators=100,random_state=0)\n",
    "model.fit(final_impute_X_tr,y_tr)\n",
    "pred=model.predict(final_X_t)\n",
    "pred"
   ]
  },
  {
   "cell_type": "code",
   "execution_count": null,
   "id": "2b5977bc",
   "metadata": {
    "papermill": {
     "duration": 0.024675,
     "end_time": "2022-02-12T06:28:49.703975",
     "exception": false,
     "start_time": "2022-02-12T06:28:49.679300",
     "status": "completed"
    },
    "tags": []
   },
   "outputs": [],
   "source": []
  }
 ],
 "metadata": {
  "kernelspec": {
   "display_name": "Python 3",
   "language": "python",
   "name": "python3"
  },
  "language_info": {
   "codemirror_mode": {
    "name": "ipython",
    "version": 3
   },
   "file_extension": ".py",
   "mimetype": "text/x-python",
   "name": "python",
   "nbconvert_exporter": "python",
   "pygments_lexer": "ipython3",
   "version": "3.7.12"
  },
  "papermill": {
   "default_parameters": {},
   "duration": 18.889768,
   "end_time": "2022-02-12T06:28:50.439697",
   "environment_variables": {},
   "exception": null,
   "input_path": "__notebook__.ipynb",
   "output_path": "__notebook__.ipynb",
   "parameters": {},
   "start_time": "2022-02-12T06:28:31.549929",
   "version": "2.3.3"
  }
 },
 "nbformat": 4,
 "nbformat_minor": 5
}
