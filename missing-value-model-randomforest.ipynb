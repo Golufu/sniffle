{
 "cells": [
  {
   "cell_type": "code",
   "execution_count": 1,
   "id": "ce14f1f2",
   "metadata": {
    "_cell_guid": "b1076dfc-b9ad-4769-8c92-a6c4dae69d19",
    "_uuid": "8f2839f25d086af736a60e9eeb907d3b93b6e0e5",
    "execution": {
     "iopub.execute_input": "2022-02-12T06:32:35.625893Z",
     "iopub.status.busy": "2022-02-12T06:32:35.624127Z",
     "iopub.status.idle": "2022-02-12T06:32:35.645415Z",
     "shell.execute_reply": "2022-02-12T06:32:35.646336Z",
     "shell.execute_reply.started": "2022-02-12T06:11:00.292308Z"
    },
    "papermill": {
     "duration": 0.044545,
     "end_time": "2022-02-12T06:32:35.646881",
     "exception": false,
     "start_time": "2022-02-12T06:32:35.602336",
     "status": "completed"
    },
    "tags": []
   },
   "outputs": [
    {
     "name": "stdout",
     "output_type": "stream",
     "text": [
      "/kaggle/input/home-data-for-ml-course/sample_submission.csv\n",
      "/kaggle/input/home-data-for-ml-course/train.csv\n",
      "/kaggle/input/home-data-for-ml-course/test.csv\n"
     ]
    }
   ],
   "source": [
    "# This Python 3 environment comes with many helpful analytics libraries installed\n",
    "# It is defined by the kaggle/python Docker image: https://github.com/kaggle/docker-python\n",
    "# For example, here's several helpful packages to load\n",
    "\n",
    "import numpy as np # linear algebra\n",
    "import pandas as pd # data processing, CSV file I/O (e.g. pd.read_csv)\n",
    "\n",
    "# Input data files are available in the read-only \"../input/\" directory\n",
    "# For example, running this (by clicking run or pressing Shift+Enter) will list all files under the input directory\n",
    "\n",
    "import os\n",
    "for dirname, _, filenames in os.walk('/kaggle/input'):\n",
    "    for filename in filenames:\n",
    "        print(os.path.join(dirname, filename))\n",
    "\n",
    "# You can write up to 20GB to the current directory (/kaggle/working/) that gets preserved as output when you create a version using \"Save & Run All\" \n",
    "# You can also write temporary files to /kaggle/temp/, but they won't be saved outside of the current session"
   ]
  },
  {
   "cell_type": "code",
   "execution_count": 2,
   "id": "88128404",
   "metadata": {
    "execution": {
     "iopub.execute_input": "2022-02-12T06:32:35.687265Z",
     "iopub.status.busy": "2022-02-12T06:32:35.686365Z",
     "iopub.status.idle": "2022-02-12T06:32:37.055954Z",
     "shell.execute_reply": "2022-02-12T06:32:37.055054Z",
     "shell.execute_reply.started": "2022-02-12T06:11:00.311867Z"
    },
    "papermill": {
     "duration": 1.3895,
     "end_time": "2022-02-12T06:32:37.056110",
     "exception": false,
     "start_time": "2022-02-12T06:32:35.666610",
     "status": "completed"
    },
    "tags": []
   },
   "outputs": [],
   "source": [
    "import pandas as pd\n",
    "import numpy as np\n",
    "import matplotlib.pyplot as plt\n",
    "from sklearn.ensemble import RandomForestRegressor\n",
    "from sklearn.model_selection import train_test_split\n",
    "from sklearn.tree import DecisionTreeRegressor\n",
    "from sklearn.metrics import mean_absolute_error\n",
    "import warnings\n",
    "warnings.filterwarnings('ignore')\n",
    "%matplotlib Inline"
   ]
  },
  {
   "cell_type": "code",
   "execution_count": 3,
   "id": "cdcd8c19",
   "metadata": {
    "execution": {
     "iopub.execute_input": "2022-02-12T06:32:37.092843Z",
     "iopub.status.busy": "2022-02-12T06:32:37.091789Z",
     "iopub.status.idle": "2022-02-12T06:32:37.178419Z",
     "shell.execute_reply": "2022-02-12T06:32:37.178948Z",
     "shell.execute_reply.started": "2022-02-12T06:11:00.325822Z"
    },
    "papermill": {
     "duration": 0.107073,
     "end_time": "2022-02-12T06:32:37.179113",
     "exception": false,
     "start_time": "2022-02-12T06:32:37.072040",
     "status": "completed"
    },
    "tags": []
   },
   "outputs": [],
   "source": [
    "df_full=pd.read_csv('../input/home-data-for-ml-course/train.csv', index_col='Id')\n",
    "df_test_full=pd.read_csv('../input/home-data-for-ml-course/test.csv', index_col='Id')\n"
   ]
  },
  {
   "cell_type": "code",
   "execution_count": 4,
   "id": "46ee4566",
   "metadata": {
    "execution": {
     "iopub.execute_input": "2022-02-12T06:32:37.214159Z",
     "iopub.status.busy": "2022-02-12T06:32:37.213560Z",
     "iopub.status.idle": "2022-02-12T06:32:37.221603Z",
     "shell.execute_reply": "2022-02-12T06:32:37.221097Z",
     "shell.execute_reply.started": "2022-02-12T06:11:00.390246Z"
    },
    "papermill": {
     "duration": 0.026676,
     "end_time": "2022-02-12T06:32:37.221753",
     "exception": false,
     "start_time": "2022-02-12T06:32:37.195077",
     "status": "completed"
    },
    "tags": []
   },
   "outputs": [
    {
     "data": {
      "text/plain": [
       "(1460, 80)"
      ]
     },
     "execution_count": 4,
     "metadata": {},
     "output_type": "execute_result"
    }
   ],
   "source": [
    "df_full.shape"
   ]
  },
  {
   "cell_type": "code",
   "execution_count": 5,
   "id": "a1dc2b4f",
   "metadata": {
    "execution": {
     "iopub.execute_input": "2022-02-12T06:32:37.258475Z",
     "iopub.status.busy": "2022-02-12T06:32:37.257833Z",
     "iopub.status.idle": "2022-02-12T06:32:37.261975Z",
     "shell.execute_reply": "2022-02-12T06:32:37.262493Z",
     "shell.execute_reply.started": "2022-02-12T06:11:00.401922Z"
    },
    "papermill": {
     "duration": 0.024679,
     "end_time": "2022-02-12T06:32:37.262681",
     "exception": false,
     "start_time": "2022-02-12T06:32:37.238002",
     "status": "completed"
    },
    "tags": []
   },
   "outputs": [
    {
     "data": {
      "text/plain": [
       "(1459, 79)"
      ]
     },
     "execution_count": 5,
     "metadata": {},
     "output_type": "execute_result"
    }
   ],
   "source": [
    "df_test_full.shape"
   ]
  },
  {
   "cell_type": "code",
   "execution_count": 6,
   "id": "2d44d15e",
   "metadata": {
    "execution": {
     "iopub.execute_input": "2022-02-12T06:32:37.305695Z",
     "iopub.status.busy": "2022-02-12T06:32:37.305067Z",
     "iopub.status.idle": "2022-02-12T06:32:37.311317Z",
     "shell.execute_reply": "2022-02-12T06:32:37.311806Z",
     "shell.execute_reply.started": "2022-02-12T06:11:00.414169Z"
    },
    "papermill": {
     "duration": 0.031627,
     "end_time": "2022-02-12T06:32:37.311981",
     "exception": false,
     "start_time": "2022-02-12T06:32:37.280354",
     "status": "completed"
    },
    "tags": []
   },
   "outputs": [
    {
     "data": {
      "text/plain": [
       "MSSubClass         0\n",
       "MSZoning           0\n",
       "LotFrontage      259\n",
       "LotArea            0\n",
       "Street             0\n",
       "                ... \n",
       "MoSold             0\n",
       "YrSold             0\n",
       "SaleType           0\n",
       "SaleCondition      0\n",
       "SalePrice          0\n",
       "Length: 80, dtype: int64"
      ]
     },
     "execution_count": 6,
     "metadata": {},
     "output_type": "execute_result"
    }
   ],
   "source": [
    "df_full.isnull().sum()\n",
    "    "
   ]
  },
  {
   "cell_type": "code",
   "execution_count": 7,
   "id": "1ac020bd",
   "metadata": {
    "execution": {
     "iopub.execute_input": "2022-02-12T06:32:37.349783Z",
     "iopub.status.busy": "2022-02-12T06:32:37.349149Z",
     "iopub.status.idle": "2022-02-12T06:32:37.360580Z",
     "shell.execute_reply": "2022-02-12T06:32:37.361045Z",
     "shell.execute_reply.started": "2022-02-12T06:11:00.441846Z"
    },
    "papermill": {
     "duration": 0.032386,
     "end_time": "2022-02-12T06:32:37.361207",
     "exception": false,
     "start_time": "2022-02-12T06:32:37.328821",
     "status": "completed"
    },
    "tags": []
   },
   "outputs": [
    {
     "data": {
      "text/plain": [
       "MSSubClass         0\n",
       "MSZoning           4\n",
       "LotFrontage      227\n",
       "LotArea            0\n",
       "Street             0\n",
       "                ... \n",
       "MiscVal            0\n",
       "MoSold             0\n",
       "YrSold             0\n",
       "SaleType           1\n",
       "SaleCondition      0\n",
       "Length: 79, dtype: int64"
      ]
     },
     "execution_count": 7,
     "metadata": {},
     "output_type": "execute_result"
    }
   ],
   "source": [
    "df_test_full.isnull().sum()"
   ]
  },
  {
   "cell_type": "code",
   "execution_count": 8,
   "id": "51d4a7f9",
   "metadata": {
    "execution": {
     "iopub.execute_input": "2022-02-12T06:32:37.398388Z",
     "iopub.status.busy": "2022-02-12T06:32:37.397780Z",
     "iopub.status.idle": "2022-02-12T06:32:37.412560Z",
     "shell.execute_reply": "2022-02-12T06:32:37.411905Z",
     "shell.execute_reply.started": "2022-02-12T06:11:00.466102Z"
    },
    "papermill": {
     "duration": 0.034483,
     "end_time": "2022-02-12T06:32:37.412704",
     "exception": false,
     "start_time": "2022-02-12T06:32:37.378221",
     "status": "completed"
    },
    "tags": []
   },
   "outputs": [],
   "source": [
    "df_full.dropna(axis=0,subset=['SalePrice'],inplace=True)\n",
    "y=df_full.SalePrice\n",
    "df_full.drop(['SalePrice'],axis=1,inplace=True)"
   ]
  },
  {
   "cell_type": "code",
   "execution_count": 9,
   "id": "c7b3e384",
   "metadata": {
    "execution": {
     "iopub.execute_input": "2022-02-12T06:32:37.456024Z",
     "iopub.status.busy": "2022-02-12T06:32:37.455322Z",
     "iopub.status.idle": "2022-02-12T06:32:37.457926Z",
     "shell.execute_reply": "2022-02-12T06:32:37.458335Z",
     "shell.execute_reply.started": "2022-02-12T06:11:00.481024Z"
    },
    "papermill": {
     "duration": 0.028371,
     "end_time": "2022-02-12T06:32:37.458551",
     "exception": false,
     "start_time": "2022-02-12T06:32:37.430180",
     "status": "completed"
    },
    "tags": []
   },
   "outputs": [],
   "source": [
    "X=df_full.select_dtypes(exclude=['object'])\n",
    "X_test=df_test_full.select_dtypes(exclude=['object'])\n"
   ]
  },
  {
   "cell_type": "code",
   "execution_count": 10,
   "id": "6a3c4741",
   "metadata": {
    "execution": {
     "iopub.execute_input": "2022-02-12T06:32:37.500159Z",
     "iopub.status.busy": "2022-02-12T06:32:37.496758Z",
     "iopub.status.idle": "2022-02-12T06:32:37.503991Z",
     "shell.execute_reply": "2022-02-12T06:32:37.504476Z",
     "shell.execute_reply.started": "2022-02-12T06:11:00.495783Z"
    },
    "papermill": {
     "duration": 0.029039,
     "end_time": "2022-02-12T06:32:37.504662",
     "exception": false,
     "start_time": "2022-02-12T06:32:37.475623",
     "status": "completed"
    },
    "tags": []
   },
   "outputs": [],
   "source": [
    "X_tr,X_t,y_tr,y_t=train_test_split(X,y,test_size=0.2,random_state=0)"
   ]
  },
  {
   "cell_type": "code",
   "execution_count": 11,
   "id": "e721cb91",
   "metadata": {
    "execution": {
     "iopub.execute_input": "2022-02-12T06:32:37.546138Z",
     "iopub.status.busy": "2022-02-12T06:32:37.545210Z",
     "iopub.status.idle": "2022-02-12T06:32:37.553605Z",
     "shell.execute_reply": "2022-02-12T06:32:37.554066Z",
     "shell.execute_reply.started": "2022-02-12T06:11:00.505110Z"
    },
    "papermill": {
     "duration": 0.030372,
     "end_time": "2022-02-12T06:32:37.554233",
     "exception": false,
     "start_time": "2022-02-12T06:32:37.523861",
     "status": "completed"
    },
    "tags": []
   },
   "outputs": [
    {
     "data": {
      "text/plain": [
       "MSSubClass         0\n",
       "LotFrontage      212\n",
       "LotArea            0\n",
       "OverallQual        0\n",
       "OverallCond        0\n",
       "YearBuilt          0\n",
       "YearRemodAdd       0\n",
       "MasVnrArea         6\n",
       "BsmtFinSF1         0\n",
       "BsmtFinSF2         0\n",
       "BsmtUnfSF          0\n",
       "TotalBsmtSF        0\n",
       "1stFlrSF           0\n",
       "2ndFlrSF           0\n",
       "LowQualFinSF       0\n",
       "GrLivArea          0\n",
       "BsmtFullBath       0\n",
       "BsmtHalfBath       0\n",
       "FullBath           0\n",
       "HalfBath           0\n",
       "BedroomAbvGr       0\n",
       "KitchenAbvGr       0\n",
       "TotRmsAbvGrd       0\n",
       "Fireplaces         0\n",
       "GarageYrBlt       58\n",
       "GarageCars         0\n",
       "GarageArea         0\n",
       "WoodDeckSF         0\n",
       "OpenPorchSF        0\n",
       "EnclosedPorch      0\n",
       "3SsnPorch          0\n",
       "ScreenPorch        0\n",
       "PoolArea           0\n",
       "MiscVal            0\n",
       "MoSold             0\n",
       "YrSold             0\n",
       "dtype: int64"
      ]
     },
     "execution_count": 11,
     "metadata": {},
     "output_type": "execute_result"
    }
   ],
   "source": [
    "X_tr.isnull().sum()"
   ]
  },
  {
   "cell_type": "code",
   "execution_count": 12,
   "id": "5fd1e56c",
   "metadata": {
    "execution": {
     "iopub.execute_input": "2022-02-12T06:32:37.595635Z",
     "iopub.status.busy": "2022-02-12T06:32:37.594647Z",
     "iopub.status.idle": "2022-02-12T06:32:37.600036Z",
     "shell.execute_reply": "2022-02-12T06:32:37.600470Z",
     "shell.execute_reply.started": "2022-02-12T06:11:00.520954Z"
    },
    "papermill": {
     "duration": 0.02813,
     "end_time": "2022-02-12T06:32:37.600647",
     "exception": false,
     "start_time": "2022-02-12T06:32:37.572517",
     "status": "completed"
    },
    "tags": []
   },
   "outputs": [],
   "source": [
    "def score_molde(X_tr,X_t,y_tr,y_t):\n",
    "    model=RandomForestRegressor(n_estimators=100,random_state=0)\n",
    "    model.fit(X_tr,y_tr)\n",
    "    preds=model.predict(X_t)\n",
    "    return mean_absolute_error(preds,y_t)"
   ]
  },
  {
   "cell_type": "code",
   "execution_count": 13,
   "id": "ad22ce7e",
   "metadata": {
    "execution": {
     "iopub.execute_input": "2022-02-12T06:32:37.640481Z",
     "iopub.status.busy": "2022-02-12T06:32:37.639534Z",
     "iopub.status.idle": "2022-02-12T06:32:37.651772Z",
     "shell.execute_reply": "2022-02-12T06:32:37.652229Z",
     "shell.execute_reply.started": "2022-02-12T06:11:00.529262Z"
    },
    "papermill": {
     "duration": 0.033464,
     "end_time": "2022-02-12T06:32:37.652408",
     "exception": false,
     "start_time": "2022-02-12T06:32:37.618944",
     "status": "completed"
    },
    "tags": []
   },
   "outputs": [],
   "source": [
    "missing_col=[col for col in X_tr.columns\n",
    "            if X_tr[col].isnull().any()]\n",
    "X_tr_drop=X_tr.drop(missing_col,axis=1)\n",
    "X_t_drop=X_t.drop(missing_col,axis=1)"
   ]
  },
  {
   "cell_type": "code",
   "execution_count": 14,
   "id": "3d5c5940",
   "metadata": {
    "execution": {
     "iopub.execute_input": "2022-02-12T06:32:37.691419Z",
     "iopub.status.busy": "2022-02-12T06:32:37.690477Z",
     "iopub.status.idle": "2022-02-12T06:32:38.882449Z",
     "shell.execute_reply": "2022-02-12T06:32:38.881928Z",
     "shell.execute_reply.started": "2022-02-12T06:11:15.262353Z"
    },
    "papermill": {
     "duration": 1.212472,
     "end_time": "2022-02-12T06:32:38.882589",
     "exception": false,
     "start_time": "2022-02-12T06:32:37.670117",
     "status": "completed"
    },
    "tags": []
   },
   "outputs": [
    {
     "data": {
      "text/plain": [
       "17837.82570776256"
      ]
     },
     "execution_count": 14,
     "metadata": {},
     "output_type": "execute_result"
    }
   ],
   "source": [
    "score_molde(X_tr_drop,X_t_drop,y_tr,y_t)"
   ]
  },
  {
   "cell_type": "code",
   "execution_count": 15,
   "id": "4a479bd7",
   "metadata": {
    "execution": {
     "iopub.execute_input": "2022-02-12T06:32:38.921894Z",
     "iopub.status.busy": "2022-02-12T06:32:38.921273Z",
     "iopub.status.idle": "2022-02-12T06:32:38.939585Z",
     "shell.execute_reply": "2022-02-12T06:32:38.940040Z",
     "shell.execute_reply.started": "2022-02-12T06:31:00.609704Z"
    },
    "papermill": {
     "duration": 0.039336,
     "end_time": "2022-02-12T06:32:38.940222",
     "exception": false,
     "start_time": "2022-02-12T06:32:38.900886",
     "status": "completed"
    },
    "tags": []
   },
   "outputs": [],
   "source": [
    "from sklearn.impute import SimpleImputer\n",
    "impute=SimpleImputer()\n",
    "impute_X_tr=pd.DataFrame(impute.fit_transform(X_tr))\n",
    "impute_X_t=pd.DataFrame(impute.transform(X_t))\n",
    "impute_X_tr.columns=X_tr.columns\n",
    "impute_X_t.columns=X_t.columns"
   ]
  },
  {
   "cell_type": "code",
   "execution_count": 16,
   "id": "0230d560",
   "metadata": {
    "execution": {
     "iopub.execute_input": "2022-02-12T06:32:38.979098Z",
     "iopub.status.busy": "2022-02-12T06:32:38.978490Z",
     "iopub.status.idle": "2022-02-12T06:32:40.301789Z",
     "shell.execute_reply": "2022-02-12T06:32:40.301174Z",
     "shell.execute_reply.started": "2022-02-12T06:31:02.864460Z"
    },
    "papermill": {
     "duration": 1.34346,
     "end_time": "2022-02-12T06:32:40.301938",
     "exception": false,
     "start_time": "2022-02-12T06:32:38.958478",
     "status": "completed"
    },
    "tags": []
   },
   "outputs": [
    {
     "data": {
      "text/plain": [
       "18062.894611872147"
      ]
     },
     "execution_count": 16,
     "metadata": {},
     "output_type": "execute_result"
    }
   ],
   "source": [
    "score_molde(impute_X_tr,impute_X_t,y_tr,y_t)"
   ]
  },
  {
   "cell_type": "code",
   "execution_count": 17,
   "id": "69cc22c3",
   "metadata": {
    "execution": {
     "iopub.execute_input": "2022-02-12T06:32:40.346178Z",
     "iopub.status.busy": "2022-02-12T06:32:40.345176Z",
     "iopub.status.idle": "2022-02-12T06:32:40.357496Z",
     "shell.execute_reply": "2022-02-12T06:32:40.356958Z",
     "shell.execute_reply.started": "2022-02-12T06:31:10.336756Z"
    },
    "papermill": {
     "duration": 0.03706,
     "end_time": "2022-02-12T06:32:40.357674",
     "exception": false,
     "start_time": "2022-02-12T06:32:40.320614",
     "status": "completed"
    },
    "tags": []
   },
   "outputs": [],
   "source": [
    "from sklearn.impute import SimpleImputer\n",
    "impute=SimpleImputer(strategy='median')\n",
    "final_impute_X_tr=pd.DataFrame(impute.fit_transform(X_tr))\n",
    "final_impute_X_t=pd.DataFrame(impute.transform(X_t))"
   ]
  },
  {
   "cell_type": "code",
   "execution_count": 18,
   "id": "b5208f0a",
   "metadata": {
    "execution": {
     "iopub.execute_input": "2022-02-12T06:32:40.422513Z",
     "iopub.status.busy": "2022-02-12T06:32:40.397284Z",
     "iopub.status.idle": "2022-02-12T06:32:41.716285Z",
     "shell.execute_reply": "2022-02-12T06:32:41.715346Z",
     "shell.execute_reply.started": "2022-02-12T06:31:12.369684Z"
    },
    "papermill": {
     "duration": 1.340761,
     "end_time": "2022-02-12T06:32:41.716467",
     "exception": false,
     "start_time": "2022-02-12T06:32:40.375706",
     "status": "completed"
    },
    "tags": []
   },
   "outputs": [
    {
     "data": {
      "text/plain": [
       "17791.59899543379"
      ]
     },
     "execution_count": 18,
     "metadata": {},
     "output_type": "execute_result"
    }
   ],
   "source": [
    "score_molde(final_impute_X_tr,final_impute_X_t,y_tr,y_t)"
   ]
  },
  {
   "cell_type": "code",
   "execution_count": 19,
   "id": "19ece16b",
   "metadata": {
    "execution": {
     "iopub.execute_input": "2022-02-12T06:32:41.764103Z",
     "iopub.status.busy": "2022-02-12T06:32:41.763427Z",
     "iopub.status.idle": "2022-02-12T06:32:43.107681Z",
     "shell.execute_reply": "2022-02-12T06:32:43.106674Z",
     "shell.execute_reply.started": "2022-02-12T06:31:16.958912Z"
    },
    "papermill": {
     "duration": 1.371244,
     "end_time": "2022-02-12T06:32:43.107839",
     "exception": false,
     "start_time": "2022-02-12T06:32:41.736595",
     "status": "completed"
    },
    "tags": []
   },
   "outputs": [
    {
     "data": {
      "text/plain": [
       "array([125985.5 , 154599.5 , 180070.24, ..., 154751.44, 107387.  ,\n",
       "       229281.55])"
      ]
     },
     "execution_count": 19,
     "metadata": {},
     "output_type": "execute_result"
    }
   ],
   "source": [
    "final_X_t=pd.DataFrame(impute.transform(X_test))\n",
    "model=RandomForestRegressor(n_estimators=100,random_state=0)\n",
    "model.fit(final_impute_X_tr,y_tr)\n",
    "pred=model.predict(final_X_t)\n",
    "pred"
   ]
  },
  {
   "cell_type": "code",
   "execution_count": null,
   "id": "8bfa1bb5",
   "metadata": {
    "papermill": {
     "duration": 0.019945,
     "end_time": "2022-02-12T06:32:43.146550",
     "exception": false,
     "start_time": "2022-02-12T06:32:43.126605",
     "status": "completed"
    },
    "tags": []
   },
   "outputs": [],
   "source": []
  }
 ],
 "metadata": {
  "kernelspec": {
   "display_name": "Python 3",
   "language": "python",
   "name": "python3"
  },
  "language_info": {
   "codemirror_mode": {
    "name": "ipython",
    "version": 3
   },
   "file_extension": ".py",
   "mimetype": "text/x-python",
   "name": "python",
   "nbconvert_exporter": "python",
   "pygments_lexer": "ipython3",
   "version": "3.7.12"
  },
  "papermill": {
   "default_parameters": {},
   "duration": 17.854123,
   "end_time": "2022-02-12T06:32:43.881656",
   "environment_variables": {},
   "exception": null,
   "input_path": "__notebook__.ipynb",
   "output_path": "__notebook__.ipynb",
   "parameters": {},
   "start_time": "2022-02-12T06:32:26.027533",
   "version": "2.3.3"
  }
 },
 "nbformat": 4,
 "nbformat_minor": 5
}
