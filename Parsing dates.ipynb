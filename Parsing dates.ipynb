{
 "cells": [
  {
   "cell_type": "code",
   "execution_count": 1,
   "id": "e5467cd6",
   "metadata": {
    "_cell_guid": "b1076dfc-b9ad-4769-8c92-a6c4dae69d19",
    "_uuid": "8f2839f25d086af736a60e9eeb907d3b93b6e0e5",
    "execution": {
     "iopub.execute_input": "2022-02-11T15:49:10.705339Z",
     "iopub.status.busy": "2022-02-11T15:49:10.704121Z",
     "iopub.status.idle": "2022-02-11T15:49:10.723785Z",
     "shell.execute_reply": "2022-02-11T15:49:10.723125Z",
     "shell.execute_reply.started": "2022-02-11T15:10:13.349378Z"
    },
    "papermill": {
     "duration": 0.038282,
     "end_time": "2022-02-11T15:49:10.723961",
     "exception": false,
     "start_time": "2022-02-11T15:49:10.685679",
     "status": "completed"
    },
    "tags": []
   },
   "outputs": [
    {
     "name": "stdout",
     "output_type": "stream",
     "text": [
      "/kaggle/input/landslide-events/catalog.csv\n"
     ]
    }
   ],
   "source": [
    "# This Python 3 environment comes with many helpful analytics libraries installed\n",
    "# It is defined by the kaggle/python Docker image: https://github.com/kaggle/docker-python\n",
    "# For example, here's several helpful packages to load\n",
    "\n",
    "import numpy as np # linear algebra\n",
    "import pandas as pd # data processing, CSV file I/O (e.g. pd.read_csv)\n",
    "\n",
    "# Input data files are available in the read-only \"../input/\" directory\n",
    "# For example, running this (by clicking run or pressing Shift+Enter) will list all files under the input directory\n",
    "\n",
    "import os\n",
    "for dirname, _, filenames in os.walk('/kaggle/input'):\n",
    "    for filename in filenames:\n",
    "        print(os.path.join(dirname, filename))\n",
    "\n",
    "# You can write up to 20GB to the current directory (/kaggle/working/) that gets preserved as output when you create a version using \"Save & Run All\" \n",
    "# You can also write temporary files to /kaggle/temp/, but they won't be saved outside of the current session"
   ]
  },
  {
   "cell_type": "code",
   "execution_count": 2,
   "id": "72d50cf7",
   "metadata": {
    "execution": {
     "iopub.execute_input": "2022-02-11T15:49:10.763462Z",
     "iopub.status.busy": "2022-02-11T15:49:10.762543Z",
     "iopub.status.idle": "2022-02-11T15:49:11.990095Z",
     "shell.execute_reply": "2022-02-11T15:49:11.989461Z",
     "shell.execute_reply.started": "2022-02-11T15:15:45.582949Z"
    },
    "papermill": {
     "duration": 1.251085,
     "end_time": "2022-02-11T15:49:11.990277",
     "exception": false,
     "start_time": "2022-02-11T15:49:10.739192",
     "status": "completed"
    },
    "tags": []
   },
   "outputs": [],
   "source": [
    "import pandas as pd\n",
    "import numpy as np\n",
    "import seaborn as sns\n",
    "import datetime as dt\n",
    "import matplotlib.pyplot as plt\n",
    "from scipy import stats\n",
    "from mlxtend.preprocessing import minmax_scaling\n",
    "%matplotlib inline\n",
    "%config InlineBacked.figure_format='retina'\n",
    "pd.set_option('display.max_columns',100)\n",
    "import warnings\n",
    "warnings.filterwarnings('ignore')\n",
    "np.random.seed(0)"
   ]
  },
  {
   "cell_type": "code",
   "execution_count": 3,
   "id": "5d0f39ec",
   "metadata": {
    "execution": {
     "iopub.execute_input": "2022-02-11T15:49:12.025453Z",
     "iopub.status.busy": "2022-02-11T15:49:12.024622Z",
     "iopub.status.idle": "2022-02-11T15:49:12.087892Z",
     "shell.execute_reply": "2022-02-11T15:49:12.088426Z",
     "shell.execute_reply.started": "2022-02-11T15:16:10.309947Z"
    },
    "papermill": {
     "duration": 0.083637,
     "end_time": "2022-02-11T15:49:12.088598",
     "exception": false,
     "start_time": "2022-02-11T15:49:12.004961",
     "status": "completed"
    },
    "tags": []
   },
   "outputs": [
    {
     "data": {
      "text/html": [
       "<div>\n",
       "<style scoped>\n",
       "    .dataframe tbody tr th:only-of-type {\n",
       "        vertical-align: middle;\n",
       "    }\n",
       "\n",
       "    .dataframe tbody tr th {\n",
       "        vertical-align: top;\n",
       "    }\n",
       "\n",
       "    .dataframe thead th {\n",
       "        text-align: right;\n",
       "    }\n",
       "</style>\n",
       "<table border=\"1\" class=\"dataframe\">\n",
       "  <thead>\n",
       "    <tr style=\"text-align: right;\">\n",
       "      <th></th>\n",
       "      <th>id</th>\n",
       "      <th>date</th>\n",
       "      <th>time</th>\n",
       "      <th>continent_code</th>\n",
       "      <th>country_name</th>\n",
       "      <th>country_code</th>\n",
       "      <th>state/province</th>\n",
       "      <th>population</th>\n",
       "      <th>city/town</th>\n",
       "      <th>distance</th>\n",
       "      <th>location_description</th>\n",
       "      <th>latitude</th>\n",
       "      <th>longitude</th>\n",
       "      <th>geolocation</th>\n",
       "      <th>hazard_type</th>\n",
       "      <th>landslide_type</th>\n",
       "      <th>landslide_size</th>\n",
       "      <th>trigger</th>\n",
       "      <th>storm_name</th>\n",
       "      <th>injuries</th>\n",
       "      <th>fatalities</th>\n",
       "      <th>source_name</th>\n",
       "      <th>source_link</th>\n",
       "    </tr>\n",
       "  </thead>\n",
       "  <tbody>\n",
       "    <tr>\n",
       "      <th>0</th>\n",
       "      <td>34</td>\n",
       "      <td>3/2/07</td>\n",
       "      <td>Night</td>\n",
       "      <td>NaN</td>\n",
       "      <td>United States</td>\n",
       "      <td>US</td>\n",
       "      <td>Virginia</td>\n",
       "      <td>16000</td>\n",
       "      <td>Cherry Hill</td>\n",
       "      <td>3.40765</td>\n",
       "      <td>Unknown</td>\n",
       "      <td>38.6009</td>\n",
       "      <td>-77.2682</td>\n",
       "      <td>(38.600900000000003, -77.268199999999993)</td>\n",
       "      <td>Landslide</td>\n",
       "      <td>Landslide</td>\n",
       "      <td>Small</td>\n",
       "      <td>Rain</td>\n",
       "      <td>NaN</td>\n",
       "      <td>NaN</td>\n",
       "      <td>NaN</td>\n",
       "      <td>NBC 4 news</td>\n",
       "      <td>http://www.nbc4.com/news/11186871/detail.html</td>\n",
       "    </tr>\n",
       "    <tr>\n",
       "      <th>1</th>\n",
       "      <td>42</td>\n",
       "      <td>3/22/07</td>\n",
       "      <td>NaN</td>\n",
       "      <td>NaN</td>\n",
       "      <td>United States</td>\n",
       "      <td>US</td>\n",
       "      <td>Ohio</td>\n",
       "      <td>17288</td>\n",
       "      <td>New Philadelphia</td>\n",
       "      <td>3.33522</td>\n",
       "      <td>NaN</td>\n",
       "      <td>40.5175</td>\n",
       "      <td>-81.4305</td>\n",
       "      <td>(40.517499999999998, -81.430499999999995)</td>\n",
       "      <td>Landslide</td>\n",
       "      <td>Landslide</td>\n",
       "      <td>Small</td>\n",
       "      <td>Rain</td>\n",
       "      <td>NaN</td>\n",
       "      <td>NaN</td>\n",
       "      <td>NaN</td>\n",
       "      <td>Canton Rep.com</td>\n",
       "      <td>http://www.cantonrep.com/index.php?ID=345054&amp;C...</td>\n",
       "    </tr>\n",
       "    <tr>\n",
       "      <th>2</th>\n",
       "      <td>56</td>\n",
       "      <td>4/6/07</td>\n",
       "      <td>NaN</td>\n",
       "      <td>NaN</td>\n",
       "      <td>United States</td>\n",
       "      <td>US</td>\n",
       "      <td>Pennsylvania</td>\n",
       "      <td>15930</td>\n",
       "      <td>Wilkinsburg</td>\n",
       "      <td>2.91977</td>\n",
       "      <td>Urban area</td>\n",
       "      <td>40.4377</td>\n",
       "      <td>-79.9160</td>\n",
       "      <td>(40.4377, -79.915999999999997)</td>\n",
       "      <td>Landslide</td>\n",
       "      <td>Landslide</td>\n",
       "      <td>Small</td>\n",
       "      <td>Rain</td>\n",
       "      <td>NaN</td>\n",
       "      <td>NaN</td>\n",
       "      <td>NaN</td>\n",
       "      <td>The Pittsburgh Channel.com</td>\n",
       "      <td>https://web.archive.org/web/20080423132842/htt...</td>\n",
       "    </tr>\n",
       "    <tr>\n",
       "      <th>3</th>\n",
       "      <td>59</td>\n",
       "      <td>4/14/07</td>\n",
       "      <td>NaN</td>\n",
       "      <td>NaN</td>\n",
       "      <td>Canada</td>\n",
       "      <td>CA</td>\n",
       "      <td>Quebec</td>\n",
       "      <td>42786</td>\n",
       "      <td>Châteauguay</td>\n",
       "      <td>2.98682</td>\n",
       "      <td>Above river</td>\n",
       "      <td>45.3226</td>\n",
       "      <td>-73.7771</td>\n",
       "      <td>(45.322600000000001, -73.777100000000004)</td>\n",
       "      <td>Landslide</td>\n",
       "      <td>Riverbank collapse</td>\n",
       "      <td>Small</td>\n",
       "      <td>Rain</td>\n",
       "      <td>NaN</td>\n",
       "      <td>NaN</td>\n",
       "      <td>NaN</td>\n",
       "      <td>Le Soleil</td>\n",
       "      <td>http://www.hebdos.net/lsc/edition162007/articl...</td>\n",
       "    </tr>\n",
       "    <tr>\n",
       "      <th>4</th>\n",
       "      <td>61</td>\n",
       "      <td>4/15/07</td>\n",
       "      <td>NaN</td>\n",
       "      <td>NaN</td>\n",
       "      <td>United States</td>\n",
       "      <td>US</td>\n",
       "      <td>Kentucky</td>\n",
       "      <td>6903</td>\n",
       "      <td>Pikeville</td>\n",
       "      <td>5.66542</td>\n",
       "      <td>Below road</td>\n",
       "      <td>37.4325</td>\n",
       "      <td>-82.4931</td>\n",
       "      <td>(37.432499999999997, -82.493099999999998)</td>\n",
       "      <td>Landslide</td>\n",
       "      <td>Landslide</td>\n",
       "      <td>Small</td>\n",
       "      <td>Downpour</td>\n",
       "      <td>NaN</td>\n",
       "      <td>NaN</td>\n",
       "      <td>0.0</td>\n",
       "      <td>Matthew Crawford (KGS)</td>\n",
       "      <td>NaN</td>\n",
       "    </tr>\n",
       "  </tbody>\n",
       "</table>\n",
       "</div>"
      ],
      "text/plain": [
       "   id     date   time continent_code   country_name country_code  \\\n",
       "0  34   3/2/07  Night            NaN  United States           US   \n",
       "1  42  3/22/07    NaN            NaN  United States           US   \n",
       "2  56   4/6/07    NaN            NaN  United States           US   \n",
       "3  59  4/14/07    NaN            NaN         Canada           CA   \n",
       "4  61  4/15/07    NaN            NaN  United States           US   \n",
       "\n",
       "  state/province  population         city/town  distance location_description  \\\n",
       "0       Virginia       16000       Cherry Hill   3.40765              Unknown   \n",
       "1           Ohio       17288  New Philadelphia   3.33522                  NaN   \n",
       "2   Pennsylvania       15930       Wilkinsburg   2.91977           Urban area   \n",
       "3         Quebec       42786       Châteauguay   2.98682          Above river   \n",
       "4       Kentucky        6903         Pikeville   5.66542           Below road   \n",
       "\n",
       "   latitude  longitude                                geolocation hazard_type  \\\n",
       "0   38.6009   -77.2682  (38.600900000000003, -77.268199999999993)   Landslide   \n",
       "1   40.5175   -81.4305  (40.517499999999998, -81.430499999999995)   Landslide   \n",
       "2   40.4377   -79.9160             (40.4377, -79.915999999999997)   Landslide   \n",
       "3   45.3226   -73.7771  (45.322600000000001, -73.777100000000004)   Landslide   \n",
       "4   37.4325   -82.4931  (37.432499999999997, -82.493099999999998)   Landslide   \n",
       "\n",
       "       landslide_type landslide_size   trigger storm_name  injuries  \\\n",
       "0           Landslide          Small      Rain        NaN       NaN   \n",
       "1           Landslide          Small      Rain        NaN       NaN   \n",
       "2           Landslide          Small      Rain        NaN       NaN   \n",
       "3  Riverbank collapse          Small      Rain        NaN       NaN   \n",
       "4           Landslide          Small  Downpour        NaN       NaN   \n",
       "\n",
       "   fatalities                 source_name  \\\n",
       "0         NaN                  NBC 4 news   \n",
       "1         NaN              Canton Rep.com   \n",
       "2         NaN  The Pittsburgh Channel.com   \n",
       "3         NaN                   Le Soleil   \n",
       "4         0.0      Matthew Crawford (KGS)   \n",
       "\n",
       "                                         source_link  \n",
       "0      http://www.nbc4.com/news/11186871/detail.html  \n",
       "1  http://www.cantonrep.com/index.php?ID=345054&C...  \n",
       "2  https://web.archive.org/web/20080423132842/htt...  \n",
       "3  http://www.hebdos.net/lsc/edition162007/articl...  \n",
       "4                                                NaN  "
      ]
     },
     "execution_count": 3,
     "metadata": {},
     "output_type": "execute_result"
    }
   ],
   "source": [
    "df=pd.read_csv(\"../input/landslide-events/catalog.csv\")\n",
    "df.head()"
   ]
  },
  {
   "cell_type": "code",
   "execution_count": 4,
   "id": "bf7328f7",
   "metadata": {
    "execution": {
     "iopub.execute_input": "2022-02-11T15:49:12.131402Z",
     "iopub.status.busy": "2022-02-11T15:49:12.130421Z",
     "iopub.status.idle": "2022-02-11T15:49:12.134630Z",
     "shell.execute_reply": "2022-02-11T15:49:12.133990Z",
     "shell.execute_reply.started": "2022-02-11T15:16:28.578758Z"
    },
    "papermill": {
     "duration": 0.030285,
     "end_time": "2022-02-11T15:49:12.134784",
     "exception": false,
     "start_time": "2022-02-11T15:49:12.104499",
     "status": "completed"
    },
    "tags": []
   },
   "outputs": [
    {
     "data": {
      "text/plain": [
       "0     3/2/07\n",
       "1    3/22/07\n",
       "2     4/6/07\n",
       "3    4/14/07\n",
       "4    4/15/07\n",
       "Name: date, dtype: object"
      ]
     },
     "execution_count": 4,
     "metadata": {},
     "output_type": "execute_result"
    }
   ],
   "source": [
    "df['date'].head()"
   ]
  },
  {
   "cell_type": "code",
   "execution_count": 5,
   "id": "2a32f1bb",
   "metadata": {
    "execution": {
     "iopub.execute_input": "2022-02-11T15:49:12.171856Z",
     "iopub.status.busy": "2022-02-11T15:49:12.171080Z",
     "iopub.status.idle": "2022-02-11T15:49:12.174050Z",
     "shell.execute_reply": "2022-02-11T15:49:12.174560Z",
     "shell.execute_reply.started": "2022-02-11T15:16:53.991922Z"
    },
    "papermill": {
     "duration": 0.024155,
     "end_time": "2022-02-11T15:49:12.174746",
     "exception": false,
     "start_time": "2022-02-11T15:49:12.150591",
     "status": "completed"
    },
    "tags": []
   },
   "outputs": [
    {
     "data": {
      "text/plain": [
       "dtype('O')"
      ]
     },
     "execution_count": 5,
     "metadata": {},
     "output_type": "execute_result"
    }
   ],
   "source": [
    "df['date'].dtype"
   ]
  },
  {
   "cell_type": "code",
   "execution_count": 6,
   "id": "4b79f429",
   "metadata": {
    "execution": {
     "iopub.execute_input": "2022-02-11T15:49:12.211331Z",
     "iopub.status.busy": "2022-02-11T15:49:12.210624Z",
     "iopub.status.idle": "2022-02-11T15:49:12.224628Z",
     "shell.execute_reply": "2022-02-11T15:49:12.225163Z",
     "shell.execute_reply.started": "2022-02-11T15:26:28.453465Z"
    },
    "papermill": {
     "duration": 0.033908,
     "end_time": "2022-02-11T15:49:12.225368",
     "exception": false,
     "start_time": "2022-02-11T15:49:12.191460",
     "status": "completed"
    },
    "tags": []
   },
   "outputs": [],
   "source": [
    "df['parse_date']=pd.to_datetime(df['date'],format=\"%m/%d/%y\")"
   ]
  },
  {
   "cell_type": "code",
   "execution_count": 7,
   "id": "0d2ae4b5",
   "metadata": {
    "execution": {
     "iopub.execute_input": "2022-02-11T15:49:12.261423Z",
     "iopub.status.busy": "2022-02-11T15:49:12.260592Z",
     "iopub.status.idle": "2022-02-11T15:49:12.267003Z",
     "shell.execute_reply": "2022-02-11T15:49:12.266474Z",
     "shell.execute_reply.started": "2022-02-11T15:26:33.677502Z"
    },
    "papermill": {
     "duration": 0.025567,
     "end_time": "2022-02-11T15:49:12.267150",
     "exception": false,
     "start_time": "2022-02-11T15:49:12.241583",
     "status": "completed"
    },
    "tags": []
   },
   "outputs": [
    {
     "data": {
      "text/plain": [
       "0   2007-03-02\n",
       "1   2007-03-22\n",
       "2   2007-04-06\n",
       "3   2007-04-14\n",
       "4   2007-04-15\n",
       "Name: parse_date, dtype: datetime64[ns]"
      ]
     },
     "execution_count": 7,
     "metadata": {},
     "output_type": "execute_result"
    }
   ],
   "source": [
    "df['parse_date'].head()"
   ]
  },
  {
   "cell_type": "code",
   "execution_count": 8,
   "id": "185c92c7",
   "metadata": {
    "execution": {
     "iopub.execute_input": "2022-02-11T15:49:12.303887Z",
     "iopub.status.busy": "2022-02-11T15:49:12.303164Z",
     "iopub.status.idle": "2022-02-11T15:49:12.309767Z",
     "shell.execute_reply": "2022-02-11T15:49:12.310252Z",
     "shell.execute_reply.started": "2022-02-11T15:27:32.087717Z"
    },
    "papermill": {
     "duration": 0.026683,
     "end_time": "2022-02-11T15:49:12.310427",
     "exception": false,
     "start_time": "2022-02-11T15:49:12.283744",
     "status": "completed"
    },
    "tags": []
   },
   "outputs": [
    {
     "data": {
      "text/plain": [
       "0     2.0\n",
       "1    22.0\n",
       "2     6.0\n",
       "3    14.0\n",
       "4    15.0\n",
       "Name: parse_date, dtype: float64"
      ]
     },
     "execution_count": 8,
     "metadata": {},
     "output_type": "execute_result"
    }
   ],
   "source": [
    "df_month=df['parse_date'].dt.day\n",
    "df_month.head()"
   ]
  },
  {
   "cell_type": "code",
   "execution_count": 9,
   "id": "fa49a633",
   "metadata": {
    "execution": {
     "iopub.execute_input": "2022-02-11T15:49:12.349927Z",
     "iopub.status.busy": "2022-02-11T15:49:12.349242Z",
     "iopub.status.idle": "2022-02-11T15:49:12.354233Z",
     "shell.execute_reply": "2022-02-11T15:49:12.354718Z",
     "shell.execute_reply.started": "2022-02-11T15:28:09.867201Z"
    },
    "papermill": {
     "duration": 0.027326,
     "end_time": "2022-02-11T15:49:12.354881",
     "exception": false,
     "start_time": "2022-02-11T15:49:12.327555",
     "status": "completed"
    },
    "tags": []
   },
   "outputs": [
    {
     "data": {
      "text/plain": [
       "0    2007.0\n",
       "1    2007.0\n",
       "2    2007.0\n",
       "3    2007.0\n",
       "4    2007.0\n",
       "Name: parse_date, dtype: float64"
      ]
     },
     "execution_count": 9,
     "metadata": {},
     "output_type": "execute_result"
    }
   ],
   "source": [
    "df['parse_date'].dt.year.head()"
   ]
  },
  {
   "cell_type": "code",
   "execution_count": 10,
   "id": "a943bd77",
   "metadata": {
    "execution": {
     "iopub.execute_input": "2022-02-11T15:49:12.393456Z",
     "iopub.status.busy": "2022-02-11T15:49:12.392740Z",
     "iopub.status.idle": "2022-02-11T15:49:12.400782Z",
     "shell.execute_reply": "2022-02-11T15:49:12.401310Z",
     "shell.execute_reply.started": "2022-02-11T15:28:50.209019Z"
    },
    "papermill": {
     "duration": 0.029069,
     "end_time": "2022-02-11T15:49:12.401504",
     "exception": false,
     "start_time": "2022-02-11T15:49:12.372435",
     "status": "completed"
    },
    "tags": []
   },
   "outputs": [
    {
     "data": {
      "text/plain": [
       "0    3.0\n",
       "1    3.0\n",
       "2    4.0\n",
       "3    4.0\n",
       "4    4.0\n",
       "Name: parse_date, dtype: float64"
      ]
     },
     "execution_count": 10,
     "metadata": {},
     "output_type": "execute_result"
    }
   ],
   "source": [
    "df['parse_date'].dt.month.head()"
   ]
  },
  {
   "cell_type": "code",
   "execution_count": 11,
   "id": "d1994022",
   "metadata": {
    "execution": {
     "iopub.execute_input": "2022-02-11T15:49:12.441297Z",
     "iopub.status.busy": "2022-02-11T15:49:12.440597Z",
     "iopub.status.idle": "2022-02-11T15:49:12.456002Z",
     "shell.execute_reply": "2022-02-11T15:49:12.456558Z",
     "shell.execute_reply.started": "2022-02-11T15:29:36.536095Z"
    },
    "papermill": {
     "duration": 0.037196,
     "end_time": "2022-02-11T15:49:12.456750",
     "exception": false,
     "start_time": "2022-02-11T15:49:12.419554",
     "status": "completed"
    },
    "tags": []
   },
   "outputs": [
    {
     "data": {
      "text/plain": [
       "0        9.0\n",
       "1       12.0\n",
       "2       14.0\n",
       "3       15.0\n",
       "4       15.0\n",
       "        ... \n",
       "1688    50.0\n",
       "1689     8.0\n",
       "1690     8.0\n",
       "1691     8.0\n",
       "1692     9.0\n",
       "Name: parse_date, Length: 1693, dtype: float64"
      ]
     },
     "execution_count": 11,
     "metadata": {},
     "output_type": "execute_result"
    }
   ],
   "source": [
    "df['parse_date'].dt.weekofyear"
   ]
  },
  {
   "cell_type": "code",
   "execution_count": 12,
   "id": "cf394708",
   "metadata": {
    "execution": {
     "iopub.execute_input": "2022-02-11T15:49:12.497136Z",
     "iopub.status.busy": "2022-02-11T15:49:12.496155Z",
     "iopub.status.idle": "2022-02-11T15:49:12.753505Z",
     "shell.execute_reply": "2022-02-11T15:49:12.752938Z",
     "shell.execute_reply.started": "2022-02-11T15:33:01.984502Z"
    },
    "papermill": {
     "duration": 0.278679,
     "end_time": "2022-02-11T15:49:12.753667",
     "exception": false,
     "start_time": "2022-02-11T15:49:12.474988",
     "status": "completed"
    },
    "tags": []
   },
   "outputs": [
    {
     "data": {
      "text/plain": [
       "<AxesSubplot:xlabel='parse_date'>"
      ]
     },
     "execution_count": 12,
     "metadata": {},
     "output_type": "execute_result"
    },
    {
     "data": {
      "image/png": "[encoded data removed]",
      "text/plain": [
       "<Figure size 432x288 with 1 Axes>"
      ]
     },
     "metadata": {
      "needs_background": "light"
     },
     "output_type": "display_data"
    }
   ],
   "source": [
    "df_month=df_month.dropna()\n",
    "sns.distplot(df_month,bins=31,kde=False)"
   ]
  },
  {
   "cell_type": "code",
   "execution_count": null,
   "id": "11c5eecb",
   "metadata": {
    "papermill": {
     "duration": 0.02113,
     "end_time": "2022-02-11T15:49:12.794869",
     "exception": false,
     "start_time": "2022-02-11T15:49:12.773739",
     "status": "completed"
    },
    "tags": []
   },
   "outputs": [],
   "source": []
  }
 ],
 "metadata": {
  "kernelspec": {
   "display_name": "Python 3",
   "language": "python",
   "name": "python3"
  },
  "language_info": {
   "codemirror_mode": {
    "name": "ipython",
    "version": 3
   },
   "file_extension": ".py",
   "mimetype": "text/x-python",
   "name": "python",
   "nbconvert_exporter": "python",
   "pygments_lexer": "ipython3",
   "version": "3.7.12"
  },
  "papermill": {
   "default_parameters": {},
   "duration": 13.034049,
   "end_time": "2022-02-11T15:49:13.524971",
   "environment_variables": {},
   "exception": null,
   "input_path": "__notebook__.ipynb",
   "output_path": "__notebook__.ipynb",
   "parameters": {},
   "start_time": "2022-02-11T15:49:00.490922",
   "version": "2.3.3"
  }
 },
 "nbformat": 4,
 "nbformat_minor": 5
}
