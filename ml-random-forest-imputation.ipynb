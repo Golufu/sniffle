{
 "cells": [
  {
   "cell_type": "code",
   "execution_count": 1,
   "id": "30f2e722",
   "metadata": {
    "_cell_guid": "b1076dfc-b9ad-4769-8c92-a6c4dae69d19",
    "_uuid": "8f2839f25d086af736a60e9eeb907d3b93b6e0e5",
    "execution": {
     "iopub.execute_input": "2022-02-12T08:04:50.658507Z",
     "iopub.status.busy": "2022-02-12T08:04:50.657263Z",
     "iopub.status.idle": "2022-02-12T08:04:50.679156Z",
     "shell.execute_reply": "2022-02-12T08:04:50.678512Z",
     "shell.execute_reply.started": "2022-02-12T06:34:43.969896Z"
    },
    "papermill": {
     "duration": 0.054633,
     "end_time": "2022-02-12T08:04:50.679331",
     "exception": false,
     "start_time": "2022-02-12T08:04:50.624698",
     "status": "completed"
    },
    "tags": []
   },
   "outputs": [
    {
     "name": "stdout",
     "output_type": "stream",
     "text": [
      "/kaggle/input/home-data-for-ml-course/sample_submission.csv\n",
      "/kaggle/input/home-data-for-ml-course/train.csv\n",
      "/kaggle/input/home-data-for-ml-course/test.csv\n"
     ]
    }
   ],
   "source": [
    "# This Python 3 environment comes with many helpful analytics libraries installed\n",
    "# It is defined by the kaggle/python Docker image: https://github.com/kaggle/docker-python\n",
    "# For example, here's several helpful packages to load\n",
    "\n",
    "import numpy as np # linear algebra\n",
    "import pandas as pd # data processing, CSV file I/O (e.g. pd.read_csv)\n",
    "\n",
    "# Input data files are available in the read-only \"../input/\" directory\n",
    "# For example, running this (by clicking run or pressing Shift+Enter) will list all files under the input directory\n",
    "\n",
    "import os\n",
    "for dirname, _, filenames in os.walk('/kaggle/input'):\n",
    "    for filename in filenames:\n",
    "        print(os.path.join(dirname, filename))\n",
    "\n",
    "# You can write up to 20GB to the current directory (/kaggle/working/) that gets preserved as output when you create a version using \"Save & Run All\" \n",
    "# You can also write temporary files to /kaggle/temp/, but they won't be saved outside of the current session"
   ]
  },
  {
   "cell_type": "code",
   "execution_count": 2,
   "id": "f4e06142",
   "metadata": {
    "execution": {
     "iopub.execute_input": "2022-02-12T08:04:50.738606Z",
     "iopub.status.busy": "2022-02-12T08:04:50.737900Z",
     "iopub.status.idle": "2022-02-12T08:04:50.818215Z",
     "shell.execute_reply": "2022-02-12T08:04:50.818735Z",
     "shell.execute_reply.started": "2022-02-12T07:05:36.069368Z"
    },
    "papermill": {
     "duration": 0.111965,
     "end_time": "2022-02-12T08:04:50.818927",
     "exception": false,
     "start_time": "2022-02-12T08:04:50.706962",
     "status": "completed"
    },
    "tags": []
   },
   "outputs": [],
   "source": [
    "train=pd.read_csv(\"../input/home-data-for-ml-course/train.csv\",index_col='Id')\n",
    "test=pd.read_csv(\"../input/home-data-for-ml-course/test.csv\",index_col='Id')"
   ]
  },
  {
   "cell_type": "code",
   "execution_count": 3,
   "id": "7a70c2d0",
   "metadata": {
    "execution": {
     "iopub.execute_input": "2022-02-12T08:04:50.876773Z",
     "iopub.status.busy": "2022-02-12T08:04:50.876068Z",
     "iopub.status.idle": "2022-02-12T08:04:50.882812Z",
     "shell.execute_reply": "2022-02-12T08:04:50.883425Z",
     "shell.execute_reply.started": "2022-02-12T07:05:36.812719Z"
    },
    "papermill": {
     "duration": 0.037443,
     "end_time": "2022-02-12T08:04:50.883595",
     "exception": false,
     "start_time": "2022-02-12T08:04:50.846152",
     "status": "completed"
    },
    "tags": []
   },
   "outputs": [
    {
     "data": {
      "text/plain": [
       "(1460, 80)"
      ]
     },
     "execution_count": 3,
     "metadata": {},
     "output_type": "execute_result"
    }
   ],
   "source": [
    "train.shape"
   ]
  },
  {
   "cell_type": "code",
   "execution_count": 4,
   "id": "f9c7c79e",
   "metadata": {
    "execution": {
     "iopub.execute_input": "2022-02-12T08:04:50.943012Z",
     "iopub.status.busy": "2022-02-12T08:04:50.942360Z",
     "iopub.status.idle": "2022-02-12T08:04:50.944792Z",
     "shell.execute_reply": "2022-02-12T08:04:50.945261Z",
     "shell.execute_reply.started": "2022-02-12T07:05:38.646610Z"
    },
    "papermill": {
     "duration": 0.03482,
     "end_time": "2022-02-12T08:04:50.945439",
     "exception": false,
     "start_time": "2022-02-12T08:04:50.910619",
     "status": "completed"
    },
    "tags": []
   },
   "outputs": [
    {
     "data": {
      "text/plain": [
       "(1459, 79)"
      ]
     },
     "execution_count": 4,
     "metadata": {},
     "output_type": "execute_result"
    }
   ],
   "source": [
    "test.shape"
   ]
  },
  {
   "cell_type": "code",
   "execution_count": 5,
   "id": "107b5e3f",
   "metadata": {
    "execution": {
     "iopub.execute_input": "2022-02-12T08:04:51.005303Z",
     "iopub.status.busy": "2022-02-12T08:04:51.004700Z",
     "iopub.status.idle": "2022-02-12T08:04:51.030343Z",
     "shell.execute_reply": "2022-02-12T08:04:51.030900Z",
     "shell.execute_reply.started": "2022-02-12T07:05:39.544138Z"
    },
    "papermill": {
     "duration": 0.0571,
     "end_time": "2022-02-12T08:04:51.031076",
     "exception": false,
     "start_time": "2022-02-12T08:04:50.973976",
     "status": "completed"
    },
    "tags": []
   },
   "outputs": [],
   "source": [
    "missing_col_tr=[col for col in train.columns\n",
    "               if train[col].isnull().any()]"
   ]
  },
  {
   "cell_type": "code",
   "execution_count": 6,
   "id": "13124223",
   "metadata": {
    "execution": {
     "iopub.execute_input": "2022-02-12T08:04:51.090175Z",
     "iopub.status.busy": "2022-02-12T08:04:51.089579Z",
     "iopub.status.idle": "2022-02-12T08:04:51.094865Z",
     "shell.execute_reply": "2022-02-12T08:04:51.095561Z",
     "shell.execute_reply.started": "2022-02-12T07:05:40.940557Z"
    },
    "papermill": {
     "duration": 0.037085,
     "end_time": "2022-02-12T08:04:51.095805",
     "exception": false,
     "start_time": "2022-02-12T08:04:51.058720",
     "status": "completed"
    },
    "tags": []
   },
   "outputs": [
    {
     "data": {
      "text/plain": [
       "['LotFrontage',\n",
       " 'Alley',\n",
       " 'MasVnrType',\n",
       " 'MasVnrArea',\n",
       " 'BsmtQual',\n",
       " 'BsmtCond',\n",
       " 'BsmtExposure',\n",
       " 'BsmtFinType1',\n",
       " 'BsmtFinType2',\n",
       " 'Electrical',\n",
       " 'FireplaceQu',\n",
       " 'GarageType',\n",
       " 'GarageYrBlt',\n",
       " 'GarageFinish',\n",
       " 'GarageQual',\n",
       " 'GarageCond',\n",
       " 'PoolQC',\n",
       " 'Fence',\n",
       " 'MiscFeature']"
      ]
     },
     "execution_count": 6,
     "metadata": {},
     "output_type": "execute_result"
    }
   ],
   "source": [
    "missing_col_tr"
   ]
  },
  {
   "cell_type": "code",
   "execution_count": 7,
   "id": "b96e31be",
   "metadata": {
    "execution": {
     "iopub.execute_input": "2022-02-12T08:04:51.177544Z",
     "iopub.status.busy": "2022-02-12T08:04:51.176856Z",
     "iopub.status.idle": "2022-02-12T08:04:51.178102Z",
     "shell.execute_reply": "2022-02-12T08:04:51.178741Z",
     "shell.execute_reply.started": "2022-02-12T07:05:43.172273Z"
    },
    "papermill": {
     "duration": 0.054037,
     "end_time": "2022-02-12T08:04:51.178920",
     "exception": false,
     "start_time": "2022-02-12T08:04:51.124883",
     "status": "completed"
    },
    "tags": []
   },
   "outputs": [],
   "source": [
    "missing_col_t=[col for col in test.columns\n",
    "               if train[col].isnull().any()]"
   ]
  },
  {
   "cell_type": "code",
   "execution_count": 8,
   "id": "7dde291b",
   "metadata": {
    "execution": {
     "iopub.execute_input": "2022-02-12T08:04:51.239454Z",
     "iopub.status.busy": "2022-02-12T08:04:51.238605Z",
     "iopub.status.idle": "2022-02-12T08:04:51.243146Z",
     "shell.execute_reply": "2022-02-12T08:04:51.243743Z",
     "shell.execute_reply.started": "2022-02-12T07:05:43.862020Z"
    },
    "papermill": {
     "duration": 0.036404,
     "end_time": "2022-02-12T08:04:51.243912",
     "exception": false,
     "start_time": "2022-02-12T08:04:51.207508",
     "status": "completed"
    },
    "tags": []
   },
   "outputs": [
    {
     "data": {
      "text/plain": [
       "['LotFrontage',\n",
       " 'Alley',\n",
       " 'MasVnrType',\n",
       " 'MasVnrArea',\n",
       " 'BsmtQual',\n",
       " 'BsmtCond',\n",
       " 'BsmtExposure',\n",
       " 'BsmtFinType1',\n",
       " 'BsmtFinType2',\n",
       " 'Electrical',\n",
       " 'FireplaceQu',\n",
       " 'GarageType',\n",
       " 'GarageYrBlt',\n",
       " 'GarageFinish',\n",
       " 'GarageQual',\n",
       " 'GarageCond',\n",
       " 'PoolQC',\n",
       " 'Fence',\n",
       " 'MiscFeature']"
      ]
     },
     "execution_count": 8,
     "metadata": {},
     "output_type": "execute_result"
    }
   ],
   "source": [
    "missing_col_t"
   ]
  },
  {
   "cell_type": "code",
   "execution_count": 9,
   "id": "01909f8d",
   "metadata": {
    "execution": {
     "iopub.execute_input": "2022-02-12T08:04:51.306511Z",
     "iopub.status.busy": "2022-02-12T08:04:51.305830Z",
     "iopub.status.idle": "2022-02-12T08:04:51.320656Z",
     "shell.execute_reply": "2022-02-12T08:04:51.321215Z",
     "shell.execute_reply.started": "2022-02-12T07:05:46.134843Z"
    },
    "papermill": {
     "duration": 0.046195,
     "end_time": "2022-02-12T08:04:51.321413",
     "exception": false,
     "start_time": "2022-02-12T08:04:51.275218",
     "status": "completed"
    },
    "tags": []
   },
   "outputs": [],
   "source": [
    "train.dropna(axis=0,subset=['SalePrice'],inplace=True)\n",
    "y=train.SalePrice\n",
    "train.drop(['SalePrice'],axis=1,inplace=True)\n",
    "X=train.select_dtypes(exclude=['object'])\n",
    "X_test=test.select_dtypes(exclude=['object'])"
   ]
  },
  {
   "cell_type": "code",
   "execution_count": 10,
   "id": "7f84c83e",
   "metadata": {
    "execution": {
     "iopub.execute_input": "2022-02-12T08:04:51.383799Z",
     "iopub.status.busy": "2022-02-12T08:04:51.383171Z",
     "iopub.status.idle": "2022-02-12T08:04:51.385795Z",
     "shell.execute_reply": "2022-02-12T08:04:51.386377Z",
     "shell.execute_reply.started": "2022-02-12T07:06:02.234414Z"
    },
    "papermill": {
     "duration": 0.03663,
     "end_time": "2022-02-12T08:04:51.386554",
     "exception": false,
     "start_time": "2022-02-12T08:04:51.349924",
     "status": "completed"
    },
    "tags": []
   },
   "outputs": [
    {
     "data": {
      "text/plain": [
       "(1460, 36)"
      ]
     },
     "execution_count": 10,
     "metadata": {},
     "output_type": "execute_result"
    }
   ],
   "source": [
    "X.shape"
   ]
  },
  {
   "cell_type": "code",
   "execution_count": 11,
   "id": "da8ae068",
   "metadata": {
    "execution": {
     "iopub.execute_input": "2022-02-12T08:04:51.446627Z",
     "iopub.status.busy": "2022-02-12T08:04:51.446006Z",
     "iopub.status.idle": "2022-02-12T08:04:51.450547Z",
     "shell.execute_reply": "2022-02-12T08:04:51.451120Z",
     "shell.execute_reply.started": "2022-02-12T07:06:30.275924Z"
    },
    "papermill": {
     "duration": 0.03609,
     "end_time": "2022-02-12T08:04:51.451284",
     "exception": false,
     "start_time": "2022-02-12T08:04:51.415194",
     "status": "completed"
    },
    "tags": []
   },
   "outputs": [
    {
     "data": {
      "text/plain": [
       "(1460,)"
      ]
     },
     "execution_count": 11,
     "metadata": {},
     "output_type": "execute_result"
    }
   ],
   "source": [
    "y.shape"
   ]
  },
  {
   "cell_type": "code",
   "execution_count": 12,
   "id": "ed9d2107",
   "metadata": {
    "execution": {
     "iopub.execute_input": "2022-02-12T08:04:51.512200Z",
     "iopub.status.busy": "2022-02-12T08:04:51.511609Z",
     "iopub.status.idle": "2022-02-12T08:04:51.515880Z",
     "shell.execute_reply": "2022-02-12T08:04:51.516474Z",
     "shell.execute_reply.started": "2022-02-12T07:06:41.196651Z"
    },
    "papermill": {
     "duration": 0.036356,
     "end_time": "2022-02-12T08:04:51.516636",
     "exception": false,
     "start_time": "2022-02-12T08:04:51.480280",
     "status": "completed"
    },
    "tags": []
   },
   "outputs": [
    {
     "data": {
      "text/plain": [
       "(1459, 36)"
      ]
     },
     "execution_count": 12,
     "metadata": {},
     "output_type": "execute_result"
    }
   ],
   "source": [
    "X_test.shape"
   ]
  },
  {
   "cell_type": "code",
   "execution_count": 13,
   "id": "480046d6",
   "metadata": {
    "execution": {
     "iopub.execute_input": "2022-02-12T08:04:51.578394Z",
     "iopub.status.busy": "2022-02-12T08:04:51.577781Z",
     "iopub.status.idle": "2022-02-12T08:04:52.799472Z",
     "shell.execute_reply": "2022-02-12T08:04:52.798802Z",
     "shell.execute_reply.started": "2022-02-12T07:10:23.343191Z"
    },
    "papermill": {
     "duration": 1.253784,
     "end_time": "2022-02-12T08:04:52.799617",
     "exception": false,
     "start_time": "2022-02-12T08:04:51.545833",
     "status": "completed"
    },
    "tags": []
   },
   "outputs": [],
   "source": [
    "from sklearn.model_selection import train_test_split\n",
    "from sklearn.metrics import mean_absolute_error\n",
    "from sklearn.ensemble import RandomForestRegressor\n",
    "import pandas as pd\n",
    "import numpy as np\n",
    "from sklearn.tree import DecisionTreeRegressor"
   ]
  },
  {
   "cell_type": "code",
   "execution_count": 14,
   "id": "905ad246",
   "metadata": {
    "execution": {
     "iopub.execute_input": "2022-02-12T08:04:52.863054Z",
     "iopub.status.busy": "2022-02-12T08:04:52.861977Z",
     "iopub.status.idle": "2022-02-12T08:04:52.868659Z",
     "shell.execute_reply": "2022-02-12T08:04:52.869247Z",
     "shell.execute_reply.started": "2022-02-12T07:11:54.710111Z"
    },
    "papermill": {
     "duration": 0.040226,
     "end_time": "2022-02-12T08:04:52.869431",
     "exception": false,
     "start_time": "2022-02-12T08:04:52.829205",
     "status": "completed"
    },
    "tags": []
   },
   "outputs": [],
   "source": [
    "X_tr,X_t,y_tr,y_t=train_test_split(X,y,train_size=0.8,random_state=0)"
   ]
  },
  {
   "cell_type": "code",
   "execution_count": 15,
   "id": "f4c497c7",
   "metadata": {
    "execution": {
     "iopub.execute_input": "2022-02-12T08:04:52.932345Z",
     "iopub.status.busy": "2022-02-12T08:04:52.931415Z",
     "iopub.status.idle": "2022-02-12T08:04:52.940004Z",
     "shell.execute_reply": "2022-02-12T08:04:52.940675Z",
     "shell.execute_reply.started": "2022-02-12T07:14:54.161246Z"
    },
    "papermill": {
     "duration": 0.041783,
     "end_time": "2022-02-12T08:04:52.940845",
     "exception": false,
     "start_time": "2022-02-12T08:04:52.899062",
     "status": "completed"
    },
    "tags": []
   },
   "outputs": [
    {
     "data": {
      "text/plain": [
       "MSSubClass        0\n",
       "LotFrontage      47\n",
       "LotArea           0\n",
       "OverallQual       0\n",
       "OverallCond       0\n",
       "YearBuilt         0\n",
       "YearRemodAdd      0\n",
       "MasVnrArea        2\n",
       "BsmtFinSF1        0\n",
       "BsmtFinSF2        0\n",
       "BsmtUnfSF         0\n",
       "TotalBsmtSF       0\n",
       "1stFlrSF          0\n",
       "2ndFlrSF          0\n",
       "LowQualFinSF      0\n",
       "GrLivArea         0\n",
       "BsmtFullBath      0\n",
       "BsmtHalfBath      0\n",
       "FullBath          0\n",
       "HalfBath          0\n",
       "BedroomAbvGr      0\n",
       "KitchenAbvGr      0\n",
       "TotRmsAbvGrd      0\n",
       "Fireplaces        0\n",
       "GarageYrBlt      23\n",
       "GarageCars        0\n",
       "GarageArea        0\n",
       "WoodDeckSF        0\n",
       "OpenPorchSF       0\n",
       "EnclosedPorch     0\n",
       "3SsnPorch         0\n",
       "ScreenPorch       0\n",
       "PoolArea          0\n",
       "MiscVal           0\n",
       "MoSold            0\n",
       "YrSold            0\n",
       "dtype: int64"
      ]
     },
     "execution_count": 15,
     "metadata": {},
     "output_type": "execute_result"
    }
   ],
   "source": [
    "X_t.isnull().sum()"
   ]
  },
  {
   "cell_type": "code",
   "execution_count": 16,
   "id": "f654fa08",
   "metadata": {
    "execution": {
     "iopub.execute_input": "2022-02-12T08:04:53.005512Z",
     "iopub.status.busy": "2022-02-12T08:04:53.004283Z",
     "iopub.status.idle": "2022-02-12T08:04:53.029425Z",
     "shell.execute_reply": "2022-02-12T08:04:53.028773Z",
     "shell.execute_reply.started": "2022-02-12T07:19:02.378054Z"
    },
    "papermill": {
     "duration": 0.058342,
     "end_time": "2022-02-12T08:04:53.029566",
     "exception": false,
     "start_time": "2022-02-12T08:04:52.971224",
     "status": "completed"
    },
    "tags": []
   },
   "outputs": [],
   "source": [
    "from sklearn.impute import SimpleImputer\n",
    "impute=SimpleImputer(strategy='median')\n",
    "X_tr_impute=pd.DataFrame(impute.fit_transform(X_tr))\n",
    "X_t_impute=pd.DataFrame(impute.transform(X_t))\n",
    "\n",
    "X_tr_impute.columns=X_tr.columns\n",
    "X_t_impute.columns=X_t.columns"
   ]
  },
  {
   "cell_type": "code",
   "execution_count": 17,
   "id": "95a8ded7",
   "metadata": {
    "execution": {
     "iopub.execute_input": "2022-02-12T08:04:53.095160Z",
     "iopub.status.busy": "2022-02-12T08:04:53.094149Z",
     "iopub.status.idle": "2022-02-12T08:04:53.100703Z",
     "shell.execute_reply": "2022-02-12T08:04:53.101285Z",
     "shell.execute_reply.started": "2022-02-12T07:19:15.049814Z"
    },
    "papermill": {
     "duration": 0.041702,
     "end_time": "2022-02-12T08:04:53.101465",
     "exception": false,
     "start_time": "2022-02-12T08:04:53.059763",
     "status": "completed"
    },
    "tags": []
   },
   "outputs": [
    {
     "data": {
      "text/plain": [
       "MSSubClass       0\n",
       "LotFrontage      0\n",
       "LotArea          0\n",
       "OverallQual      0\n",
       "OverallCond      0\n",
       "YearBuilt        0\n",
       "YearRemodAdd     0\n",
       "MasVnrArea       0\n",
       "BsmtFinSF1       0\n",
       "BsmtFinSF2       0\n",
       "BsmtUnfSF        0\n",
       "TotalBsmtSF      0\n",
       "1stFlrSF         0\n",
       "2ndFlrSF         0\n",
       "LowQualFinSF     0\n",
       "GrLivArea        0\n",
       "BsmtFullBath     0\n",
       "BsmtHalfBath     0\n",
       "FullBath         0\n",
       "HalfBath         0\n",
       "BedroomAbvGr     0\n",
       "KitchenAbvGr     0\n",
       "TotRmsAbvGrd     0\n",
       "Fireplaces       0\n",
       "GarageYrBlt      0\n",
       "GarageCars       0\n",
       "GarageArea       0\n",
       "WoodDeckSF       0\n",
       "OpenPorchSF      0\n",
       "EnclosedPorch    0\n",
       "3SsnPorch        0\n",
       "ScreenPorch      0\n",
       "PoolArea         0\n",
       "MiscVal          0\n",
       "MoSold           0\n",
       "YrSold           0\n",
       "dtype: int64"
      ]
     },
     "execution_count": 17,
     "metadata": {},
     "output_type": "execute_result"
    }
   ],
   "source": [
    "X_tr_impute.isnull().sum()"
   ]
  },
  {
   "cell_type": "code",
   "execution_count": 18,
   "id": "2fa4c7f2",
   "metadata": {
    "execution": {
     "iopub.execute_input": "2022-02-12T08:04:53.166056Z",
     "iopub.status.busy": "2022-02-12T08:04:53.165018Z",
     "iopub.status.idle": "2022-02-12T08:04:53.172972Z",
     "shell.execute_reply": "2022-02-12T08:04:53.173534Z",
     "shell.execute_reply.started": "2022-02-12T07:19:42.944680Z"
    },
    "papermill": {
     "duration": 0.042046,
     "end_time": "2022-02-12T08:04:53.173703",
     "exception": false,
     "start_time": "2022-02-12T08:04:53.131657",
     "status": "completed"
    },
    "tags": []
   },
   "outputs": [
    {
     "data": {
      "text/plain": [
       "MSSubClass       0\n",
       "LotFrontage      0\n",
       "LotArea          0\n",
       "OverallQual      0\n",
       "OverallCond      0\n",
       "YearBuilt        0\n",
       "YearRemodAdd     0\n",
       "MasVnrArea       0\n",
       "BsmtFinSF1       0\n",
       "BsmtFinSF2       0\n",
       "BsmtUnfSF        0\n",
       "TotalBsmtSF      0\n",
       "1stFlrSF         0\n",
       "2ndFlrSF         0\n",
       "LowQualFinSF     0\n",
       "GrLivArea        0\n",
       "BsmtFullBath     0\n",
       "BsmtHalfBath     0\n",
       "FullBath         0\n",
       "HalfBath         0\n",
       "BedroomAbvGr     0\n",
       "KitchenAbvGr     0\n",
       "TotRmsAbvGrd     0\n",
       "Fireplaces       0\n",
       "GarageYrBlt      0\n",
       "GarageCars       0\n",
       "GarageArea       0\n",
       "WoodDeckSF       0\n",
       "OpenPorchSF      0\n",
       "EnclosedPorch    0\n",
       "3SsnPorch        0\n",
       "ScreenPorch      0\n",
       "PoolArea         0\n",
       "MiscVal          0\n",
       "MoSold           0\n",
       "YrSold           0\n",
       "dtype: int64"
      ]
     },
     "execution_count": 18,
     "metadata": {},
     "output_type": "execute_result"
    }
   ],
   "source": [
    "X_t_impute.isnull().sum()"
   ]
  },
  {
   "cell_type": "code",
   "execution_count": 19,
   "id": "6c9e8d14",
   "metadata": {
    "execution": {
     "iopub.execute_input": "2022-02-12T08:04:53.239573Z",
     "iopub.status.busy": "2022-02-12T08:04:53.238588Z",
     "iopub.status.idle": "2022-02-12T08:04:53.243026Z",
     "shell.execute_reply": "2022-02-12T08:04:53.243644Z",
     "shell.execute_reply.started": "2022-02-12T07:23:49.174895Z"
    },
    "papermill": {
     "duration": 0.039342,
     "end_time": "2022-02-12T08:04:53.243815",
     "exception": false,
     "start_time": "2022-02-12T08:04:53.204473",
     "status": "completed"
    },
    "tags": []
   },
   "outputs": [],
   "source": [
    "def model_score(X_tr,X_t,y_tr,y_t):\n",
    "    model=RandomForestRegressor(n_estimators=100,random_state=0)\n",
    "    model.fit(X_tr,y_tr)\n",
    "    pred=model.predict(X_t)\n",
    "    return mean_absolute_error(pred,y_t)"
   ]
  },
  {
   "cell_type": "code",
   "execution_count": 20,
   "id": "1f375f92",
   "metadata": {
    "execution": {
     "iopub.execute_input": "2022-02-12T08:04:53.314055Z",
     "iopub.status.busy": "2022-02-12T08:04:53.313415Z",
     "iopub.status.idle": "2022-02-12T08:04:54.641440Z",
     "shell.execute_reply": "2022-02-12T08:04:54.642004Z",
     "shell.execute_reply.started": "2022-02-12T07:24:26.567041Z"
    },
    "papermill": {
     "duration": 1.367673,
     "end_time": "2022-02-12T08:04:54.642183",
     "exception": false,
     "start_time": "2022-02-12T08:04:53.274510",
     "status": "completed"
    },
    "tags": []
   },
   "outputs": [
    {
     "data": {
      "text/plain": [
       "17791.59899543379"
      ]
     },
     "execution_count": 20,
     "metadata": {},
     "output_type": "execute_result"
    }
   ],
   "source": [
    "model_score(X_tr_impute,X_t_impute,y_tr,y_t)"
   ]
  },
  {
   "cell_type": "code",
   "execution_count": 21,
   "id": "2c7b30ec",
   "metadata": {
    "execution": {
     "iopub.execute_input": "2022-02-12T08:04:54.707509Z",
     "iopub.status.busy": "2022-02-12T08:04:54.706881Z",
     "iopub.status.idle": "2022-02-12T08:04:54.714003Z",
     "shell.execute_reply": "2022-02-12T08:04:54.714484Z",
     "shell.execute_reply.started": "2022-02-12T07:31:18.301321Z"
    },
    "papermill": {
     "duration": 0.0414,
     "end_time": "2022-02-12T08:04:54.714677",
     "exception": false,
     "start_time": "2022-02-12T08:04:54.673277",
     "status": "completed"
    },
    "tags": []
   },
   "outputs": [],
   "source": [
    "model_1=RandomForestRegressor(n_estimators=50,random_state=0)\n",
    "model_2=RandomForestRegressor(n_estimators=100,random_state=0)\n",
    "model_3=RandomForestRegressor(n_estimators=200,random_state=0)\n",
    "model_4=RandomForestRegressor(n_estimators=100,criterion='mae',random_state=0)\n",
    "model_5=RandomForestRegressor(n_estimators=200,criterion='mae',random_state=0)\n",
    "model_6=RandomForestRegressor(n_estimators=100,min_samples_split=20,random_state=0)\n",
    "model_7=RandomForestRegressor(n_estimators=200,min_samples_split=20,random_state=0)\n",
    "model_8=RandomForestRegressor(n_estimators=100,max_depth=7,random_state=0)\n",
    "model_9=RandomForestRegressor(n_estimators=200,max_depth=7,random_state=0)\n",
    "models=[model_1,model_2,model_3,model_4,model_5,model_6,model_7,model_8,model_9]"
   ]
  },
  {
   "cell_type": "code",
   "execution_count": 22,
   "id": "371cb22a",
   "metadata": {
    "execution": {
     "iopub.execute_input": "2022-02-12T08:04:54.781015Z",
     "iopub.status.busy": "2022-02-12T08:04:54.780307Z",
     "iopub.status.idle": "2022-02-12T08:05:39.338506Z",
     "shell.execute_reply": "2022-02-12T08:05:39.337884Z",
     "shell.execute_reply.started": "2022-02-12T07:49:58.578924Z"
    },
    "papermill": {
     "duration": 44.592072,
     "end_time": "2022-02-12T08:05:39.338668",
     "exception": false,
     "start_time": "2022-02-12T08:04:54.746596",
     "status": "completed"
    },
    "tags": []
   },
   "outputs": [
    {
     "name": "stdout",
     "output_type": "stream",
     "text": [
      "model 1 score is 17657.99764840183\n",
      "model 2 score is 17791.59899543379\n",
      "model 3 score is 17491.11966894977\n",
      "model 4 score is 18093.391643835614\n",
      "model 5 score is 17897.672243150686\n",
      "model 6 score is 18776.97305717775\n",
      "model 7 score is 18453.900909701733\n",
      "model 8 score is 18741.394665736207\n",
      "model 9 score is 18350.597729892823\n"
     ]
    }
   ],
   "source": [
    "def model_selection(model,a=X_tr_impute,b=X_t_impute,c=y_tr,d=y_t):\n",
    "    model.fit(X_tr_impute,y_tr)\n",
    "    pred=model.predict(X_t_impute)\n",
    "    return mean_absolute_error(y_t,pred)\n",
    "for i in range(0,len(models)):\n",
    "    mae=model_selection(models[i])\n",
    "    print('model {} score is {}'.format(i+1,mae))\n",
    "    \n",
    "   \n",
    "\n",
    "    "
   ]
  },
  {
   "cell_type": "code",
   "execution_count": 23,
   "id": "b2d2962e",
   "metadata": {
    "execution": {
     "iopub.execute_input": "2022-02-12T08:05:39.415252Z",
     "iopub.status.busy": "2022-02-12T08:05:39.414629Z",
     "iopub.status.idle": "2022-02-12T08:05:39.424467Z",
     "shell.execute_reply": "2022-02-12T08:05:39.424985Z",
     "shell.execute_reply.started": "2022-02-12T08:00:36.277808Z"
    },
    "papermill": {
     "duration": 0.051389,
     "end_time": "2022-02-12T08:05:39.425160",
     "exception": false,
     "start_time": "2022-02-12T08:05:39.373771",
     "status": "completed"
    },
    "tags": []
   },
   "outputs": [],
   "source": [
    "impute=SimpleImputer(strategy='median')\n",
    "test_impute=pd.DataFrame(impute.fit_transform(X_test))"
   ]
  },
  {
   "cell_type": "code",
   "execution_count": 24,
   "id": "cd874233",
   "metadata": {
    "execution": {
     "iopub.execute_input": "2022-02-12T08:05:39.498137Z",
     "iopub.status.busy": "2022-02-12T08:05:39.497531Z",
     "iopub.status.idle": "2022-02-12T08:05:39.562483Z",
     "shell.execute_reply": "2022-02-12T08:05:39.563041Z",
     "shell.execute_reply.started": "2022-02-12T08:00:50.293384Z"
    },
    "papermill": {
     "duration": 0.102885,
     "end_time": "2022-02-12T08:05:39.563228",
     "exception": false,
     "start_time": "2022-02-12T08:05:39.460343",
     "status": "completed"
    },
    "tags": []
   },
   "outputs": [
    {
     "data": {
      "text/plain": [
       "array([127753.37 , 155643.75 , 183600.195, ..., 157405.77 , 107963.   ,\n",
       "       231011.07 ])"
      ]
     },
     "execution_count": 24,
     "metadata": {},
     "output_type": "execute_result"
    }
   ],
   "source": [
    "predict=model_3.predict(test_impute)\n",
    "predict"
   ]
  },
  {
   "cell_type": "code",
   "execution_count": 25,
   "id": "bd5d2186",
   "metadata": {
    "execution": {
     "iopub.execute_input": "2022-02-12T08:05:39.636465Z",
     "iopub.status.busy": "2022-02-12T08:05:39.635827Z",
     "iopub.status.idle": "2022-02-12T08:05:39.652657Z",
     "shell.execute_reply": "2022-02-12T08:05:39.653145Z",
     "shell.execute_reply.started": "2022-02-12T08:03:21.165968Z"
    },
    "papermill": {
     "duration": 0.055194,
     "end_time": "2022-02-12T08:05:39.653309",
     "exception": false,
     "start_time": "2022-02-12T08:05:39.598115",
     "status": "completed"
    },
    "tags": []
   },
   "outputs": [
    {
     "data": {
      "text/html": [
       "<div>\n",
       "<style scoped>\n",
       "    .dataframe tbody tr th:only-of-type {\n",
       "        vertical-align: middle;\n",
       "    }\n",
       "\n",
       "    .dataframe tbody tr th {\n",
       "        vertical-align: top;\n",
       "    }\n",
       "\n",
       "    .dataframe thead th {\n",
       "        text-align: right;\n",
       "    }\n",
       "</style>\n",
       "<table border=\"1\" class=\"dataframe\">\n",
       "  <thead>\n",
       "    <tr style=\"text-align: right;\">\n",
       "      <th></th>\n",
       "      <th>Id</th>\n",
       "      <th>SalePrice</th>\n",
       "    </tr>\n",
       "  </thead>\n",
       "  <tbody>\n",
       "    <tr>\n",
       "      <th>0</th>\n",
       "      <td>1461</td>\n",
       "      <td>127753.370</td>\n",
       "    </tr>\n",
       "    <tr>\n",
       "      <th>1</th>\n",
       "      <td>1462</td>\n",
       "      <td>155643.750</td>\n",
       "    </tr>\n",
       "    <tr>\n",
       "      <th>2</th>\n",
       "      <td>1463</td>\n",
       "      <td>183600.195</td>\n",
       "    </tr>\n",
       "    <tr>\n",
       "      <th>3</th>\n",
       "      <td>1464</td>\n",
       "      <td>182275.410</td>\n",
       "    </tr>\n",
       "    <tr>\n",
       "      <th>4</th>\n",
       "      <td>1465</td>\n",
       "      <td>197950.880</td>\n",
       "    </tr>\n",
       "    <tr>\n",
       "      <th>...</th>\n",
       "      <td>...</td>\n",
       "      <td>...</td>\n",
       "    </tr>\n",
       "    <tr>\n",
       "      <th>1454</th>\n",
       "      <td>2915</td>\n",
       "      <td>86363.560</td>\n",
       "    </tr>\n",
       "    <tr>\n",
       "      <th>1455</th>\n",
       "      <td>2916</td>\n",
       "      <td>87003.250</td>\n",
       "    </tr>\n",
       "    <tr>\n",
       "      <th>1456</th>\n",
       "      <td>2917</td>\n",
       "      <td>157405.770</td>\n",
       "    </tr>\n",
       "    <tr>\n",
       "      <th>1457</th>\n",
       "      <td>2918</td>\n",
       "      <td>107963.000</td>\n",
       "    </tr>\n",
       "    <tr>\n",
       "      <th>1458</th>\n",
       "      <td>2919</td>\n",
       "      <td>231011.070</td>\n",
       "    </tr>\n",
       "  </tbody>\n",
       "</table>\n",
       "<p>1459 rows × 2 columns</p>\n",
       "</div>"
      ],
      "text/plain": [
       "        Id   SalePrice\n",
       "0     1461  127753.370\n",
       "1     1462  155643.750\n",
       "2     1463  183600.195\n",
       "3     1464  182275.410\n",
       "4     1465  197950.880\n",
       "...    ...         ...\n",
       "1454  2915   86363.560\n",
       "1455  2916   87003.250\n",
       "1456  2917  157405.770\n",
       "1457  2918  107963.000\n",
       "1458  2919  231011.070\n",
       "\n",
       "[1459 rows x 2 columns]"
      ]
     },
     "execution_count": 25,
     "metadata": {},
     "output_type": "execute_result"
    }
   ],
   "source": [
    "data_prediction= pd.DataFrame({'Id':X_test.index,'SalePrice':predict})\n",
    "data_prediction"
   ]
  },
  {
   "cell_type": "code",
   "execution_count": null,
   "id": "8e5008e6",
   "metadata": {
    "papermill": {
     "duration": 0.03566,
     "end_time": "2022-02-12T08:05:39.724725",
     "exception": false,
     "start_time": "2022-02-12T08:05:39.689065",
     "status": "completed"
    },
    "tags": []
   },
   "outputs": [],
   "source": []
  }
 ],
 "metadata": {
  "kernelspec": {
   "display_name": "Python 3",
   "language": "python",
   "name": "python3"
  },
  "language_info": {
   "codemirror_mode": {
    "name": "ipython",
    "version": 3
   },
   "file_extension": ".py",
   "mimetype": "text/x-python",
   "name": "python",
   "nbconvert_exporter": "python",
   "pygments_lexer": "ipython3",
   "version": "3.7.12"
  },
  "papermill": {
   "default_parameters": {},
   "duration": 59.707335,
   "end_time": "2022-02-12T08:05:40.470921",
   "environment_variables": {},
   "exception": null,
   "input_path": "__notebook__.ipynb",
   "output_path": "__notebook__.ipynb",
   "parameters": {},
   "start_time": "2022-02-12T08:04:40.763586",
   "version": "2.3.3"
  }
 },
 "nbformat": 4,
 "nbformat_minor": 5
}
