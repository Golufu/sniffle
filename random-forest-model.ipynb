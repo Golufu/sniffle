{
 "cells": [
  {
   "cell_type": "code",
   "execution_count": 1,
   "id": "f9a35f34",
   "metadata": {
    "_cell_guid": "b1076dfc-b9ad-4769-8c92-a6c4dae69d19",
    "_uuid": "8f2839f25d086af736a60e9eeb907d3b93b6e0e5",
    "execution": {
     "iopub.execute_input": "2022-02-12T03:57:26.866857Z",
     "iopub.status.busy": "2022-02-12T03:57:26.865695Z",
     "iopub.status.idle": "2022-02-12T03:57:26.881240Z",
     "shell.execute_reply": "2022-02-12T03:57:26.881845Z",
     "shell.execute_reply.started": "2022-02-12T03:38:46.630848Z"
    },
    "papermill": {
     "duration": 0.045431,
     "end_time": "2022-02-12T03:57:26.882111",
     "exception": false,
     "start_time": "2022-02-12T03:57:26.836680",
     "status": "completed"
    },
    "tags": []
   },
   "outputs": [
    {
     "name": "stdout",
     "output_type": "stream",
     "text": [
      "/kaggle/input/home-data-for-ml-course/sample_submission.csv\n",
      "/kaggle/input/home-data-for-ml-course/train.csv\n",
      "/kaggle/input/home-data-for-ml-course/test.csv\n"
     ]
    }
   ],
   "source": [
    "# This Python 3 environment comes with many helpful analytics libraries installed\n",
    "# It is defined by the kaggle/python Docker image: https://github.com/kaggle/docker-python\n",
    "# For example, here's several helpful packages to load\n",
    "\n",
    "import numpy as np # linear algebra\n",
    "import pandas as pd # data processing, CSV file I/O (e.g. pd.read_csv)\n",
    "\n",
    "# Input data files are available in the read-only \"../input/\" directory\n",
    "# For example, running this (by clicking run or pressing Shift+Enter) will list all files under the input directory\n",
    "\n",
    "import os\n",
    "for dirname, _, filenames in os.walk('/kaggle/input'):\n",
    "    for filename in filenames:\n",
    "        print(os.path.join(dirname, filename))\n",
    "\n",
    "# You can write up to 20GB to the current directory (/kaggle/working/) that gets preserved as output when you create a version using \"Save & Run All\" \n",
    "# You can also write temporary files to /kaggle/temp/, but they won't be saved outside of the current session"
   ]
  },
  {
   "cell_type": "code",
   "execution_count": 2,
   "id": "343b5543",
   "metadata": {
    "execution": {
     "iopub.execute_input": "2022-02-12T03:57:26.937300Z",
     "iopub.status.busy": "2022-02-12T03:57:26.936722Z",
     "iopub.status.idle": "2022-02-12T03:57:28.631899Z",
     "shell.execute_reply": "2022-02-12T03:57:28.631242Z",
     "shell.execute_reply.started": "2022-02-12T03:38:51.236009Z"
    },
    "papermill": {
     "duration": 1.723294,
     "end_time": "2022-02-12T03:57:28.632046",
     "exception": false,
     "start_time": "2022-02-12T03:57:26.908752",
     "status": "completed"
    },
    "tags": []
   },
   "outputs": [],
   "source": [
    "import pandas as pd \n",
    "import numpy as np\n",
    "import matplotlib.pyplot as plt\n",
    "import seaborn as sns\n",
    "from sklearn.tree import DecisionTreeRegressor\n",
    "from sklearn.ensemble import RandomForestRegressor\n",
    "from sklearn.model_selection import train_test_split\n",
    "from sklearn.metrics import mean_absolute_error"
   ]
  },
  {
   "cell_type": "code",
   "execution_count": 3,
   "id": "b472d414",
   "metadata": {
    "execution": {
     "iopub.execute_input": "2022-02-12T03:57:28.694020Z",
     "iopub.status.busy": "2022-02-12T03:57:28.693187Z",
     "iopub.status.idle": "2022-02-12T03:57:28.743703Z",
     "shell.execute_reply": "2022-02-12T03:57:28.744239Z",
     "shell.execute_reply.started": "2022-02-12T03:45:25.792819Z"
    },
    "papermill": {
     "duration": 0.084755,
     "end_time": "2022-02-12T03:57:28.744470",
     "exception": false,
     "start_time": "2022-02-12T03:57:28.659715",
     "status": "completed"
    },
    "tags": []
   },
   "outputs": [],
   "source": [
    "df=pd.read_csv('../input/home-data-for-ml-course/train.csv')\n",
    "feature=['LotArea', 'YearBuilt', '1stFlrSF', '2ndFlrSF', 'FullBath', 'BedroomAbvGr', 'TotRmsAbvGrd']\n",
    "X=df[feature].copy()\n",
    "y=df.SalePrice.copy()"
   ]
  },
  {
   "cell_type": "code",
   "execution_count": 4,
   "id": "4a39664b",
   "metadata": {
    "execution": {
     "iopub.execute_input": "2022-02-12T03:57:28.807066Z",
     "iopub.status.busy": "2022-02-12T03:57:28.806373Z",
     "iopub.status.idle": "2022-02-12T03:57:28.809476Z",
     "shell.execute_reply": "2022-02-12T03:57:28.809986Z",
     "shell.execute_reply.started": "2022-02-12T03:45:28.280426Z"
    },
    "papermill": {
     "duration": 0.038634,
     "end_time": "2022-02-12T03:57:28.810149",
     "exception": false,
     "start_time": "2022-02-12T03:57:28.771515",
     "status": "completed"
    },
    "tags": []
   },
   "outputs": [
    {
     "data": {
      "text/plain": [
       "(1460, 7)"
      ]
     },
     "execution_count": 4,
     "metadata": {},
     "output_type": "execute_result"
    }
   ],
   "source": [
    "X.shape"
   ]
  },
  {
   "cell_type": "code",
   "execution_count": 5,
   "id": "bca26fe2",
   "metadata": {
    "execution": {
     "iopub.execute_input": "2022-02-12T03:57:28.866224Z",
     "iopub.status.busy": "2022-02-12T03:57:28.865626Z",
     "iopub.status.idle": "2022-02-12T03:57:28.868928Z",
     "shell.execute_reply": "2022-02-12T03:57:28.869530Z",
     "shell.execute_reply.started": "2022-02-12T03:45:29.672297Z"
    },
    "papermill": {
     "duration": 0.033271,
     "end_time": "2022-02-12T03:57:28.869665",
     "exception": false,
     "start_time": "2022-02-12T03:57:28.836394",
     "status": "completed"
    },
    "tags": []
   },
   "outputs": [
    {
     "data": {
      "text/plain": [
       "(1460,)"
      ]
     },
     "execution_count": 5,
     "metadata": {},
     "output_type": "execute_result"
    }
   ],
   "source": [
    "y.shape"
   ]
  },
  {
   "cell_type": "code",
   "execution_count": 6,
   "id": "13903524",
   "metadata": {
    "execution": {
     "iopub.execute_input": "2022-02-12T03:57:28.926703Z",
     "iopub.status.busy": "2022-02-12T03:57:28.925991Z",
     "iopub.status.idle": "2022-02-12T03:57:28.934692Z",
     "shell.execute_reply": "2022-02-12T03:57:28.935737Z",
     "shell.execute_reply.started": "2022-02-12T03:45:32.585749Z"
    },
    "papermill": {
     "duration": 0.03956,
     "end_time": "2022-02-12T03:57:28.936002",
     "exception": false,
     "start_time": "2022-02-12T03:57:28.896442",
     "status": "completed"
    },
    "tags": []
   },
   "outputs": [
    {
     "data": {
      "text/plain": [
       "LotArea         0\n",
       "YearBuilt       0\n",
       "1stFlrSF        0\n",
       "2ndFlrSF        0\n",
       "FullBath        0\n",
       "BedroomAbvGr    0\n",
       "TotRmsAbvGrd    0\n",
       "dtype: int64"
      ]
     },
     "execution_count": 6,
     "metadata": {},
     "output_type": "execute_result"
    }
   ],
   "source": [
    "X.isnull().sum()"
   ]
  },
  {
   "cell_type": "code",
   "execution_count": 7,
   "id": "648ec8fc",
   "metadata": {
    "execution": {
     "iopub.execute_input": "2022-02-12T03:57:28.995729Z",
     "iopub.status.busy": "2022-02-12T03:57:28.995040Z",
     "iopub.status.idle": "2022-02-12T03:57:29.032932Z",
     "shell.execute_reply": "2022-02-12T03:57:29.033509Z",
     "shell.execute_reply.started": "2022-02-12T03:45:33.413353Z"
    },
    "papermill": {
     "duration": 0.069583,
     "end_time": "2022-02-12T03:57:29.033679",
     "exception": false,
     "start_time": "2022-02-12T03:57:28.964096",
     "status": "completed"
    },
    "tags": []
   },
   "outputs": [
    {
     "data": {
      "text/html": [
       "<div>\n",
       "<style scoped>\n",
       "    .dataframe tbody tr th:only-of-type {\n",
       "        vertical-align: middle;\n",
       "    }\n",
       "\n",
       "    .dataframe tbody tr th {\n",
       "        vertical-align: top;\n",
       "    }\n",
       "\n",
       "    .dataframe thead th {\n",
       "        text-align: right;\n",
       "    }\n",
       "</style>\n",
       "<table border=\"1\" class=\"dataframe\">\n",
       "  <thead>\n",
       "    <tr style=\"text-align: right;\">\n",
       "      <th></th>\n",
       "      <th>LotArea</th>\n",
       "      <th>YearBuilt</th>\n",
       "      <th>1stFlrSF</th>\n",
       "      <th>2ndFlrSF</th>\n",
       "      <th>FullBath</th>\n",
       "      <th>BedroomAbvGr</th>\n",
       "      <th>TotRmsAbvGrd</th>\n",
       "    </tr>\n",
       "  </thead>\n",
       "  <tbody>\n",
       "    <tr>\n",
       "      <th>count</th>\n",
       "      <td>1460.000000</td>\n",
       "      <td>1460.000000</td>\n",
       "      <td>1460.000000</td>\n",
       "      <td>1460.000000</td>\n",
       "      <td>1460.000000</td>\n",
       "      <td>1460.000000</td>\n",
       "      <td>1460.000000</td>\n",
       "    </tr>\n",
       "    <tr>\n",
       "      <th>mean</th>\n",
       "      <td>10516.828082</td>\n",
       "      <td>1971.267808</td>\n",
       "      <td>1162.626712</td>\n",
       "      <td>346.992466</td>\n",
       "      <td>1.565068</td>\n",
       "      <td>2.866438</td>\n",
       "      <td>6.517808</td>\n",
       "    </tr>\n",
       "    <tr>\n",
       "      <th>std</th>\n",
       "      <td>9981.264932</td>\n",
       "      <td>30.202904</td>\n",
       "      <td>386.587738</td>\n",
       "      <td>436.528436</td>\n",
       "      <td>0.550916</td>\n",
       "      <td>0.815778</td>\n",
       "      <td>1.625393</td>\n",
       "    </tr>\n",
       "    <tr>\n",
       "      <th>min</th>\n",
       "      <td>1300.000000</td>\n",
       "      <td>1872.000000</td>\n",
       "      <td>334.000000</td>\n",
       "      <td>0.000000</td>\n",
       "      <td>0.000000</td>\n",
       "      <td>0.000000</td>\n",
       "      <td>2.000000</td>\n",
       "    </tr>\n",
       "    <tr>\n",
       "      <th>25%</th>\n",
       "      <td>7553.500000</td>\n",
       "      <td>1954.000000</td>\n",
       "      <td>882.000000</td>\n",
       "      <td>0.000000</td>\n",
       "      <td>1.000000</td>\n",
       "      <td>2.000000</td>\n",
       "      <td>5.000000</td>\n",
       "    </tr>\n",
       "    <tr>\n",
       "      <th>50%</th>\n",
       "      <td>9478.500000</td>\n",
       "      <td>1973.000000</td>\n",
       "      <td>1087.000000</td>\n",
       "      <td>0.000000</td>\n",
       "      <td>2.000000</td>\n",
       "      <td>3.000000</td>\n",
       "      <td>6.000000</td>\n",
       "    </tr>\n",
       "    <tr>\n",
       "      <th>75%</th>\n",
       "      <td>11601.500000</td>\n",
       "      <td>2000.000000</td>\n",
       "      <td>1391.250000</td>\n",
       "      <td>728.000000</td>\n",
       "      <td>2.000000</td>\n",
       "      <td>3.000000</td>\n",
       "      <td>7.000000</td>\n",
       "    </tr>\n",
       "    <tr>\n",
       "      <th>max</th>\n",
       "      <td>215245.000000</td>\n",
       "      <td>2010.000000</td>\n",
       "      <td>4692.000000</td>\n",
       "      <td>2065.000000</td>\n",
       "      <td>3.000000</td>\n",
       "      <td>8.000000</td>\n",
       "      <td>14.000000</td>\n",
       "    </tr>\n",
       "  </tbody>\n",
       "</table>\n",
       "</div>"
      ],
      "text/plain": [
       "             LotArea    YearBuilt     1stFlrSF     2ndFlrSF     FullBath  \\\n",
       "count    1460.000000  1460.000000  1460.000000  1460.000000  1460.000000   \n",
       "mean    10516.828082  1971.267808  1162.626712   346.992466     1.565068   \n",
       "std      9981.264932    30.202904   386.587738   436.528436     0.550916   \n",
       "min      1300.000000  1872.000000   334.000000     0.000000     0.000000   \n",
       "25%      7553.500000  1954.000000   882.000000     0.000000     1.000000   \n",
       "50%      9478.500000  1973.000000  1087.000000     0.000000     2.000000   \n",
       "75%     11601.500000  2000.000000  1391.250000   728.000000     2.000000   \n",
       "max    215245.000000  2010.000000  4692.000000  2065.000000     3.000000   \n",
       "\n",
       "       BedroomAbvGr  TotRmsAbvGrd  \n",
       "count   1460.000000   1460.000000  \n",
       "mean       2.866438      6.517808  \n",
       "std        0.815778      1.625393  \n",
       "min        0.000000      2.000000  \n",
       "25%        2.000000      5.000000  \n",
       "50%        3.000000      6.000000  \n",
       "75%        3.000000      7.000000  \n",
       "max        8.000000     14.000000  "
      ]
     },
     "execution_count": 7,
     "metadata": {},
     "output_type": "execute_result"
    }
   ],
   "source": [
    "X.describe()"
   ]
  },
  {
   "cell_type": "code",
   "execution_count": 8,
   "id": "024e16f0",
   "metadata": {
    "execution": {
     "iopub.execute_input": "2022-02-12T03:57:29.093381Z",
     "iopub.status.busy": "2022-02-12T03:57:29.092712Z",
     "iopub.status.idle": "2022-02-12T03:57:29.096578Z",
     "shell.execute_reply": "2022-02-12T03:57:29.097150Z",
     "shell.execute_reply.started": "2022-02-12T03:45:36.424683Z"
    },
    "papermill": {
     "duration": 0.035312,
     "end_time": "2022-02-12T03:57:29.097320",
     "exception": false,
     "start_time": "2022-02-12T03:57:29.062008",
     "status": "completed"
    },
    "tags": []
   },
   "outputs": [],
   "source": [
    "X_tr,X_t,y_tr,y_t=train_test_split(X,y,test_size=0.3,random_state=1)"
   ]
  },
  {
   "cell_type": "code",
   "execution_count": 9,
   "id": "b7529f33",
   "metadata": {
    "execution": {
     "iopub.execute_input": "2022-02-12T03:57:29.158244Z",
     "iopub.status.busy": "2022-02-12T03:57:29.157550Z",
     "iopub.status.idle": "2022-02-12T03:57:29.160585Z",
     "shell.execute_reply": "2022-02-12T03:57:29.161154Z",
     "shell.execute_reply.started": "2022-02-12T03:45:37.289221Z"
    },
    "papermill": {
     "duration": 0.035637,
     "end_time": "2022-02-12T03:57:29.161363",
     "exception": false,
     "start_time": "2022-02-12T03:57:29.125726",
     "status": "completed"
    },
    "tags": []
   },
   "outputs": [],
   "source": [
    "model=DecisionTreeRegressor(random_state=1)"
   ]
  },
  {
   "cell_type": "code",
   "execution_count": 10,
   "id": "f910fad7",
   "metadata": {
    "execution": {
     "iopub.execute_input": "2022-02-12T03:57:29.226643Z",
     "iopub.status.busy": "2022-02-12T03:57:29.221388Z",
     "iopub.status.idle": "2022-02-12T03:57:29.238325Z",
     "shell.execute_reply": "2022-02-12T03:57:29.238897Z",
     "shell.execute_reply.started": "2022-02-12T03:45:38.971600Z"
    },
    "papermill": {
     "duration": 0.049212,
     "end_time": "2022-02-12T03:57:29.239068",
     "exception": false,
     "start_time": "2022-02-12T03:57:29.189856",
     "status": "completed"
    },
    "tags": []
   },
   "outputs": [
    {
     "data": {
      "text/plain": [
       "31392.527397260274"
      ]
     },
     "execution_count": 10,
     "metadata": {},
     "output_type": "execute_result"
    }
   ],
   "source": [
    "model.fit(X_tr,y_tr)\n",
    "prediction=model.predict(X_t)\n",
    "mae=mean_absolute_error(prediction,y_t)\n",
    "mae"
   ]
  },
  {
   "cell_type": "code",
   "execution_count": 11,
   "id": "512ffcf4",
   "metadata": {
    "execution": {
     "iopub.execute_input": "2022-02-12T03:57:29.303746Z",
     "iopub.status.busy": "2022-02-12T03:57:29.303069Z",
     "iopub.status.idle": "2022-02-12T03:57:29.306564Z",
     "shell.execute_reply": "2022-02-12T03:57:29.307142Z",
     "shell.execute_reply.started": "2022-02-12T03:45:40.255333Z"
    },
    "papermill": {
     "duration": 0.0359,
     "end_time": "2022-02-12T03:57:29.307317",
     "exception": false,
     "start_time": "2022-02-12T03:57:29.271417",
     "status": "completed"
    },
    "tags": []
   },
   "outputs": [],
   "source": [
    "def model_select_node(Xtr,Xt,ytr,yt,node,rand):\n",
    "    model=DecisionTreeRegressor(max_leaf_nodes=node,random_state=rand)\n",
    "    model.fit(Xtr,ytr)\n",
    "    pred=model.predict(Xt)\n",
    "    mae=mean_absolute_error(pred,yt)\n",
    "    return mae\n",
    "\n"
   ]
  },
  {
   "cell_type": "code",
   "execution_count": 12,
   "id": "d5748185",
   "metadata": {
    "execution": {
     "iopub.execute_input": "2022-02-12T03:57:29.367326Z",
     "iopub.status.busy": "2022-02-12T03:57:29.366738Z",
     "iopub.status.idle": "2022-02-12T03:57:35.653756Z",
     "shell.execute_reply": "2022-02-12T03:57:35.652983Z",
     "shell.execute_reply.started": "2022-02-12T03:45:41.566650Z"
    },
    "papermill": {
     "duration": 6.31798,
     "end_time": "2022-02-12T03:57:35.653940",
     "exception": false,
     "start_time": "2022-02-12T03:57:29.335960",
     "status": "completed"
    },
    "tags": []
   },
   "outputs": [
    {
     "name": "stdout",
     "output_type": "stream",
     "text": [
      "the best size of node is 43 and has score 28524.28455264335\n"
     ]
    }
   ],
   "source": [
    "node=range(2,1000)\n",
    "score={node:model_select_node(X_tr,X_t,y_tr,y_t,node,1) for node in node}\n",
    "best_score=min(score,key=score.get)\n",
    "print(\"the best size of node is {} and has score {}\".format(best_score,score[best_score]))"
   ]
  },
  {
   "cell_type": "code",
   "execution_count": 13,
   "id": "9dc3954d",
   "metadata": {
    "execution": {
     "iopub.execute_input": "2022-02-12T03:57:35.716786Z",
     "iopub.status.busy": "2022-02-12T03:57:35.715958Z",
     "iopub.status.idle": "2022-02-12T03:57:36.096380Z",
     "shell.execute_reply": "2022-02-12T03:57:36.096898Z",
     "shell.execute_reply.started": "2022-02-12T03:45:51.892187Z"
    },
    "papermill": {
     "duration": 0.412991,
     "end_time": "2022-02-12T03:57:36.097055",
     "exception": false,
     "start_time": "2022-02-12T03:57:35.684064",
     "status": "completed"
    },
    "tags": []
   },
   "outputs": [
    {
     "data": {
      "text/plain": [
       "23091.682766905844"
      ]
     },
     "execution_count": 13,
     "metadata": {},
     "output_type": "execute_result"
    }
   ],
   "source": [
    "model_random=RandomForestRegressor(random_state=1)\n",
    "model_random.fit(X_tr,y_tr)\n",
    "prediction=model_random.predict(X_t)\n",
    "mae=mean_absolute_error(prediction,y_t)\n",
    "mae"
   ]
  },
  {
   "cell_type": "code",
   "execution_count": 14,
   "id": "34eb00fb",
   "metadata": {
    "execution": {
     "iopub.execute_input": "2022-02-12T03:57:36.159494Z",
     "iopub.status.busy": "2022-02-12T03:57:36.158866Z",
     "iopub.status.idle": "2022-02-12T03:57:36.635018Z",
     "shell.execute_reply": "2022-02-12T03:57:36.634361Z",
     "shell.execute_reply.started": "2022-02-12T03:45:56.452164Z"
    },
    "papermill": {
     "duration": 0.508324,
     "end_time": "2022-02-12T03:57:36.635154",
     "exception": false,
     "start_time": "2022-02-12T03:57:36.126830",
     "status": "completed"
    },
    "tags": []
   },
   "outputs": [
    {
     "data": {
      "text/plain": [
       "RandomForestRegressor(random_state=1)"
      ]
     },
     "execution_count": 14,
     "metadata": {},
     "output_type": "execute_result"
    }
   ],
   "source": [
    "model_final=RandomForestRegressor(random_state=1)\n",
    "model_final.fit(X,y)"
   ]
  },
  {
   "cell_type": "code",
   "execution_count": 15,
   "id": "2495b111",
   "metadata": {
    "execution": {
     "iopub.execute_input": "2022-02-12T03:57:36.700857Z",
     "iopub.status.busy": "2022-02-12T03:57:36.700277Z",
     "iopub.status.idle": "2022-02-12T03:57:36.739438Z",
     "shell.execute_reply": "2022-02-12T03:57:36.739847Z",
     "shell.execute_reply.started": "2022-02-12T03:46:43.447436Z"
    },
    "papermill": {
     "duration": 0.074173,
     "end_time": "2022-02-12T03:57:36.739985",
     "exception": false,
     "start_time": "2022-02-12T03:57:36.665812",
     "status": "completed"
    },
    "tags": []
   },
   "outputs": [],
   "source": [
    "test=pd.read_csv('../input/home-data-for-ml-course/test.csv')"
   ]
  },
  {
   "cell_type": "code",
   "execution_count": 16,
   "id": "2943d44c",
   "metadata": {
    "execution": {
     "iopub.execute_input": "2022-02-12T03:57:36.782333Z",
     "iopub.status.busy": "2022-02-12T03:57:36.781703Z",
     "iopub.status.idle": "2022-02-12T03:57:36.821309Z",
     "shell.execute_reply": "2022-02-12T03:57:36.821792Z",
     "shell.execute_reply.started": "2022-02-12T03:47:56.238771Z"
    },
    "papermill": {
     "duration": 0.062239,
     "end_time": "2022-02-12T03:57:36.821922",
     "exception": false,
     "start_time": "2022-02-12T03:57:36.759683",
     "status": "completed"
    },
    "tags": []
   },
   "outputs": [
    {
     "data": {
      "text/plain": [
       "array([122656.58, 156789.  , 182959.  , ..., 151283.01, 127878.  ,\n",
       "       225959.8 ])"
      ]
     },
     "execution_count": 16,
     "metadata": {},
     "output_type": "execute_result"
    }
   ],
   "source": [
    "test_data=test[feature]\n",
    "prediction=model_final.predict(test_data)\n",
    "prediction"
   ]
  },
  {
   "cell_type": "code",
   "execution_count": 17,
   "id": "d27c3a82",
   "metadata": {
    "execution": {
     "iopub.execute_input": "2022-02-12T03:57:36.865485Z",
     "iopub.status.busy": "2022-02-12T03:57:36.864791Z",
     "iopub.status.idle": "2022-02-12T03:57:36.869820Z",
     "shell.execute_reply": "2022-02-12T03:57:36.870423Z",
     "shell.execute_reply.started": "2022-02-12T03:54:15.437037Z"
    },
    "papermill": {
     "duration": 0.028339,
     "end_time": "2022-02-12T03:57:36.870602",
     "exception": false,
     "start_time": "2022-02-12T03:57:36.842263",
     "status": "completed"
    },
    "tags": []
   },
   "outputs": [],
   "source": [
    "data_sale=pd.DataFrame({'Id':test.Id,'SalePrice':prediction})"
   ]
  },
  {
   "cell_type": "code",
   "execution_count": 18,
   "id": "67f01366",
   "metadata": {
    "execution": {
     "iopub.execute_input": "2022-02-12T03:57:36.945775Z",
     "iopub.status.busy": "2022-02-12T03:57:36.942034Z",
     "iopub.status.idle": "2022-02-12T03:57:36.950283Z",
     "shell.execute_reply": "2022-02-12T03:57:36.949634Z",
     "shell.execute_reply.started": "2022-02-12T03:54:19.607216Z"
    },
    "papermill": {
     "duration": 0.049116,
     "end_time": "2022-02-12T03:57:36.950454",
     "exception": false,
     "start_time": "2022-02-12T03:57:36.901338",
     "status": "completed"
    },
    "tags": []
   },
   "outputs": [
    {
     "data": {
      "text/html": [
       "<div>\n",
       "<style scoped>\n",
       "    .dataframe tbody tr th:only-of-type {\n",
       "        vertical-align: middle;\n",
       "    }\n",
       "\n",
       "    .dataframe tbody tr th {\n",
       "        vertical-align: top;\n",
       "    }\n",
       "\n",
       "    .dataframe thead th {\n",
       "        text-align: right;\n",
       "    }\n",
       "</style>\n",
       "<table border=\"1\" class=\"dataframe\">\n",
       "  <thead>\n",
       "    <tr style=\"text-align: right;\">\n",
       "      <th></th>\n",
       "      <th>Id</th>\n",
       "      <th>SalePrice</th>\n",
       "    </tr>\n",
       "  </thead>\n",
       "  <tbody>\n",
       "    <tr>\n",
       "      <th>0</th>\n",
       "      <td>1461</td>\n",
       "      <td>122656.58</td>\n",
       "    </tr>\n",
       "    <tr>\n",
       "      <th>1</th>\n",
       "      <td>1462</td>\n",
       "      <td>156789.00</td>\n",
       "    </tr>\n",
       "    <tr>\n",
       "      <th>2</th>\n",
       "      <td>1463</td>\n",
       "      <td>182959.00</td>\n",
       "    </tr>\n",
       "    <tr>\n",
       "      <th>3</th>\n",
       "      <td>1464</td>\n",
       "      <td>178102.00</td>\n",
       "    </tr>\n",
       "    <tr>\n",
       "      <th>4</th>\n",
       "      <td>1465</td>\n",
       "      <td>189049.48</td>\n",
       "    </tr>\n",
       "    <tr>\n",
       "      <th>...</th>\n",
       "      <td>...</td>\n",
       "      <td>...</td>\n",
       "    </tr>\n",
       "    <tr>\n",
       "      <th>1454</th>\n",
       "      <td>2915</td>\n",
       "      <td>83645.00</td>\n",
       "    </tr>\n",
       "    <tr>\n",
       "      <th>1455</th>\n",
       "      <td>2916</td>\n",
       "      <td>86785.00</td>\n",
       "    </tr>\n",
       "    <tr>\n",
       "      <th>1456</th>\n",
       "      <td>2917</td>\n",
       "      <td>151283.01</td>\n",
       "    </tr>\n",
       "    <tr>\n",
       "      <th>1457</th>\n",
       "      <td>2918</td>\n",
       "      <td>127878.00</td>\n",
       "    </tr>\n",
       "    <tr>\n",
       "      <th>1458</th>\n",
       "      <td>2919</td>\n",
       "      <td>225959.80</td>\n",
       "    </tr>\n",
       "  </tbody>\n",
       "</table>\n",
       "<p>1459 rows × 2 columns</p>\n",
       "</div>"
      ],
      "text/plain": [
       "        Id  SalePrice\n",
       "0     1461  122656.58\n",
       "1     1462  156789.00\n",
       "2     1463  182959.00\n",
       "3     1464  178102.00\n",
       "4     1465  189049.48\n",
       "...    ...        ...\n",
       "1454  2915   83645.00\n",
       "1455  2916   86785.00\n",
       "1456  2917  151283.01\n",
       "1457  2918  127878.00\n",
       "1458  2919  225959.80\n",
       "\n",
       "[1459 rows x 2 columns]"
      ]
     },
     "execution_count": 18,
     "metadata": {},
     "output_type": "execute_result"
    }
   ],
   "source": [
    "data_sale"
   ]
  },
  {
   "cell_type": "code",
   "execution_count": 19,
   "id": "aa9f2d71",
   "metadata": {
    "execution": {
     "iopub.execute_input": "2022-02-12T03:57:37.021259Z",
     "iopub.status.busy": "2022-02-12T03:57:37.017931Z",
     "iopub.status.idle": "2022-02-12T03:57:37.079228Z",
     "shell.execute_reply": "2022-02-12T03:57:37.079759Z",
     "shell.execute_reply.started": "2022-02-12T03:56:15.332982Z"
    },
    "papermill": {
     "duration": 0.096722,
     "end_time": "2022-02-12T03:57:37.079926",
     "exception": false,
     "start_time": "2022-02-12T03:57:36.983204",
     "status": "completed"
    },
    "tags": []
   },
   "outputs": [
    {
     "data": {
      "text/html": [
       "<div>\n",
       "<style scoped>\n",
       "    .dataframe tbody tr th:only-of-type {\n",
       "        vertical-align: middle;\n",
       "    }\n",
       "\n",
       "    .dataframe tbody tr th {\n",
       "        vertical-align: top;\n",
       "    }\n",
       "\n",
       "    .dataframe thead th {\n",
       "        text-align: right;\n",
       "    }\n",
       "</style>\n",
       "<table border=\"1\" class=\"dataframe\">\n",
       "  <thead>\n",
       "    <tr style=\"text-align: right;\">\n",
       "      <th></th>\n",
       "      <th>Id</th>\n",
       "      <th>MSSubClass</th>\n",
       "      <th>MSZoning</th>\n",
       "      <th>LotFrontage</th>\n",
       "      <th>LotArea</th>\n",
       "      <th>Street</th>\n",
       "      <th>Alley</th>\n",
       "      <th>LotShape</th>\n",
       "      <th>LandContour</th>\n",
       "      <th>Utilities</th>\n",
       "      <th>...</th>\n",
       "      <th>PoolArea</th>\n",
       "      <th>PoolQC</th>\n",
       "      <th>Fence</th>\n",
       "      <th>MiscFeature</th>\n",
       "      <th>MiscVal</th>\n",
       "      <th>MoSold</th>\n",
       "      <th>YrSold</th>\n",
       "      <th>SaleType</th>\n",
       "      <th>SaleCondition</th>\n",
       "      <th>SalePrice</th>\n",
       "    </tr>\n",
       "  </thead>\n",
       "  <tbody>\n",
       "    <tr>\n",
       "      <th>0</th>\n",
       "      <td>1461</td>\n",
       "      <td>20</td>\n",
       "      <td>RH</td>\n",
       "      <td>80.0</td>\n",
       "      <td>11622</td>\n",
       "      <td>Pave</td>\n",
       "      <td>NaN</td>\n",
       "      <td>Reg</td>\n",
       "      <td>Lvl</td>\n",
       "      <td>AllPub</td>\n",
       "      <td>...</td>\n",
       "      <td>0</td>\n",
       "      <td>NaN</td>\n",
       "      <td>MnPrv</td>\n",
       "      <td>NaN</td>\n",
       "      <td>0</td>\n",
       "      <td>6</td>\n",
       "      <td>2010</td>\n",
       "      <td>WD</td>\n",
       "      <td>Normal</td>\n",
       "      <td>122656.58</td>\n",
       "    </tr>\n",
       "    <tr>\n",
       "      <th>1</th>\n",
       "      <td>1462</td>\n",
       "      <td>20</td>\n",
       "      <td>RL</td>\n",
       "      <td>81.0</td>\n",
       "      <td>14267</td>\n",
       "      <td>Pave</td>\n",
       "      <td>NaN</td>\n",
       "      <td>IR1</td>\n",
       "      <td>Lvl</td>\n",
       "      <td>AllPub</td>\n",
       "      <td>...</td>\n",
       "      <td>0</td>\n",
       "      <td>NaN</td>\n",
       "      <td>NaN</td>\n",
       "      <td>Gar2</td>\n",
       "      <td>12500</td>\n",
       "      <td>6</td>\n",
       "      <td>2010</td>\n",
       "      <td>WD</td>\n",
       "      <td>Normal</td>\n",
       "      <td>156789.00</td>\n",
       "    </tr>\n",
       "    <tr>\n",
       "      <th>2</th>\n",
       "      <td>1463</td>\n",
       "      <td>60</td>\n",
       "      <td>RL</td>\n",
       "      <td>74.0</td>\n",
       "      <td>13830</td>\n",
       "      <td>Pave</td>\n",
       "      <td>NaN</td>\n",
       "      <td>IR1</td>\n",
       "      <td>Lvl</td>\n",
       "      <td>AllPub</td>\n",
       "      <td>...</td>\n",
       "      <td>0</td>\n",
       "      <td>NaN</td>\n",
       "      <td>MnPrv</td>\n",
       "      <td>NaN</td>\n",
       "      <td>0</td>\n",
       "      <td>3</td>\n",
       "      <td>2010</td>\n",
       "      <td>WD</td>\n",
       "      <td>Normal</td>\n",
       "      <td>182959.00</td>\n",
       "    </tr>\n",
       "    <tr>\n",
       "      <th>3</th>\n",
       "      <td>1464</td>\n",
       "      <td>60</td>\n",
       "      <td>RL</td>\n",
       "      <td>78.0</td>\n",
       "      <td>9978</td>\n",
       "      <td>Pave</td>\n",
       "      <td>NaN</td>\n",
       "      <td>IR1</td>\n",
       "      <td>Lvl</td>\n",
       "      <td>AllPub</td>\n",
       "      <td>...</td>\n",
       "      <td>0</td>\n",
       "      <td>NaN</td>\n",
       "      <td>NaN</td>\n",
       "      <td>NaN</td>\n",
       "      <td>0</td>\n",
       "      <td>6</td>\n",
       "      <td>2010</td>\n",
       "      <td>WD</td>\n",
       "      <td>Normal</td>\n",
       "      <td>178102.00</td>\n",
       "    </tr>\n",
       "    <tr>\n",
       "      <th>4</th>\n",
       "      <td>1465</td>\n",
       "      <td>120</td>\n",
       "      <td>RL</td>\n",
       "      <td>43.0</td>\n",
       "      <td>5005</td>\n",
       "      <td>Pave</td>\n",
       "      <td>NaN</td>\n",
       "      <td>IR1</td>\n",
       "      <td>HLS</td>\n",
       "      <td>AllPub</td>\n",
       "      <td>...</td>\n",
       "      <td>0</td>\n",
       "      <td>NaN</td>\n",
       "      <td>NaN</td>\n",
       "      <td>NaN</td>\n",
       "      <td>0</td>\n",
       "      <td>1</td>\n",
       "      <td>2010</td>\n",
       "      <td>WD</td>\n",
       "      <td>Normal</td>\n",
       "      <td>189049.48</td>\n",
       "    </tr>\n",
       "    <tr>\n",
       "      <th>...</th>\n",
       "      <td>...</td>\n",
       "      <td>...</td>\n",
       "      <td>...</td>\n",
       "      <td>...</td>\n",
       "      <td>...</td>\n",
       "      <td>...</td>\n",
       "      <td>...</td>\n",
       "      <td>...</td>\n",
       "      <td>...</td>\n",
       "      <td>...</td>\n",
       "      <td>...</td>\n",
       "      <td>...</td>\n",
       "      <td>...</td>\n",
       "      <td>...</td>\n",
       "      <td>...</td>\n",
       "      <td>...</td>\n",
       "      <td>...</td>\n",
       "      <td>...</td>\n",
       "      <td>...</td>\n",
       "      <td>...</td>\n",
       "      <td>...</td>\n",
       "    </tr>\n",
       "    <tr>\n",
       "      <th>1454</th>\n",
       "      <td>2915</td>\n",
       "      <td>160</td>\n",
       "      <td>RM</td>\n",
       "      <td>21.0</td>\n",
       "      <td>1936</td>\n",
       "      <td>Pave</td>\n",
       "      <td>NaN</td>\n",
       "      <td>Reg</td>\n",
       "      <td>Lvl</td>\n",
       "      <td>AllPub</td>\n",
       "      <td>...</td>\n",
       "      <td>0</td>\n",
       "      <td>NaN</td>\n",
       "      <td>NaN</td>\n",
       "      <td>NaN</td>\n",
       "      <td>0</td>\n",
       "      <td>6</td>\n",
       "      <td>2006</td>\n",
       "      <td>WD</td>\n",
       "      <td>Normal</td>\n",
       "      <td>83645.00</td>\n",
       "    </tr>\n",
       "    <tr>\n",
       "      <th>1455</th>\n",
       "      <td>2916</td>\n",
       "      <td>160</td>\n",
       "      <td>RM</td>\n",
       "      <td>21.0</td>\n",
       "      <td>1894</td>\n",
       "      <td>Pave</td>\n",
       "      <td>NaN</td>\n",
       "      <td>Reg</td>\n",
       "      <td>Lvl</td>\n",
       "      <td>AllPub</td>\n",
       "      <td>...</td>\n",
       "      <td>0</td>\n",
       "      <td>NaN</td>\n",
       "      <td>NaN</td>\n",
       "      <td>NaN</td>\n",
       "      <td>0</td>\n",
       "      <td>4</td>\n",
       "      <td>2006</td>\n",
       "      <td>WD</td>\n",
       "      <td>Abnorml</td>\n",
       "      <td>86785.00</td>\n",
       "    </tr>\n",
       "    <tr>\n",
       "      <th>1456</th>\n",
       "      <td>2917</td>\n",
       "      <td>20</td>\n",
       "      <td>RL</td>\n",
       "      <td>160.0</td>\n",
       "      <td>20000</td>\n",
       "      <td>Pave</td>\n",
       "      <td>NaN</td>\n",
       "      <td>Reg</td>\n",
       "      <td>Lvl</td>\n",
       "      <td>AllPub</td>\n",
       "      <td>...</td>\n",
       "      <td>0</td>\n",
       "      <td>NaN</td>\n",
       "      <td>NaN</td>\n",
       "      <td>NaN</td>\n",
       "      <td>0</td>\n",
       "      <td>9</td>\n",
       "      <td>2006</td>\n",
       "      <td>WD</td>\n",
       "      <td>Abnorml</td>\n",
       "      <td>151283.01</td>\n",
       "    </tr>\n",
       "    <tr>\n",
       "      <th>1457</th>\n",
       "      <td>2918</td>\n",
       "      <td>85</td>\n",
       "      <td>RL</td>\n",
       "      <td>62.0</td>\n",
       "      <td>10441</td>\n",
       "      <td>Pave</td>\n",
       "      <td>NaN</td>\n",
       "      <td>Reg</td>\n",
       "      <td>Lvl</td>\n",
       "      <td>AllPub</td>\n",
       "      <td>...</td>\n",
       "      <td>0</td>\n",
       "      <td>NaN</td>\n",
       "      <td>MnPrv</td>\n",
       "      <td>Shed</td>\n",
       "      <td>700</td>\n",
       "      <td>7</td>\n",
       "      <td>2006</td>\n",
       "      <td>WD</td>\n",
       "      <td>Normal</td>\n",
       "      <td>127878.00</td>\n",
       "    </tr>\n",
       "    <tr>\n",
       "      <th>1458</th>\n",
       "      <td>2919</td>\n",
       "      <td>60</td>\n",
       "      <td>RL</td>\n",
       "      <td>74.0</td>\n",
       "      <td>9627</td>\n",
       "      <td>Pave</td>\n",
       "      <td>NaN</td>\n",
       "      <td>Reg</td>\n",
       "      <td>Lvl</td>\n",
       "      <td>AllPub</td>\n",
       "      <td>...</td>\n",
       "      <td>0</td>\n",
       "      <td>NaN</td>\n",
       "      <td>NaN</td>\n",
       "      <td>NaN</td>\n",
       "      <td>0</td>\n",
       "      <td>11</td>\n",
       "      <td>2006</td>\n",
       "      <td>WD</td>\n",
       "      <td>Normal</td>\n",
       "      <td>225959.80</td>\n",
       "    </tr>\n",
       "  </tbody>\n",
       "</table>\n",
       "<p>1459 rows × 81 columns</p>\n",
       "</div>"
      ],
      "text/plain": [
       "        Id  MSSubClass MSZoning  LotFrontage  LotArea Street Alley LotShape  \\\n",
       "0     1461          20       RH         80.0    11622   Pave   NaN      Reg   \n",
       "1     1462          20       RL         81.0    14267   Pave   NaN      IR1   \n",
       "2     1463          60       RL         74.0    13830   Pave   NaN      IR1   \n",
       "3     1464          60       RL         78.0     9978   Pave   NaN      IR1   \n",
       "4     1465         120       RL         43.0     5005   Pave   NaN      IR1   \n",
       "...    ...         ...      ...          ...      ...    ...   ...      ...   \n",
       "1454  2915         160       RM         21.0     1936   Pave   NaN      Reg   \n",
       "1455  2916         160       RM         21.0     1894   Pave   NaN      Reg   \n",
       "1456  2917          20       RL        160.0    20000   Pave   NaN      Reg   \n",
       "1457  2918          85       RL         62.0    10441   Pave   NaN      Reg   \n",
       "1458  2919          60       RL         74.0     9627   Pave   NaN      Reg   \n",
       "\n",
       "     LandContour Utilities  ... PoolArea PoolQC  Fence MiscFeature MiscVal  \\\n",
       "0            Lvl    AllPub  ...        0    NaN  MnPrv         NaN       0   \n",
       "1            Lvl    AllPub  ...        0    NaN    NaN        Gar2   12500   \n",
       "2            Lvl    AllPub  ...        0    NaN  MnPrv         NaN       0   \n",
       "3            Lvl    AllPub  ...        0    NaN    NaN         NaN       0   \n",
       "4            HLS    AllPub  ...        0    NaN    NaN         NaN       0   \n",
       "...          ...       ...  ...      ...    ...    ...         ...     ...   \n",
       "1454         Lvl    AllPub  ...        0    NaN    NaN         NaN       0   \n",
       "1455         Lvl    AllPub  ...        0    NaN    NaN         NaN       0   \n",
       "1456         Lvl    AllPub  ...        0    NaN    NaN         NaN       0   \n",
       "1457         Lvl    AllPub  ...        0    NaN  MnPrv        Shed     700   \n",
       "1458         Lvl    AllPub  ...        0    NaN    NaN         NaN       0   \n",
       "\n",
       "     MoSold YrSold  SaleType  SaleCondition  SalePrice  \n",
       "0         6   2010        WD         Normal  122656.58  \n",
       "1         6   2010        WD         Normal  156789.00  \n",
       "2         3   2010        WD         Normal  182959.00  \n",
       "3         6   2010        WD         Normal  178102.00  \n",
       "4         1   2010        WD         Normal  189049.48  \n",
       "...     ...    ...       ...            ...        ...  \n",
       "1454      6   2006        WD         Normal   83645.00  \n",
       "1455      4   2006        WD        Abnorml   86785.00  \n",
       "1456      9   2006        WD        Abnorml  151283.01  \n",
       "1457      7   2006        WD         Normal  127878.00  \n",
       "1458     11   2006        WD         Normal  225959.80  \n",
       "\n",
       "[1459 rows x 81 columns]"
      ]
     },
     "execution_count": 19,
     "metadata": {},
     "output_type": "execute_result"
    }
   ],
   "source": [
    "data_finish=test.merge(data_sale,on='Id',how='left')\n",
    "data_finish"
   ]
  },
  {
   "cell_type": "code",
   "execution_count": null,
   "id": "83b4850b",
   "metadata": {
    "papermill": {
     "duration": 0.032496,
     "end_time": "2022-02-12T03:57:37.144880",
     "exception": false,
     "start_time": "2022-02-12T03:57:37.112384",
     "status": "completed"
    },
    "tags": []
   },
   "outputs": [],
   "source": []
  }
 ],
 "metadata": {
  "kernelspec": {
   "display_name": "Python 3",
   "language": "python",
   "name": "python3"
  },
  "language_info": {
   "codemirror_mode": {
    "name": "ipython",
    "version": 3
   },
   "file_extension": ".py",
   "mimetype": "text/x-python",
   "name": "python",
   "nbconvert_exporter": "python",
   "pygments_lexer": "ipython3",
   "version": "3.7.12"
  },
  "papermill": {
   "default_parameters": {},
   "duration": 22.623287,
   "end_time": "2022-02-12T03:57:37.889147",
   "environment_variables": {},
   "exception": null,
   "input_path": "__notebook__.ipynb",
   "output_path": "__notebook__.ipynb",
   "parameters": {},
   "start_time": "2022-02-12T03:57:15.265860",
   "version": "2.3.3"
  }
 },
 "nbformat": 4,
 "nbformat_minor": 5
}
