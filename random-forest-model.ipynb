{
 "cells": [
  {
   "cell_type": "code",
   "execution_count": 1,
   "id": "2ffe3df1",
   "metadata": {
    "_cell_guid": "b1076dfc-b9ad-4769-8c92-a6c4dae69d19",
    "_uuid": "8f2839f25d086af736a60e9eeb907d3b93b6e0e5",
    "execution": {
     "iopub.execute_input": "2022-02-12T05:17:33.829426Z",
     "iopub.status.busy": "2022-02-12T05:17:33.828277Z",
     "iopub.status.idle": "2022-02-12T05:17:33.851694Z",
     "shell.execute_reply": "2022-02-12T05:17:33.852205Z",
     "shell.execute_reply.started": "2022-02-12T05:05:25.969637Z"
    },
    "papermill": {
     "duration": 0.04651,
     "end_time": "2022-02-12T05:17:33.852536",
     "exception": false,
     "start_time": "2022-02-12T05:17:33.806026",
     "status": "completed"
    },
    "tags": []
   },
   "outputs": [
    {
     "name": "stdout",
     "output_type": "stream",
     "text": [
      "/kaggle/input/home-data-for-ml-course/sample_submission.csv\n",
      "/kaggle/input/home-data-for-ml-course/train.csv\n",
      "/kaggle/input/home-data-for-ml-course/test.csv\n"
     ]
    }
   ],
   "source": [
    "# This Python 3 environment comes with many helpful analytics libraries installed\n",
    "# It is defined by the kaggle/python Docker image: https://github.com/kaggle/docker-python\n",
    "# For example, here's several helpful packages to load\n",
    "\n",
    "import numpy as np # linear algebra\n",
    "import pandas as pd # data processing, CSV file I/O (e.g. pd.read_csv)\n",
    "\n",
    "# Input data files are available in the read-only \"../input/\" directory\n",
    "# For example, running this (by clicking run or pressing Shift+Enter) will list all files under the input directory\n",
    "\n",
    "import os\n",
    "for dirname, _, filenames in os.walk('/kaggle/input'):\n",
    "    for filename in filenames:\n",
    "        print(os.path.join(dirname, filename))\n",
    "\n",
    "# You can write up to 20GB to the current directory (/kaggle/working/) that gets preserved as output when you create a version using \"Save & Run All\" \n",
    "# You can also write temporary files to /kaggle/temp/, but they won't be saved outside of the current session"
   ]
  },
  {
   "cell_type": "code",
   "execution_count": 2,
   "id": "3e47acb0",
   "metadata": {
    "execution": {
     "iopub.execute_input": "2022-02-12T05:17:33.893265Z",
     "iopub.status.busy": "2022-02-12T05:17:33.892598Z",
     "iopub.status.idle": "2022-02-12T05:17:35.327661Z",
     "shell.execute_reply": "2022-02-12T05:17:35.326827Z",
     "shell.execute_reply.started": "2022-02-12T05:05:25.987726Z"
    },
    "papermill": {
     "duration": 1.455271,
     "end_time": "2022-02-12T05:17:35.327828",
     "exception": false,
     "start_time": "2022-02-12T05:17:33.872557",
     "status": "completed"
    },
    "tags": []
   },
   "outputs": [],
   "source": [
    "import pandas as pd \n",
    "import numpy as np\n",
    "import matplotlib.pyplot as plt\n",
    "import seaborn as sns\n",
    "from sklearn.tree import DecisionTreeRegressor\n",
    "from sklearn.ensemble import RandomForestRegressor\n",
    "from sklearn.model_selection import train_test_split\n",
    "from sklearn.metrics import mean_absolute_error"
   ]
  },
  {
   "cell_type": "code",
   "execution_count": 3,
   "id": "13e8fcdc",
   "metadata": {
    "execution": {
     "iopub.execute_input": "2022-02-12T05:17:35.370623Z",
     "iopub.status.busy": "2022-02-12T05:17:35.369828Z",
     "iopub.status.idle": "2022-02-12T05:17:35.419205Z",
     "shell.execute_reply": "2022-02-12T05:17:35.418618Z",
     "shell.execute_reply.started": "2022-02-12T05:05:26.001668Z"
    },
    "papermill": {
     "duration": 0.073046,
     "end_time": "2022-02-12T05:17:35.419384",
     "exception": false,
     "start_time": "2022-02-12T05:17:35.346338",
     "status": "completed"
    },
    "tags": []
   },
   "outputs": [],
   "source": [
    "df=pd.read_csv('../input/home-data-for-ml-course/train.csv')\n",
    "feature=['LotArea', 'YearBuilt', '1stFlrSF', '2ndFlrSF', 'FullBath', 'BedroomAbvGr', 'TotRmsAbvGrd']\n",
    "X=df[feature].copy()\n",
    "y=df.SalePrice.copy()"
   ]
  },
  {
   "cell_type": "code",
   "execution_count": 4,
   "id": "e442faba",
   "metadata": {
    "execution": {
     "iopub.execute_input": "2022-02-12T05:17:35.464107Z",
     "iopub.status.busy": "2022-02-12T05:17:35.463120Z",
     "iopub.status.idle": "2022-02-12T05:17:35.467196Z",
     "shell.execute_reply": "2022-02-12T05:17:35.467657Z",
     "shell.execute_reply.started": "2022-02-12T05:05:26.064084Z"
    },
    "papermill": {
     "duration": 0.030259,
     "end_time": "2022-02-12T05:17:35.467856",
     "exception": false,
     "start_time": "2022-02-12T05:17:35.437597",
     "status": "completed"
    },
    "tags": []
   },
   "outputs": [
    {
     "data": {
      "text/plain": [
       "(1460, 7)"
      ]
     },
     "execution_count": 4,
     "metadata": {},
     "output_type": "execute_result"
    }
   ],
   "source": [
    "X.shape"
   ]
  },
  {
   "cell_type": "code",
   "execution_count": 5,
   "id": "231d7fd7",
   "metadata": {
    "execution": {
     "iopub.execute_input": "2022-02-12T05:17:35.510621Z",
     "iopub.status.busy": "2022-02-12T05:17:35.509845Z",
     "iopub.status.idle": "2022-02-12T05:17:35.512558Z",
     "shell.execute_reply": "2022-02-12T05:17:35.513011Z",
     "shell.execute_reply.started": "2022-02-12T05:05:26.073255Z"
    },
    "papermill": {
     "duration": 0.026734,
     "end_time": "2022-02-12T05:17:35.513202",
     "exception": false,
     "start_time": "2022-02-12T05:17:35.486468",
     "status": "completed"
    },
    "tags": []
   },
   "outputs": [
    {
     "data": {
      "text/plain": [
       "(1460,)"
      ]
     },
     "execution_count": 5,
     "metadata": {},
     "output_type": "execute_result"
    }
   ],
   "source": [
    "y.shape"
   ]
  },
  {
   "cell_type": "code",
   "execution_count": 6,
   "id": "353c0240",
   "metadata": {
    "execution": {
     "iopub.execute_input": "2022-02-12T05:17:35.552816Z",
     "iopub.status.busy": "2022-02-12T05:17:35.552185Z",
     "iopub.status.idle": "2022-02-12T05:17:35.559791Z",
     "shell.execute_reply": "2022-02-12T05:17:35.559170Z",
     "shell.execute_reply.started": "2022-02-12T05:05:26.092326Z"
    },
    "papermill": {
     "duration": 0.028536,
     "end_time": "2022-02-12T05:17:35.559946",
     "exception": false,
     "start_time": "2022-02-12T05:17:35.531410",
     "status": "completed"
    },
    "tags": []
   },
   "outputs": [
    {
     "data": {
      "text/plain": [
       "LotArea         0\n",
       "YearBuilt       0\n",
       "1stFlrSF        0\n",
       "2ndFlrSF        0\n",
       "FullBath        0\n",
       "BedroomAbvGr    0\n",
       "TotRmsAbvGrd    0\n",
       "dtype: int64"
      ]
     },
     "execution_count": 6,
     "metadata": {},
     "output_type": "execute_result"
    }
   ],
   "source": [
    "X.isnull().sum()"
   ]
  },
  {
   "cell_type": "code",
   "execution_count": 7,
   "id": "9f12b86f",
   "metadata": {
    "execution": {
     "iopub.execute_input": "2022-02-12T05:17:35.608786Z",
     "iopub.status.busy": "2022-02-12T05:17:35.608095Z",
     "iopub.status.idle": "2022-02-12T05:17:35.634870Z",
     "shell.execute_reply": "2022-02-12T05:17:35.635347Z",
     "shell.execute_reply.started": "2022-02-12T05:05:26.113556Z"
    },
    "papermill": {
     "duration": 0.056839,
     "end_time": "2022-02-12T05:17:35.635543",
     "exception": false,
     "start_time": "2022-02-12T05:17:35.578704",
     "status": "completed"
    },
    "tags": []
   },
   "outputs": [
    {
     "data": {
      "text/html": [
       "<div>\n",
       "<style scoped>\n",
       "    .dataframe tbody tr th:only-of-type {\n",
       "        vertical-align: middle;\n",
       "    }\n",
       "\n",
       "    .dataframe tbody tr th {\n",
       "        vertical-align: top;\n",
       "    }\n",
       "\n",
       "    .dataframe thead th {\n",
       "        text-align: right;\n",
       "    }\n",
       "</style>\n",
       "<table border=\"1\" class=\"dataframe\">\n",
       "  <thead>\n",
       "    <tr style=\"text-align: right;\">\n",
       "      <th></th>\n",
       "      <th>LotArea</th>\n",
       "      <th>YearBuilt</th>\n",
       "      <th>1stFlrSF</th>\n",
       "      <th>2ndFlrSF</th>\n",
       "      <th>FullBath</th>\n",
       "      <th>BedroomAbvGr</th>\n",
       "      <th>TotRmsAbvGrd</th>\n",
       "    </tr>\n",
       "  </thead>\n",
       "  <tbody>\n",
       "    <tr>\n",
       "      <th>count</th>\n",
       "      <td>1460.000000</td>\n",
       "      <td>1460.000000</td>\n",
       "      <td>1460.000000</td>\n",
       "      <td>1460.000000</td>\n",
       "      <td>1460.000000</td>\n",
       "      <td>1460.000000</td>\n",
       "      <td>1460.000000</td>\n",
       "    </tr>\n",
       "    <tr>\n",
       "      <th>mean</th>\n",
       "      <td>10516.828082</td>\n",
       "      <td>1971.267808</td>\n",
       "      <td>1162.626712</td>\n",
       "      <td>346.992466</td>\n",
       "      <td>1.565068</td>\n",
       "      <td>2.866438</td>\n",
       "      <td>6.517808</td>\n",
       "    </tr>\n",
       "    <tr>\n",
       "      <th>std</th>\n",
       "      <td>9981.264932</td>\n",
       "      <td>30.202904</td>\n",
       "      <td>386.587738</td>\n",
       "      <td>436.528436</td>\n",
       "      <td>0.550916</td>\n",
       "      <td>0.815778</td>\n",
       "      <td>1.625393</td>\n",
       "    </tr>\n",
       "    <tr>\n",
       "      <th>min</th>\n",
       "      <td>1300.000000</td>\n",
       "      <td>1872.000000</td>\n",
       "      <td>334.000000</td>\n",
       "      <td>0.000000</td>\n",
       "      <td>0.000000</td>\n",
       "      <td>0.000000</td>\n",
       "      <td>2.000000</td>\n",
       "    </tr>\n",
       "    <tr>\n",
       "      <th>25%</th>\n",
       "      <td>7553.500000</td>\n",
       "      <td>1954.000000</td>\n",
       "      <td>882.000000</td>\n",
       "      <td>0.000000</td>\n",
       "      <td>1.000000</td>\n",
       "      <td>2.000000</td>\n",
       "      <td>5.000000</td>\n",
       "    </tr>\n",
       "    <tr>\n",
       "      <th>50%</th>\n",
       "      <td>9478.500000</td>\n",
       "      <td>1973.000000</td>\n",
       "      <td>1087.000000</td>\n",
       "      <td>0.000000</td>\n",
       "      <td>2.000000</td>\n",
       "      <td>3.000000</td>\n",
       "      <td>6.000000</td>\n",
       "    </tr>\n",
       "    <tr>\n",
       "      <th>75%</th>\n",
       "      <td>11601.500000</td>\n",
       "      <td>2000.000000</td>\n",
       "      <td>1391.250000</td>\n",
       "      <td>728.000000</td>\n",
       "      <td>2.000000</td>\n",
       "      <td>3.000000</td>\n",
       "      <td>7.000000</td>\n",
       "    </tr>\n",
       "    <tr>\n",
       "      <th>max</th>\n",
       "      <td>215245.000000</td>\n",
       "      <td>2010.000000</td>\n",
       "      <td>4692.000000</td>\n",
       "      <td>2065.000000</td>\n",
       "      <td>3.000000</td>\n",
       "      <td>8.000000</td>\n",
       "      <td>14.000000</td>\n",
       "    </tr>\n",
       "  </tbody>\n",
       "</table>\n",
       "</div>"
      ],
      "text/plain": [
       "             LotArea    YearBuilt     1stFlrSF     2ndFlrSF     FullBath  \\\n",
       "count    1460.000000  1460.000000  1460.000000  1460.000000  1460.000000   \n",
       "mean    10516.828082  1971.267808  1162.626712   346.992466     1.565068   \n",
       "std      9981.264932    30.202904   386.587738   436.528436     0.550916   \n",
       "min      1300.000000  1872.000000   334.000000     0.000000     0.000000   \n",
       "25%      7553.500000  1954.000000   882.000000     0.000000     1.000000   \n",
       "50%      9478.500000  1973.000000  1087.000000     0.000000     2.000000   \n",
       "75%     11601.500000  2000.000000  1391.250000   728.000000     2.000000   \n",
       "max    215245.000000  2010.000000  4692.000000  2065.000000     3.000000   \n",
       "\n",
       "       BedroomAbvGr  TotRmsAbvGrd  \n",
       "count   1460.000000   1460.000000  \n",
       "mean       2.866438      6.517808  \n",
       "std        0.815778      1.625393  \n",
       "min        0.000000      2.000000  \n",
       "25%        2.000000      5.000000  \n",
       "50%        3.000000      6.000000  \n",
       "75%        3.000000      7.000000  \n",
       "max        8.000000     14.000000  "
      ]
     },
     "execution_count": 7,
     "metadata": {},
     "output_type": "execute_result"
    }
   ],
   "source": [
    "X.describe()"
   ]
  },
  {
   "cell_type": "code",
   "execution_count": 8,
   "id": "47089488",
   "metadata": {
    "execution": {
     "iopub.execute_input": "2022-02-12T05:17:35.679853Z",
     "iopub.status.busy": "2022-02-12T05:17:35.679208Z",
     "iopub.status.idle": "2022-02-12T05:17:35.683531Z",
     "shell.execute_reply": "2022-02-12T05:17:35.683024Z",
     "shell.execute_reply.started": "2022-02-12T05:05:26.165486Z"
    },
    "papermill": {
     "duration": 0.028193,
     "end_time": "2022-02-12T05:17:35.683683",
     "exception": false,
     "start_time": "2022-02-12T05:17:35.655490",
     "status": "completed"
    },
    "tags": []
   },
   "outputs": [],
   "source": [
    "X_tr,X_t,y_tr,y_t=train_test_split(X,y,test_size=0.3,random_state=1)"
   ]
  },
  {
   "cell_type": "code",
   "execution_count": 9,
   "id": "d91be789",
   "metadata": {
    "execution": {
     "iopub.execute_input": "2022-02-12T05:17:35.726189Z",
     "iopub.status.busy": "2022-02-12T05:17:35.725466Z",
     "iopub.status.idle": "2022-02-12T05:17:35.728268Z",
     "shell.execute_reply": "2022-02-12T05:17:35.727643Z",
     "shell.execute_reply.started": "2022-02-12T05:05:26.175837Z"
    },
    "papermill": {
     "duration": 0.025633,
     "end_time": "2022-02-12T05:17:35.728428",
     "exception": false,
     "start_time": "2022-02-12T05:17:35.702795",
     "status": "completed"
    },
    "tags": []
   },
   "outputs": [],
   "source": [
    "model=DecisionTreeRegressor(random_state=1)"
   ]
  },
  {
   "cell_type": "code",
   "execution_count": 10,
   "id": "f05cbbbd",
   "metadata": {
    "execution": {
     "iopub.execute_input": "2022-02-12T05:17:35.777225Z",
     "iopub.status.busy": "2022-02-12T05:17:35.776550Z",
     "iopub.status.idle": "2022-02-12T05:17:35.786600Z",
     "shell.execute_reply": "2022-02-12T05:17:35.786058Z",
     "shell.execute_reply.started": "2022-02-12T05:05:26.194698Z"
    },
    "papermill": {
     "duration": 0.039234,
     "end_time": "2022-02-12T05:17:35.786737",
     "exception": false,
     "start_time": "2022-02-12T05:17:35.747503",
     "status": "completed"
    },
    "tags": []
   },
   "outputs": [
    {
     "data": {
      "text/plain": [
       "31392.527397260274"
      ]
     },
     "execution_count": 10,
     "metadata": {},
     "output_type": "execute_result"
    }
   ],
   "source": [
    "model.fit(X_tr,y_tr)\n",
    "prediction=model.predict(X_t)\n",
    "mae=mean_absolute_error(prediction,y_t)\n",
    "mae"
   ]
  },
  {
   "cell_type": "code",
   "execution_count": 11,
   "id": "bd2dc85c",
   "metadata": {
    "execution": {
     "iopub.execute_input": "2022-02-12T05:17:35.831984Z",
     "iopub.status.busy": "2022-02-12T05:17:35.831299Z",
     "iopub.status.idle": "2022-02-12T05:17:35.832917Z",
     "shell.execute_reply": "2022-02-12T05:17:35.833498Z",
     "shell.execute_reply.started": "2022-02-12T05:05:26.221670Z"
    },
    "papermill": {
     "duration": 0.026458,
     "end_time": "2022-02-12T05:17:35.833666",
     "exception": false,
     "start_time": "2022-02-12T05:17:35.807208",
     "status": "completed"
    },
    "tags": []
   },
   "outputs": [],
   "source": [
    "def model_select_node(Xtr,Xt,ytr,yt,node,rand):\n",
    "    model=DecisionTreeRegressor(max_leaf_nodes=node,random_state=rand)\n",
    "    model.fit(Xtr,ytr)\n",
    "    pred=model.predict(Xt)\n",
    "    mae=mean_absolute_error(pred,yt)\n",
    "    return mae\n",
    "\n"
   ]
  },
  {
   "cell_type": "code",
   "execution_count": 12,
   "id": "7b231eab",
   "metadata": {
    "execution": {
     "iopub.execute_input": "2022-02-12T05:17:35.874912Z",
     "iopub.status.busy": "2022-02-12T05:17:35.874319Z",
     "iopub.status.idle": "2022-02-12T05:17:42.763631Z",
     "shell.execute_reply": "2022-02-12T05:17:42.764395Z",
     "shell.execute_reply.started": "2022-02-12T05:05:26.229660Z"
    },
    "papermill": {
     "duration": 6.912128,
     "end_time": "2022-02-12T05:17:42.764671",
     "exception": false,
     "start_time": "2022-02-12T05:17:35.852543",
     "status": "completed"
    },
    "tags": []
   },
   "outputs": [
    {
     "name": "stdout",
     "output_type": "stream",
     "text": [
      "the best size of node is 43 and has score 28524.28455264335\n"
     ]
    }
   ],
   "source": [
    "node=range(2,1000)\n",
    "score={node:model_select_node(X_tr,X_t,y_tr,y_t,node,1) for node in node}\n",
    "best_score=min(score,key=score.get)\n",
    "print(\"the best size of node is {} and has score {}\".format(best_score,score[best_score]))"
   ]
  },
  {
   "cell_type": "code",
   "execution_count": 13,
   "id": "67088f6c",
   "metadata": {
    "execution": {
     "iopub.execute_input": "2022-02-12T05:17:42.808393Z",
     "iopub.status.busy": "2022-02-12T05:17:42.807761Z",
     "iopub.status.idle": "2022-02-12T05:17:43.219756Z",
     "shell.execute_reply": "2022-02-12T05:17:43.220258Z",
     "shell.execute_reply.started": "2022-02-12T05:05:33.904213Z"
    },
    "papermill": {
     "duration": 0.434993,
     "end_time": "2022-02-12T05:17:43.220448",
     "exception": false,
     "start_time": "2022-02-12T05:17:42.785455",
     "status": "completed"
    },
    "tags": []
   },
   "outputs": [
    {
     "data": {
      "text/plain": [
       "23091.682766905844"
      ]
     },
     "execution_count": 13,
     "metadata": {},
     "output_type": "execute_result"
    }
   ],
   "source": [
    "model_random=RandomForestRegressor(random_state=1)\n",
    "model_random.fit(X_tr,y_tr)\n",
    "prediction=model_random.predict(X_t)\n",
    "mae=mean_absolute_error(prediction,y_t)\n",
    "mae"
   ]
  },
  {
   "cell_type": "code",
   "execution_count": 14,
   "id": "0e1fd12d",
   "metadata": {
    "execution": {
     "iopub.execute_input": "2022-02-12T05:17:43.264308Z",
     "iopub.status.busy": "2022-02-12T05:17:43.263671Z",
     "iopub.status.idle": "2022-02-12T05:17:43.796065Z",
     "shell.execute_reply": "2022-02-12T05:17:43.796542Z",
     "shell.execute_reply.started": "2022-02-12T05:05:34.366683Z"
    },
    "papermill": {
     "duration": 0.55611,
     "end_time": "2022-02-12T05:17:43.796725",
     "exception": false,
     "start_time": "2022-02-12T05:17:43.240615",
     "status": "completed"
    },
    "tags": []
   },
   "outputs": [
    {
     "data": {
      "text/plain": [
       "RandomForestRegressor(random_state=1)"
      ]
     },
     "execution_count": 14,
     "metadata": {},
     "output_type": "execute_result"
    }
   ],
   "source": [
    "model_final=RandomForestRegressor(random_state=1)\n",
    "model_final.fit(X,y)"
   ]
  },
  {
   "cell_type": "code",
   "execution_count": 15,
   "id": "08332c87",
   "metadata": {
    "execution": {
     "iopub.execute_input": "2022-02-12T05:17:43.840037Z",
     "iopub.status.busy": "2022-02-12T05:17:43.839174Z",
     "iopub.status.idle": "2022-02-12T05:17:43.873855Z",
     "shell.execute_reply": "2022-02-12T05:17:43.874340Z",
     "shell.execute_reply.started": "2022-02-12T05:05:34.968413Z"
    },
    "papermill": {
     "duration": 0.057899,
     "end_time": "2022-02-12T05:17:43.874521",
     "exception": false,
     "start_time": "2022-02-12T05:17:43.816622",
     "status": "completed"
    },
    "tags": []
   },
   "outputs": [],
   "source": [
    "test=pd.read_csv('../input/home-data-for-ml-course/test.csv')"
   ]
  },
  {
   "cell_type": "code",
   "execution_count": 16,
   "id": "a8b9b8f0",
   "metadata": {
    "execution": {
     "iopub.execute_input": "2022-02-12T05:17:43.917713Z",
     "iopub.status.busy": "2022-02-12T05:17:43.916816Z",
     "iopub.status.idle": "2022-02-12T05:17:43.954575Z",
     "shell.execute_reply": "2022-02-12T05:17:43.955065Z",
     "shell.execute_reply.started": "2022-02-12T05:05:35.015422Z"
    },
    "papermill": {
     "duration": 0.060851,
     "end_time": "2022-02-12T05:17:43.955336",
     "exception": false,
     "start_time": "2022-02-12T05:17:43.894485",
     "status": "completed"
    },
    "tags": []
   },
   "outputs": [
    {
     "data": {
      "text/plain": [
       "array([122656.58, 156789.  , 182959.  , ..., 151283.01, 127878.  ,\n",
       "       225959.8 ])"
      ]
     },
     "execution_count": 16,
     "metadata": {},
     "output_type": "execute_result"
    }
   ],
   "source": [
    "test_data=test[feature]\n",
    "prediction=model_final.predict(test_data)\n",
    "prediction"
   ]
  },
  {
   "cell_type": "code",
   "execution_count": 17,
   "id": "3201bcc7",
   "metadata": {
    "execution": {
     "iopub.execute_input": "2022-02-12T05:17:44.009272Z",
     "iopub.status.busy": "2022-02-12T05:17:44.008582Z",
     "iopub.status.idle": "2022-02-12T05:17:44.010168Z",
     "shell.execute_reply": "2022-02-12T05:17:44.010570Z",
     "shell.execute_reply.started": "2022-02-12T05:05:35.064286Z"
    },
    "papermill": {
     "duration": 0.029534,
     "end_time": "2022-02-12T05:17:44.010764",
     "exception": false,
     "start_time": "2022-02-12T05:17:43.981230",
     "status": "completed"
    },
    "tags": []
   },
   "outputs": [],
   "source": [
    "data_sale=pd.DataFrame({'Id':test.Id,'SalePrice':prediction})"
   ]
  },
  {
   "cell_type": "code",
   "execution_count": 18,
   "id": "72b30759",
   "metadata": {
    "execution": {
     "iopub.execute_input": "2022-02-12T05:17:44.058771Z",
     "iopub.status.busy": "2022-02-12T05:17:44.058147Z",
     "iopub.status.idle": "2022-02-12T05:17:44.066231Z",
     "shell.execute_reply": "2022-02-12T05:17:44.065722Z",
     "shell.execute_reply.started": "2022-02-12T05:05:35.072769Z"
    },
    "papermill": {
     "duration": 0.033698,
     "end_time": "2022-02-12T05:17:44.066392",
     "exception": false,
     "start_time": "2022-02-12T05:17:44.032694",
     "status": "completed"
    },
    "tags": []
   },
   "outputs": [
    {
     "data": {
      "text/html": [
       "<div>\n",
       "<style scoped>\n",
       "    .dataframe tbody tr th:only-of-type {\n",
       "        vertical-align: middle;\n",
       "    }\n",
       "\n",
       "    .dataframe tbody tr th {\n",
       "        vertical-align: top;\n",
       "    }\n",
       "\n",
       "    .dataframe thead th {\n",
       "        text-align: right;\n",
       "    }\n",
       "</style>\n",
       "<table border=\"1\" class=\"dataframe\">\n",
       "  <thead>\n",
       "    <tr style=\"text-align: right;\">\n",
       "      <th></th>\n",
       "      <th>Id</th>\n",
       "      <th>SalePrice</th>\n",
       "    </tr>\n",
       "  </thead>\n",
       "  <tbody>\n",
       "    <tr>\n",
       "      <th>0</th>\n",
       "      <td>1461</td>\n",
       "      <td>122656.58</td>\n",
       "    </tr>\n",
       "    <tr>\n",
       "      <th>1</th>\n",
       "      <td>1462</td>\n",
       "      <td>156789.00</td>\n",
       "    </tr>\n",
       "    <tr>\n",
       "      <th>2</th>\n",
       "      <td>1463</td>\n",
       "      <td>182959.00</td>\n",
       "    </tr>\n",
       "    <tr>\n",
       "      <th>3</th>\n",
       "      <td>1464</td>\n",
       "      <td>178102.00</td>\n",
       "    </tr>\n",
       "    <tr>\n",
       "      <th>4</th>\n",
       "      <td>1465</td>\n",
       "      <td>189049.48</td>\n",
       "    </tr>\n",
       "    <tr>\n",
       "      <th>...</th>\n",
       "      <td>...</td>\n",
       "      <td>...</td>\n",
       "    </tr>\n",
       "    <tr>\n",
       "      <th>1454</th>\n",
       "      <td>2915</td>\n",
       "      <td>83645.00</td>\n",
       "    </tr>\n",
       "    <tr>\n",
       "      <th>1455</th>\n",
       "      <td>2916</td>\n",
       "      <td>86785.00</td>\n",
       "    </tr>\n",
       "    <tr>\n",
       "      <th>1456</th>\n",
       "      <td>2917</td>\n",
       "      <td>151283.01</td>\n",
       "    </tr>\n",
       "    <tr>\n",
       "      <th>1457</th>\n",
       "      <td>2918</td>\n",
       "      <td>127878.00</td>\n",
       "    </tr>\n",
       "    <tr>\n",
       "      <th>1458</th>\n",
       "      <td>2919</td>\n",
       "      <td>225959.80</td>\n",
       "    </tr>\n",
       "  </tbody>\n",
       "</table>\n",
       "<p>1459 rows × 2 columns</p>\n",
       "</div>"
      ],
      "text/plain": [
       "        Id  SalePrice\n",
       "0     1461  122656.58\n",
       "1     1462  156789.00\n",
       "2     1463  182959.00\n",
       "3     1464  178102.00\n",
       "4     1465  189049.48\n",
       "...    ...        ...\n",
       "1454  2915   83645.00\n",
       "1455  2916   86785.00\n",
       "1456  2917  151283.01\n",
       "1457  2918  127878.00\n",
       "1458  2919  225959.80\n",
       "\n",
       "[1459 rows x 2 columns]"
      ]
     },
     "execution_count": 18,
     "metadata": {},
     "output_type": "execute_result"
    }
   ],
   "source": [
    "data_sale"
   ]
  },
  {
   "cell_type": "code",
   "execution_count": 19,
   "id": "2218ce13",
   "metadata": {
    "execution": {
     "iopub.execute_input": "2022-02-12T05:17:44.116202Z",
     "iopub.status.busy": "2022-02-12T05:17:44.111789Z",
     "iopub.status.idle": "2022-02-12T05:17:44.159891Z",
     "shell.execute_reply": "2022-02-12T05:17:44.160403Z",
     "shell.execute_reply.started": "2022-02-12T05:05:35.098652Z"
    },
    "papermill": {
     "duration": 0.072791,
     "end_time": "2022-02-12T05:17:44.160599",
     "exception": false,
     "start_time": "2022-02-12T05:17:44.087808",
     "status": "completed"
    },
    "tags": []
   },
   "outputs": [
    {
     "data": {
      "text/html": [
       "<div>\n",
       "<style scoped>\n",
       "    .dataframe tbody tr th:only-of-type {\n",
       "        vertical-align: middle;\n",
       "    }\n",
       "\n",
       "    .dataframe tbody tr th {\n",
       "        vertical-align: top;\n",
       "    }\n",
       "\n",
       "    .dataframe thead th {\n",
       "        text-align: right;\n",
       "    }\n",
       "</style>\n",
       "<table border=\"1\" class=\"dataframe\">\n",
       "  <thead>\n",
       "    <tr style=\"text-align: right;\">\n",
       "      <th></th>\n",
       "      <th>Id</th>\n",
       "      <th>MSSubClass</th>\n",
       "      <th>MSZoning</th>\n",
       "      <th>LotFrontage</th>\n",
       "      <th>LotArea</th>\n",
       "      <th>Street</th>\n",
       "      <th>Alley</th>\n",
       "      <th>LotShape</th>\n",
       "      <th>LandContour</th>\n",
       "      <th>Utilities</th>\n",
       "      <th>...</th>\n",
       "      <th>PoolArea</th>\n",
       "      <th>PoolQC</th>\n",
       "      <th>Fence</th>\n",
       "      <th>MiscFeature</th>\n",
       "      <th>MiscVal</th>\n",
       "      <th>MoSold</th>\n",
       "      <th>YrSold</th>\n",
       "      <th>SaleType</th>\n",
       "      <th>SaleCondition</th>\n",
       "      <th>SalePrice</th>\n",
       "    </tr>\n",
       "  </thead>\n",
       "  <tbody>\n",
       "    <tr>\n",
       "      <th>0</th>\n",
       "      <td>1461</td>\n",
       "      <td>20</td>\n",
       "      <td>RH</td>\n",
       "      <td>80.0</td>\n",
       "      <td>11622</td>\n",
       "      <td>Pave</td>\n",
       "      <td>NaN</td>\n",
       "      <td>Reg</td>\n",
       "      <td>Lvl</td>\n",
       "      <td>AllPub</td>\n",
       "      <td>...</td>\n",
       "      <td>0</td>\n",
       "      <td>NaN</td>\n",
       "      <td>MnPrv</td>\n",
       "      <td>NaN</td>\n",
       "      <td>0</td>\n",
       "      <td>6</td>\n",
       "      <td>2010</td>\n",
       "      <td>WD</td>\n",
       "      <td>Normal</td>\n",
       "      <td>122656.58</td>\n",
       "    </tr>\n",
       "    <tr>\n",
       "      <th>1</th>\n",
       "      <td>1462</td>\n",
       "      <td>20</td>\n",
       "      <td>RL</td>\n",
       "      <td>81.0</td>\n",
       "      <td>14267</td>\n",
       "      <td>Pave</td>\n",
       "      <td>NaN</td>\n",
       "      <td>IR1</td>\n",
       "      <td>Lvl</td>\n",
       "      <td>AllPub</td>\n",
       "      <td>...</td>\n",
       "      <td>0</td>\n",
       "      <td>NaN</td>\n",
       "      <td>NaN</td>\n",
       "      <td>Gar2</td>\n",
       "      <td>12500</td>\n",
       "      <td>6</td>\n",
       "      <td>2010</td>\n",
       "      <td>WD</td>\n",
       "      <td>Normal</td>\n",
       "      <td>156789.00</td>\n",
       "    </tr>\n",
       "    <tr>\n",
       "      <th>2</th>\n",
       "      <td>1463</td>\n",
       "      <td>60</td>\n",
       "      <td>RL</td>\n",
       "      <td>74.0</td>\n",
       "      <td>13830</td>\n",
       "      <td>Pave</td>\n",
       "      <td>NaN</td>\n",
       "      <td>IR1</td>\n",
       "      <td>Lvl</td>\n",
       "      <td>AllPub</td>\n",
       "      <td>...</td>\n",
       "      <td>0</td>\n",
       "      <td>NaN</td>\n",
       "      <td>MnPrv</td>\n",
       "      <td>NaN</td>\n",
       "      <td>0</td>\n",
       "      <td>3</td>\n",
       "      <td>2010</td>\n",
       "      <td>WD</td>\n",
       "      <td>Normal</td>\n",
       "      <td>182959.00</td>\n",
       "    </tr>\n",
       "    <tr>\n",
       "      <th>3</th>\n",
       "      <td>1464</td>\n",
       "      <td>60</td>\n",
       "      <td>RL</td>\n",
       "      <td>78.0</td>\n",
       "      <td>9978</td>\n",
       "      <td>Pave</td>\n",
       "      <td>NaN</td>\n",
       "      <td>IR1</td>\n",
       "      <td>Lvl</td>\n",
       "      <td>AllPub</td>\n",
       "      <td>...</td>\n",
       "      <td>0</td>\n",
       "      <td>NaN</td>\n",
       "      <td>NaN</td>\n",
       "      <td>NaN</td>\n",
       "      <td>0</td>\n",
       "      <td>6</td>\n",
       "      <td>2010</td>\n",
       "      <td>WD</td>\n",
       "      <td>Normal</td>\n",
       "      <td>178102.00</td>\n",
       "    </tr>\n",
       "    <tr>\n",
       "      <th>4</th>\n",
       "      <td>1465</td>\n",
       "      <td>120</td>\n",
       "      <td>RL</td>\n",
       "      <td>43.0</td>\n",
       "      <td>5005</td>\n",
       "      <td>Pave</td>\n",
       "      <td>NaN</td>\n",
       "      <td>IR1</td>\n",
       "      <td>HLS</td>\n",
       "      <td>AllPub</td>\n",
       "      <td>...</td>\n",
       "      <td>0</td>\n",
       "      <td>NaN</td>\n",
       "      <td>NaN</td>\n",
       "      <td>NaN</td>\n",
       "      <td>0</td>\n",
       "      <td>1</td>\n",
       "      <td>2010</td>\n",
       "      <td>WD</td>\n",
       "      <td>Normal</td>\n",
       "      <td>189049.48</td>\n",
       "    </tr>\n",
       "    <tr>\n",
       "      <th>...</th>\n",
       "      <td>...</td>\n",
       "      <td>...</td>\n",
       "      <td>...</td>\n",
       "      <td>...</td>\n",
       "      <td>...</td>\n",
       "      <td>...</td>\n",
       "      <td>...</td>\n",
       "      <td>...</td>\n",
       "      <td>...</td>\n",
       "      <td>...</td>\n",
       "      <td>...</td>\n",
       "      <td>...</td>\n",
       "      <td>...</td>\n",
       "      <td>...</td>\n",
       "      <td>...</td>\n",
       "      <td>...</td>\n",
       "      <td>...</td>\n",
       "      <td>...</td>\n",
       "      <td>...</td>\n",
       "      <td>...</td>\n",
       "      <td>...</td>\n",
       "    </tr>\n",
       "    <tr>\n",
       "      <th>1454</th>\n",
       "      <td>2915</td>\n",
       "      <td>160</td>\n",
       "      <td>RM</td>\n",
       "      <td>21.0</td>\n",
       "      <td>1936</td>\n",
       "      <td>Pave</td>\n",
       "      <td>NaN</td>\n",
       "      <td>Reg</td>\n",
       "      <td>Lvl</td>\n",
       "      <td>AllPub</td>\n",
       "      <td>...</td>\n",
       "      <td>0</td>\n",
       "      <td>NaN</td>\n",
       "      <td>NaN</td>\n",
       "      <td>NaN</td>\n",
       "      <td>0</td>\n",
       "      <td>6</td>\n",
       "      <td>2006</td>\n",
       "      <td>WD</td>\n",
       "      <td>Normal</td>\n",
       "      <td>83645.00</td>\n",
       "    </tr>\n",
       "    <tr>\n",
       "      <th>1455</th>\n",
       "      <td>2916</td>\n",
       "      <td>160</td>\n",
       "      <td>RM</td>\n",
       "      <td>21.0</td>\n",
       "      <td>1894</td>\n",
       "      <td>Pave</td>\n",
       "      <td>NaN</td>\n",
       "      <td>Reg</td>\n",
       "      <td>Lvl</td>\n",
       "      <td>AllPub</td>\n",
       "      <td>...</td>\n",
       "      <td>0</td>\n",
       "      <td>NaN</td>\n",
       "      <td>NaN</td>\n",
       "      <td>NaN</td>\n",
       "      <td>0</td>\n",
       "      <td>4</td>\n",
       "      <td>2006</td>\n",
       "      <td>WD</td>\n",
       "      <td>Abnorml</td>\n",
       "      <td>86785.00</td>\n",
       "    </tr>\n",
       "    <tr>\n",
       "      <th>1456</th>\n",
       "      <td>2917</td>\n",
       "      <td>20</td>\n",
       "      <td>RL</td>\n",
       "      <td>160.0</td>\n",
       "      <td>20000</td>\n",
       "      <td>Pave</td>\n",
       "      <td>NaN</td>\n",
       "      <td>Reg</td>\n",
       "      <td>Lvl</td>\n",
       "      <td>AllPub</td>\n",
       "      <td>...</td>\n",
       "      <td>0</td>\n",
       "      <td>NaN</td>\n",
       "      <td>NaN</td>\n",
       "      <td>NaN</td>\n",
       "      <td>0</td>\n",
       "      <td>9</td>\n",
       "      <td>2006</td>\n",
       "      <td>WD</td>\n",
       "      <td>Abnorml</td>\n",
       "      <td>151283.01</td>\n",
       "    </tr>\n",
       "    <tr>\n",
       "      <th>1457</th>\n",
       "      <td>2918</td>\n",
       "      <td>85</td>\n",
       "      <td>RL</td>\n",
       "      <td>62.0</td>\n",
       "      <td>10441</td>\n",
       "      <td>Pave</td>\n",
       "      <td>NaN</td>\n",
       "      <td>Reg</td>\n",
       "      <td>Lvl</td>\n",
       "      <td>AllPub</td>\n",
       "      <td>...</td>\n",
       "      <td>0</td>\n",
       "      <td>NaN</td>\n",
       "      <td>MnPrv</td>\n",
       "      <td>Shed</td>\n",
       "      <td>700</td>\n",
       "      <td>7</td>\n",
       "      <td>2006</td>\n",
       "      <td>WD</td>\n",
       "      <td>Normal</td>\n",
       "      <td>127878.00</td>\n",
       "    </tr>\n",
       "    <tr>\n",
       "      <th>1458</th>\n",
       "      <td>2919</td>\n",
       "      <td>60</td>\n",
       "      <td>RL</td>\n",
       "      <td>74.0</td>\n",
       "      <td>9627</td>\n",
       "      <td>Pave</td>\n",
       "      <td>NaN</td>\n",
       "      <td>Reg</td>\n",
       "      <td>Lvl</td>\n",
       "      <td>AllPub</td>\n",
       "      <td>...</td>\n",
       "      <td>0</td>\n",
       "      <td>NaN</td>\n",
       "      <td>NaN</td>\n",
       "      <td>NaN</td>\n",
       "      <td>0</td>\n",
       "      <td>11</td>\n",
       "      <td>2006</td>\n",
       "      <td>WD</td>\n",
       "      <td>Normal</td>\n",
       "      <td>225959.80</td>\n",
       "    </tr>\n",
       "  </tbody>\n",
       "</table>\n",
       "<p>1459 rows × 81 columns</p>\n",
       "</div>"
      ],
      "text/plain": [
       "        Id  MSSubClass MSZoning  LotFrontage  LotArea Street Alley LotShape  \\\n",
       "0     1461          20       RH         80.0    11622   Pave   NaN      Reg   \n",
       "1     1462          20       RL         81.0    14267   Pave   NaN      IR1   \n",
       "2     1463          60       RL         74.0    13830   Pave   NaN      IR1   \n",
       "3     1464          60       RL         78.0     9978   Pave   NaN      IR1   \n",
       "4     1465         120       RL         43.0     5005   Pave   NaN      IR1   \n",
       "...    ...         ...      ...          ...      ...    ...   ...      ...   \n",
       "1454  2915         160       RM         21.0     1936   Pave   NaN      Reg   \n",
       "1455  2916         160       RM         21.0     1894   Pave   NaN      Reg   \n",
       "1456  2917          20       RL        160.0    20000   Pave   NaN      Reg   \n",
       "1457  2918          85       RL         62.0    10441   Pave   NaN      Reg   \n",
       "1458  2919          60       RL         74.0     9627   Pave   NaN      Reg   \n",
       "\n",
       "     LandContour Utilities  ... PoolArea PoolQC  Fence MiscFeature MiscVal  \\\n",
       "0            Lvl    AllPub  ...        0    NaN  MnPrv         NaN       0   \n",
       "1            Lvl    AllPub  ...        0    NaN    NaN        Gar2   12500   \n",
       "2            Lvl    AllPub  ...        0    NaN  MnPrv         NaN       0   \n",
       "3            Lvl    AllPub  ...        0    NaN    NaN         NaN       0   \n",
       "4            HLS    AllPub  ...        0    NaN    NaN         NaN       0   \n",
       "...          ...       ...  ...      ...    ...    ...         ...     ...   \n",
       "1454         Lvl    AllPub  ...        0    NaN    NaN         NaN       0   \n",
       "1455         Lvl    AllPub  ...        0    NaN    NaN         NaN       0   \n",
       "1456         Lvl    AllPub  ...        0    NaN    NaN         NaN       0   \n",
       "1457         Lvl    AllPub  ...        0    NaN  MnPrv        Shed     700   \n",
       "1458         Lvl    AllPub  ...        0    NaN    NaN         NaN       0   \n",
       "\n",
       "     MoSold YrSold  SaleType  SaleCondition  SalePrice  \n",
       "0         6   2010        WD         Normal  122656.58  \n",
       "1         6   2010        WD         Normal  156789.00  \n",
       "2         3   2010        WD         Normal  182959.00  \n",
       "3         6   2010        WD         Normal  178102.00  \n",
       "4         1   2010        WD         Normal  189049.48  \n",
       "...     ...    ...       ...            ...        ...  \n",
       "1454      6   2006        WD         Normal   83645.00  \n",
       "1455      4   2006        WD        Abnorml   86785.00  \n",
       "1456      9   2006        WD        Abnorml  151283.01  \n",
       "1457      7   2006        WD         Normal  127878.00  \n",
       "1458     11   2006        WD         Normal  225959.80  \n",
       "\n",
       "[1459 rows x 81 columns]"
      ]
     },
     "execution_count": 19,
     "metadata": {},
     "output_type": "execute_result"
    }
   ],
   "source": [
    "data_finish=test.merge(data_sale,on='Id',how='left')\n",
    "data_finish"
   ]
  },
  {
   "cell_type": "code",
   "execution_count": 20,
   "id": "99ccdca9",
   "metadata": {
    "execution": {
     "iopub.execute_input": "2022-02-12T05:17:44.210461Z",
     "iopub.status.busy": "2022-02-12T05:17:44.209503Z",
     "iopub.status.idle": "2022-02-12T05:17:44.212277Z",
     "shell.execute_reply": "2022-02-12T05:17:44.211646Z",
     "shell.execute_reply.started": "2022-02-12T05:15:02.911949Z"
    },
    "papermill": {
     "duration": 0.029921,
     "end_time": "2022-02-12T05:17:44.212426",
     "exception": false,
     "start_time": "2022-02-12T05:17:44.182505",
     "status": "completed"
    },
    "tags": []
   },
   "outputs": [],
   "source": [
    "import warnings\n",
    "warnings.filterwarnings('ignore')"
   ]
  },
  {
   "cell_type": "code",
   "execution_count": 21,
   "id": "a92842ea",
   "metadata": {
    "execution": {
     "iopub.execute_input": "2022-02-12T05:17:44.265538Z",
     "iopub.status.busy": "2022-02-12T05:17:44.264609Z",
     "iopub.status.idle": "2022-02-12T05:17:48.550788Z",
     "shell.execute_reply": "2022-02-12T05:17:48.549839Z",
     "shell.execute_reply.started": "2022-02-12T05:16:34.348297Z"
    },
    "papermill": {
     "duration": 4.316638,
     "end_time": "2022-02-12T05:17:48.551017",
     "exception": false,
     "start_time": "2022-02-12T05:17:44.234379",
     "status": "completed"
    },
    "tags": []
   },
   "outputs": [
    {
     "name": "stdout",
     "output_type": "stream",
     "text": [
      "Model 1 MAE 23085.54\n",
      "Model 2 MAE 23047.98\n",
      "Model 3 MAE 23221.4\n",
      "Model 4 MAE 23115.04\n",
      "Model 5 MAE 23526.01\n"
     ]
    }
   ],
   "source": [
    "model_1=RandomForestRegressor(n_estimators=50,random_state=0)\n",
    "model_2=RandomForestRegressor(n_estimators=100,random_state=0)\n",
    "model_3=RandomForestRegressor(n_estimators=100,criterion='mae',random_state=0)\n",
    "model_4=RandomForestRegressor(n_estimators=200,min_impurity_split=20,random_state=0)\n",
    "model_5=RandomForestRegressor(n_estimators=100,max_depth=7,random_state=0)\n",
    "models=[model_1,model_2,model_3,model_4,model_5]\n",
    "def model_selection(model,a=X_tr,b=X_t,c=y_tr,d=y_t):\n",
    "    model.fit(X_tr,y_tr)\n",
    "    preds=model.predict(X_t)\n",
    "    return mean_absolute_error(preds,y_t)\n",
    "for i in range(0,len(models)):\n",
    "    mae=model_selection(models[i])\n",
    "    print('Model {} MAE {}'.format(i+1,round(mae,2)))\n",
    "    \n"
   ]
  },
  {
   "cell_type": "code",
   "execution_count": null,
   "id": "9884ed28",
   "metadata": {
    "papermill": {
     "duration": 0.022911,
     "end_time": "2022-02-12T05:17:48.598159",
     "exception": false,
     "start_time": "2022-02-12T05:17:48.575248",
     "status": "completed"
    },
    "tags": []
   },
   "outputs": [],
   "source": []
  }
 ],
 "metadata": {
  "kernelspec": {
   "display_name": "Python 3",
   "language": "python",
   "name": "python3"
  },
  "language_info": {
   "codemirror_mode": {
    "name": "ipython",
    "version": 3
   },
   "file_extension": ".py",
   "mimetype": "text/x-python",
   "name": "python",
   "nbconvert_exporter": "python",
   "pygments_lexer": "ipython3",
   "version": "3.7.12"
  },
  "papermill": {
   "default_parameters": {},
   "duration": 24.261215,
   "end_time": "2022-02-12T05:17:49.535133",
   "environment_variables": {},
   "exception": null,
   "input_path": "__notebook__.ipynb",
   "output_path": "__notebook__.ipynb",
   "parameters": {},
   "start_time": "2022-02-12T05:17:25.273918",
   "version": "2.3.3"
  }
 },
 "nbformat": 4,
 "nbformat_minor": 5
}
