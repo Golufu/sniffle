{
 "cells": [
  {
   "cell_type": "code",
   "execution_count": 1,
   "id": "5ad237bb",
   "metadata": {
    "_cell_guid": "b1076dfc-b9ad-4769-8c92-a6c4dae69d19",
    "_uuid": "8f2839f25d086af736a60e9eeb907d3b93b6e0e5",
    "execution": {
     "iopub.execute_input": "2022-02-11T18:35:32.544314Z",
     "iopub.status.busy": "2022-02-11T18:35:32.543601Z",
     "iopub.status.idle": "2022-02-11T18:35:32.558451Z",
     "shell.execute_reply": "2022-02-11T18:35:32.559000Z",
     "shell.execute_reply.started": "2022-02-11T17:37:07.688662Z"
    },
    "papermill": {
     "duration": 0.044473,
     "end_time": "2022-02-11T18:35:32.559354",
     "exception": false,
     "start_time": "2022-02-11T18:35:32.514881",
     "status": "completed"
    },
    "tags": []
   },
   "outputs": [
    {
     "name": "stdout",
     "output_type": "stream",
     "text": [
      "/kaggle/input/fe-course-data/spotify.csv\n",
      "/kaggle/input/fe-course-data/ames.csv\n",
      "/kaggle/input/fe-course-data/DataDocumentation.txt\n",
      "/kaggle/input/fe-course-data/movielens1m.csv\n",
      "/kaggle/input/fe-course-data/abalone.csv\n",
      "/kaggle/input/fe-course-data/concrete.csv\n",
      "/kaggle/input/fe-course-data/autos.csv\n",
      "/kaggle/input/fe-course-data/accidents.csv\n",
      "/kaggle/input/fe-course-data/customer.csv\n",
      "/kaggle/input/fe-course-data/caravan.csv\n",
      "/kaggle/input/fe-course-data/airbnb.csv\n",
      "/kaggle/input/fe-course-data/bike-sharing.csv\n",
      "/kaggle/input/fe-course-data/housing.csv\n"
     ]
    }
   ],
   "source": [
    "# This Python 3 environment comes with many helpful analytics libraries installed\n",
    "# It is defined by the kaggle/python Docker image: https://github.com/kaggle/docker-python\n",
    "# For example, here's several helpful packages to load\n",
    "\n",
    "import numpy as np # linear algebra\n",
    "import pandas as pd # data processing, CSV file I/O (e.g. pd.read_csv)\n",
    "\n",
    "# Input data files are available in the read-only \"../input/\" directory\n",
    "# For example, running this (by clicking run or pressing Shift+Enter) will list all files under the input directory\n",
    "\n",
    "import os\n",
    "for dirname, _, filenames in os.walk('/kaggle/input'):\n",
    "    for filename in filenames:\n",
    "        print(os.path.join(dirname, filename))\n",
    "\n",
    "# You can write up to 20GB to the current directory (/kaggle/working/) that gets preserved as output when you create a version using \"Save & Run All\" \n",
    "# You can also write temporary files to /kaggle/temp/, but they won't be saved outside of the current session"
   ]
  },
  {
   "cell_type": "code",
   "execution_count": 2,
   "id": "202bc990",
   "metadata": {
    "execution": {
     "iopub.execute_input": "2022-02-11T18:35:32.598524Z",
     "iopub.status.busy": "2022-02-11T18:35:32.597783Z",
     "iopub.status.idle": "2022-02-11T18:35:34.342979Z",
     "shell.execute_reply": "2022-02-11T18:35:34.343525Z",
     "shell.execute_reply.started": "2022-02-11T18:05:46.391375Z"
    },
    "papermill": {
     "duration": 1.765618,
     "end_time": "2022-02-11T18:35:34.343724",
     "exception": false,
     "start_time": "2022-02-11T18:35:32.578106",
     "status": "completed"
    },
    "tags": []
   },
   "outputs": [],
   "source": [
    "import matplotlib.pyplot as plt\n",
    "import pandas as pd\n",
    "import numpy as np\n",
    "import seaborn as sns\n",
    "import fuzzywuzzy\n",
    "from fuzzywuzzy import process\n",
    "from scipy import stats\n",
    "from mlxtend.preprocessing import minmax_scaling\n",
    "import chardet\n",
    "from sklearn.feature_selection import mutual_info_regression,mutual_info_classif\n",
    "%matplotlib inline\n",
    "%config InlineBacked.figure_format='retina'\n",
    "pd.set_option('display.max_columns',100)\n",
    "import warnings\n",
    "warnings.filterwarnings('ignore')"
   ]
  },
  {
   "cell_type": "code",
   "execution_count": 3,
   "id": "adb327bd",
   "metadata": {
    "execution": {
     "iopub.execute_input": "2022-02-11T18:35:34.383386Z",
     "iopub.status.busy": "2022-02-11T18:35:34.380863Z",
     "iopub.status.idle": "2022-02-11T18:35:34.430270Z",
     "shell.execute_reply": "2022-02-11T18:35:34.429710Z",
     "shell.execute_reply.started": "2022-02-11T18:25:21.628707Z"
    },
    "papermill": {
     "duration": 0.069713,
     "end_time": "2022-02-11T18:35:34.430459",
     "exception": false,
     "start_time": "2022-02-11T18:35:34.360746",
     "status": "completed"
    },
    "tags": []
   },
   "outputs": [
    {
     "data": {
      "text/html": [
       "<div>\n",
       "<style scoped>\n",
       "    .dataframe tbody tr th:only-of-type {\n",
       "        vertical-align: middle;\n",
       "    }\n",
       "\n",
       "    .dataframe tbody tr th {\n",
       "        vertical-align: top;\n",
       "    }\n",
       "\n",
       "    .dataframe thead th {\n",
       "        text-align: right;\n",
       "    }\n",
       "</style>\n",
       "<table border=\"1\" class=\"dataframe\">\n",
       "  <thead>\n",
       "    <tr style=\"text-align: right;\">\n",
       "      <th></th>\n",
       "      <th>symboling</th>\n",
       "      <th>make</th>\n",
       "      <th>fuel_type</th>\n",
       "      <th>aspiration</th>\n",
       "      <th>num_of_doors</th>\n",
       "      <th>body_style</th>\n",
       "      <th>drive_wheels</th>\n",
       "      <th>engine_location</th>\n",
       "      <th>wheel_base</th>\n",
       "      <th>length</th>\n",
       "      <th>width</th>\n",
       "      <th>height</th>\n",
       "      <th>curb_weight</th>\n",
       "      <th>engine_type</th>\n",
       "      <th>num_of_cylinders</th>\n",
       "      <th>engine_size</th>\n",
       "      <th>fuel_system</th>\n",
       "      <th>bore</th>\n",
       "      <th>stroke</th>\n",
       "      <th>compression_ratio</th>\n",
       "      <th>horsepower</th>\n",
       "      <th>peak_rpm</th>\n",
       "      <th>city_mpg</th>\n",
       "      <th>highway_mpg</th>\n",
       "      <th>price</th>\n",
       "    </tr>\n",
       "  </thead>\n",
       "  <tbody>\n",
       "    <tr>\n",
       "      <th>0</th>\n",
       "      <td>3</td>\n",
       "      <td>alfa-romero</td>\n",
       "      <td>gas</td>\n",
       "      <td>std</td>\n",
       "      <td>2</td>\n",
       "      <td>convertible</td>\n",
       "      <td>rwd</td>\n",
       "      <td>front</td>\n",
       "      <td>88.6</td>\n",
       "      <td>168.8</td>\n",
       "      <td>64.1</td>\n",
       "      <td>48.8</td>\n",
       "      <td>2548</td>\n",
       "      <td>dohc</td>\n",
       "      <td>4</td>\n",
       "      <td>130</td>\n",
       "      <td>mpfi</td>\n",
       "      <td>3.47</td>\n",
       "      <td>2.68</td>\n",
       "      <td>9</td>\n",
       "      <td>111</td>\n",
       "      <td>5000</td>\n",
       "      <td>21</td>\n",
       "      <td>27</td>\n",
       "      <td>13495</td>\n",
       "    </tr>\n",
       "    <tr>\n",
       "      <th>1</th>\n",
       "      <td>3</td>\n",
       "      <td>alfa-romero</td>\n",
       "      <td>gas</td>\n",
       "      <td>std</td>\n",
       "      <td>2</td>\n",
       "      <td>convertible</td>\n",
       "      <td>rwd</td>\n",
       "      <td>front</td>\n",
       "      <td>88.6</td>\n",
       "      <td>168.8</td>\n",
       "      <td>64.1</td>\n",
       "      <td>48.8</td>\n",
       "      <td>2548</td>\n",
       "      <td>dohc</td>\n",
       "      <td>4</td>\n",
       "      <td>130</td>\n",
       "      <td>mpfi</td>\n",
       "      <td>3.47</td>\n",
       "      <td>2.68</td>\n",
       "      <td>9</td>\n",
       "      <td>111</td>\n",
       "      <td>5000</td>\n",
       "      <td>21</td>\n",
       "      <td>27</td>\n",
       "      <td>16500</td>\n",
       "    </tr>\n",
       "    <tr>\n",
       "      <th>2</th>\n",
       "      <td>1</td>\n",
       "      <td>alfa-romero</td>\n",
       "      <td>gas</td>\n",
       "      <td>std</td>\n",
       "      <td>2</td>\n",
       "      <td>hatchback</td>\n",
       "      <td>rwd</td>\n",
       "      <td>front</td>\n",
       "      <td>94.5</td>\n",
       "      <td>171.2</td>\n",
       "      <td>65.5</td>\n",
       "      <td>52.4</td>\n",
       "      <td>2823</td>\n",
       "      <td>ohcv</td>\n",
       "      <td>6</td>\n",
       "      <td>152</td>\n",
       "      <td>mpfi</td>\n",
       "      <td>2.68</td>\n",
       "      <td>3.47</td>\n",
       "      <td>9</td>\n",
       "      <td>154</td>\n",
       "      <td>5000</td>\n",
       "      <td>19</td>\n",
       "      <td>26</td>\n",
       "      <td>16500</td>\n",
       "    </tr>\n",
       "    <tr>\n",
       "      <th>3</th>\n",
       "      <td>2</td>\n",
       "      <td>audi</td>\n",
       "      <td>gas</td>\n",
       "      <td>std</td>\n",
       "      <td>4</td>\n",
       "      <td>sedan</td>\n",
       "      <td>fwd</td>\n",
       "      <td>front</td>\n",
       "      <td>99.8</td>\n",
       "      <td>176.6</td>\n",
       "      <td>66.2</td>\n",
       "      <td>54.3</td>\n",
       "      <td>2337</td>\n",
       "      <td>ohc</td>\n",
       "      <td>4</td>\n",
       "      <td>109</td>\n",
       "      <td>mpfi</td>\n",
       "      <td>3.19</td>\n",
       "      <td>3.40</td>\n",
       "      <td>10</td>\n",
       "      <td>102</td>\n",
       "      <td>5500</td>\n",
       "      <td>24</td>\n",
       "      <td>30</td>\n",
       "      <td>13950</td>\n",
       "    </tr>\n",
       "    <tr>\n",
       "      <th>4</th>\n",
       "      <td>2</td>\n",
       "      <td>audi</td>\n",
       "      <td>gas</td>\n",
       "      <td>std</td>\n",
       "      <td>4</td>\n",
       "      <td>sedan</td>\n",
       "      <td>4wd</td>\n",
       "      <td>front</td>\n",
       "      <td>99.4</td>\n",
       "      <td>176.6</td>\n",
       "      <td>66.4</td>\n",
       "      <td>54.3</td>\n",
       "      <td>2824</td>\n",
       "      <td>ohc</td>\n",
       "      <td>5</td>\n",
       "      <td>136</td>\n",
       "      <td>mpfi</td>\n",
       "      <td>3.19</td>\n",
       "      <td>3.40</td>\n",
       "      <td>8</td>\n",
       "      <td>115</td>\n",
       "      <td>5500</td>\n",
       "      <td>18</td>\n",
       "      <td>22</td>\n",
       "      <td>17450</td>\n",
       "    </tr>\n",
       "  </tbody>\n",
       "</table>\n",
       "</div>"
      ],
      "text/plain": [
       "   symboling         make fuel_type aspiration  num_of_doors   body_style  \\\n",
       "0          3  alfa-romero       gas        std             2  convertible   \n",
       "1          3  alfa-romero       gas        std             2  convertible   \n",
       "2          1  alfa-romero       gas        std             2    hatchback   \n",
       "3          2         audi       gas        std             4        sedan   \n",
       "4          2         audi       gas        std             4        sedan   \n",
       "\n",
       "  drive_wheels engine_location  wheel_base  length  width  height  \\\n",
       "0          rwd           front        88.6   168.8   64.1    48.8   \n",
       "1          rwd           front        88.6   168.8   64.1    48.8   \n",
       "2          rwd           front        94.5   171.2   65.5    52.4   \n",
       "3          fwd           front        99.8   176.6   66.2    54.3   \n",
       "4          4wd           front        99.4   176.6   66.4    54.3   \n",
       "\n",
       "   curb_weight engine_type  num_of_cylinders  engine_size fuel_system  bore  \\\n",
       "0         2548        dohc                 4          130        mpfi  3.47   \n",
       "1         2548        dohc                 4          130        mpfi  3.47   \n",
       "2         2823        ohcv                 6          152        mpfi  2.68   \n",
       "3         2337         ohc                 4          109        mpfi  3.19   \n",
       "4         2824         ohc                 5          136        mpfi  3.19   \n",
       "\n",
       "   stroke  compression_ratio  horsepower  peak_rpm  city_mpg  highway_mpg  \\\n",
       "0    2.68                  9         111      5000        21           27   \n",
       "1    2.68                  9         111      5000        21           27   \n",
       "2    3.47                  9         154      5000        19           26   \n",
       "3    3.40                 10         102      5500        24           30   \n",
       "4    3.40                  8         115      5500        18           22   \n",
       "\n",
       "   price  \n",
       "0  13495  \n",
       "1  16500  \n",
       "2  16500  \n",
       "3  13950  \n",
       "4  17450  "
      ]
     },
     "execution_count": 3,
     "metadata": {},
     "output_type": "execute_result"
    }
   ],
   "source": [
    "df=pd.read_csv('../input/fe-course-data/autos.csv')\n",
    "df.head()"
   ]
  },
  {
   "cell_type": "code",
   "execution_count": 4,
   "id": "625eb84d",
   "metadata": {
    "execution": {
     "iopub.execute_input": "2022-02-11T18:35:34.469690Z",
     "iopub.status.busy": "2022-02-11T18:35:34.468896Z",
     "iopub.status.idle": "2022-02-11T18:35:34.499296Z",
     "shell.execute_reply": "2022-02-11T18:35:34.498608Z",
     "shell.execute_reply.started": "2022-02-11T18:25:22.687294Z"
    },
    "papermill": {
     "duration": 0.050997,
     "end_time": "2022-02-11T18:35:34.499485",
     "exception": false,
     "start_time": "2022-02-11T18:35:34.448488",
     "status": "completed"
    },
    "tags": []
   },
   "outputs": [
    {
     "name": "stdout",
     "output_type": "stream",
     "text": [
      "<class 'pandas.core.frame.DataFrame'>\n",
      "RangeIndex: 193 entries, 0 to 192\n",
      "Data columns (total 25 columns):\n",
      " #   Column             Non-Null Count  Dtype  \n",
      "---  ------             --------------  -----  \n",
      " 0   symboling          193 non-null    int64  \n",
      " 1   make               193 non-null    object \n",
      " 2   fuel_type          193 non-null    object \n",
      " 3   aspiration         193 non-null    object \n",
      " 4   num_of_doors       193 non-null    int64  \n",
      " 5   body_style         193 non-null    object \n",
      " 6   drive_wheels       193 non-null    object \n",
      " 7   engine_location    193 non-null    object \n",
      " 8   wheel_base         193 non-null    float64\n",
      " 9   length             193 non-null    float64\n",
      " 10  width              193 non-null    float64\n",
      " 11  height             193 non-null    float64\n",
      " 12  curb_weight        193 non-null    int64  \n",
      " 13  engine_type        193 non-null    object \n",
      " 14  num_of_cylinders   193 non-null    int64  \n",
      " 15  engine_size        193 non-null    int64  \n",
      " 16  fuel_system        193 non-null    object \n",
      " 17  bore               193 non-null    float64\n",
      " 18  stroke             193 non-null    float64\n",
      " 19  compression_ratio  193 non-null    int64  \n",
      " 20  horsepower         193 non-null    int64  \n",
      " 21  peak_rpm           193 non-null    int64  \n",
      " 22  city_mpg           193 non-null    int64  \n",
      " 23  highway_mpg        193 non-null    int64  \n",
      " 24  price              193 non-null    int64  \n",
      "dtypes: float64(6), int64(11), object(8)\n",
      "memory usage: 37.8+ KB\n"
     ]
    }
   ],
   "source": [
    "df.info()\n"
   ]
  },
  {
   "cell_type": "code",
   "execution_count": 5,
   "id": "af6ed468",
   "metadata": {
    "execution": {
     "iopub.execute_input": "2022-02-11T18:35:34.542640Z",
     "iopub.status.busy": "2022-02-11T18:35:34.541636Z",
     "iopub.status.idle": "2022-02-11T18:35:34.545116Z",
     "shell.execute_reply": "2022-02-11T18:35:34.545688Z",
     "shell.execute_reply.started": "2022-02-11T18:25:42.785750Z"
    },
    "papermill": {
     "duration": 0.02723,
     "end_time": "2022-02-11T18:35:34.545864",
     "exception": false,
     "start_time": "2022-02-11T18:35:34.518634",
     "status": "completed"
    },
    "tags": []
   },
   "outputs": [],
   "source": [
    "X=df.copy()\n",
    "y=X.pop('price')\n"
   ]
  },
  {
   "cell_type": "code",
   "execution_count": 6,
   "id": "2d940527",
   "metadata": {
    "execution": {
     "iopub.execute_input": "2022-02-11T18:35:34.586502Z",
     "iopub.status.busy": "2022-02-11T18:35:34.585480Z",
     "iopub.status.idle": "2022-02-11T18:35:34.592316Z",
     "shell.execute_reply": "2022-02-11T18:35:34.593077Z",
     "shell.execute_reply.started": "2022-02-11T18:25:54.557744Z"
    },
    "papermill": {
     "duration": 0.029218,
     "end_time": "2022-02-11T18:35:34.593267",
     "exception": false,
     "start_time": "2022-02-11T18:35:34.564049",
     "status": "completed"
    },
    "tags": []
   },
   "outputs": [
    {
     "data": {
      "text/plain": [
       "0    13495\n",
       "1    16500\n",
       "2    16500\n",
       "3    13950\n",
       "4    17450\n",
       "Name: price, dtype: int64"
      ]
     },
     "execution_count": 6,
     "metadata": {},
     "output_type": "execute_result"
    }
   ],
   "source": [
    "y.head()"
   ]
  },
  {
   "cell_type": "code",
   "execution_count": 7,
   "id": "16804f4e",
   "metadata": {
    "execution": {
     "iopub.execute_input": "2022-02-11T18:35:34.635157Z",
     "iopub.status.busy": "2022-02-11T18:35:34.634446Z",
     "iopub.status.idle": "2022-02-11T18:35:34.644863Z",
     "shell.execute_reply": "2022-02-11T18:35:34.645457Z",
     "shell.execute_reply.started": "2022-02-11T18:26:05.381757Z"
    },
    "papermill": {
     "duration": 0.033986,
     "end_time": "2022-02-11T18:35:34.645668",
     "exception": false,
     "start_time": "2022-02-11T18:35:34.611682",
     "status": "completed"
    },
    "tags": []
   },
   "outputs": [],
   "source": [
    "for i in X.select_dtypes('object'):\n",
    "    X[i],_=X[i].factorize()\n",
    "    "
   ]
  },
  {
   "cell_type": "code",
   "execution_count": 8,
   "id": "399c8baa",
   "metadata": {
    "execution": {
     "iopub.execute_input": "2022-02-11T18:35:34.687225Z",
     "iopub.status.busy": "2022-02-11T18:35:34.686507Z",
     "iopub.status.idle": "2022-02-11T18:35:34.708003Z",
     "shell.execute_reply": "2022-02-11T18:35:34.708720Z",
     "shell.execute_reply.started": "2022-02-11T18:26:08.574389Z"
    },
    "papermill": {
     "duration": 0.04445,
     "end_time": "2022-02-11T18:35:34.708916",
     "exception": false,
     "start_time": "2022-02-11T18:35:34.664466",
     "status": "completed"
    },
    "tags": []
   },
   "outputs": [
    {
     "data": {
      "text/html": [
       "<div>\n",
       "<style scoped>\n",
       "    .dataframe tbody tr th:only-of-type {\n",
       "        vertical-align: middle;\n",
       "    }\n",
       "\n",
       "    .dataframe tbody tr th {\n",
       "        vertical-align: top;\n",
       "    }\n",
       "\n",
       "    .dataframe thead th {\n",
       "        text-align: right;\n",
       "    }\n",
       "</style>\n",
       "<table border=\"1\" class=\"dataframe\">\n",
       "  <thead>\n",
       "    <tr style=\"text-align: right;\">\n",
       "      <th></th>\n",
       "      <th>symboling</th>\n",
       "      <th>make</th>\n",
       "      <th>fuel_type</th>\n",
       "      <th>aspiration</th>\n",
       "      <th>num_of_doors</th>\n",
       "      <th>body_style</th>\n",
       "      <th>drive_wheels</th>\n",
       "      <th>engine_location</th>\n",
       "      <th>wheel_base</th>\n",
       "      <th>length</th>\n",
       "      <th>width</th>\n",
       "      <th>height</th>\n",
       "      <th>curb_weight</th>\n",
       "      <th>engine_type</th>\n",
       "      <th>num_of_cylinders</th>\n",
       "      <th>engine_size</th>\n",
       "      <th>fuel_system</th>\n",
       "      <th>bore</th>\n",
       "      <th>stroke</th>\n",
       "      <th>compression_ratio</th>\n",
       "      <th>horsepower</th>\n",
       "      <th>peak_rpm</th>\n",
       "      <th>city_mpg</th>\n",
       "      <th>highway_mpg</th>\n",
       "    </tr>\n",
       "  </thead>\n",
       "  <tbody>\n",
       "    <tr>\n",
       "      <th>0</th>\n",
       "      <td>3</td>\n",
       "      <td>0</td>\n",
       "      <td>0</td>\n",
       "      <td>0</td>\n",
       "      <td>2</td>\n",
       "      <td>0</td>\n",
       "      <td>0</td>\n",
       "      <td>0</td>\n",
       "      <td>88.6</td>\n",
       "      <td>168.8</td>\n",
       "      <td>64.1</td>\n",
       "      <td>48.8</td>\n",
       "      <td>2548</td>\n",
       "      <td>0</td>\n",
       "      <td>4</td>\n",
       "      <td>130</td>\n",
       "      <td>0</td>\n",
       "      <td>3.47</td>\n",
       "      <td>2.68</td>\n",
       "      <td>9</td>\n",
       "      <td>111</td>\n",
       "      <td>5000</td>\n",
       "      <td>21</td>\n",
       "      <td>27</td>\n",
       "    </tr>\n",
       "    <tr>\n",
       "      <th>1</th>\n",
       "      <td>3</td>\n",
       "      <td>0</td>\n",
       "      <td>0</td>\n",
       "      <td>0</td>\n",
       "      <td>2</td>\n",
       "      <td>0</td>\n",
       "      <td>0</td>\n",
       "      <td>0</td>\n",
       "      <td>88.6</td>\n",
       "      <td>168.8</td>\n",
       "      <td>64.1</td>\n",
       "      <td>48.8</td>\n",
       "      <td>2548</td>\n",
       "      <td>0</td>\n",
       "      <td>4</td>\n",
       "      <td>130</td>\n",
       "      <td>0</td>\n",
       "      <td>3.47</td>\n",
       "      <td>2.68</td>\n",
       "      <td>9</td>\n",
       "      <td>111</td>\n",
       "      <td>5000</td>\n",
       "      <td>21</td>\n",
       "      <td>27</td>\n",
       "    </tr>\n",
       "    <tr>\n",
       "      <th>2</th>\n",
       "      <td>1</td>\n",
       "      <td>0</td>\n",
       "      <td>0</td>\n",
       "      <td>0</td>\n",
       "      <td>2</td>\n",
       "      <td>1</td>\n",
       "      <td>0</td>\n",
       "      <td>0</td>\n",
       "      <td>94.5</td>\n",
       "      <td>171.2</td>\n",
       "      <td>65.5</td>\n",
       "      <td>52.4</td>\n",
       "      <td>2823</td>\n",
       "      <td>1</td>\n",
       "      <td>6</td>\n",
       "      <td>152</td>\n",
       "      <td>0</td>\n",
       "      <td>2.68</td>\n",
       "      <td>3.47</td>\n",
       "      <td>9</td>\n",
       "      <td>154</td>\n",
       "      <td>5000</td>\n",
       "      <td>19</td>\n",
       "      <td>26</td>\n",
       "    </tr>\n",
       "    <tr>\n",
       "      <th>3</th>\n",
       "      <td>2</td>\n",
       "      <td>1</td>\n",
       "      <td>0</td>\n",
       "      <td>0</td>\n",
       "      <td>4</td>\n",
       "      <td>2</td>\n",
       "      <td>1</td>\n",
       "      <td>0</td>\n",
       "      <td>99.8</td>\n",
       "      <td>176.6</td>\n",
       "      <td>66.2</td>\n",
       "      <td>54.3</td>\n",
       "      <td>2337</td>\n",
       "      <td>2</td>\n",
       "      <td>4</td>\n",
       "      <td>109</td>\n",
       "      <td>0</td>\n",
       "      <td>3.19</td>\n",
       "      <td>3.40</td>\n",
       "      <td>10</td>\n",
       "      <td>102</td>\n",
       "      <td>5500</td>\n",
       "      <td>24</td>\n",
       "      <td>30</td>\n",
       "    </tr>\n",
       "    <tr>\n",
       "      <th>4</th>\n",
       "      <td>2</td>\n",
       "      <td>1</td>\n",
       "      <td>0</td>\n",
       "      <td>0</td>\n",
       "      <td>4</td>\n",
       "      <td>2</td>\n",
       "      <td>2</td>\n",
       "      <td>0</td>\n",
       "      <td>99.4</td>\n",
       "      <td>176.6</td>\n",
       "      <td>66.4</td>\n",
       "      <td>54.3</td>\n",
       "      <td>2824</td>\n",
       "      <td>2</td>\n",
       "      <td>5</td>\n",
       "      <td>136</td>\n",
       "      <td>0</td>\n",
       "      <td>3.19</td>\n",
       "      <td>3.40</td>\n",
       "      <td>8</td>\n",
       "      <td>115</td>\n",
       "      <td>5500</td>\n",
       "      <td>18</td>\n",
       "      <td>22</td>\n",
       "    </tr>\n",
       "  </tbody>\n",
       "</table>\n",
       "</div>"
      ],
      "text/plain": [
       "   symboling  make  fuel_type  aspiration  num_of_doors  body_style  \\\n",
       "0          3     0          0           0             2           0   \n",
       "1          3     0          0           0             2           0   \n",
       "2          1     0          0           0             2           1   \n",
       "3          2     1          0           0             4           2   \n",
       "4          2     1          0           0             4           2   \n",
       "\n",
       "   drive_wheels  engine_location  wheel_base  length  width  height  \\\n",
       "0             0                0        88.6   168.8   64.1    48.8   \n",
       "1             0                0        88.6   168.8   64.1    48.8   \n",
       "2             0                0        94.5   171.2   65.5    52.4   \n",
       "3             1                0        99.8   176.6   66.2    54.3   \n",
       "4             2                0        99.4   176.6   66.4    54.3   \n",
       "\n",
       "   curb_weight  engine_type  num_of_cylinders  engine_size  fuel_system  bore  \\\n",
       "0         2548            0                 4          130            0  3.47   \n",
       "1         2548            0                 4          130            0  3.47   \n",
       "2         2823            1                 6          152            0  2.68   \n",
       "3         2337            2                 4          109            0  3.19   \n",
       "4         2824            2                 5          136            0  3.19   \n",
       "\n",
       "   stroke  compression_ratio  horsepower  peak_rpm  city_mpg  highway_mpg  \n",
       "0    2.68                  9         111      5000        21           27  \n",
       "1    2.68                  9         111      5000        21           27  \n",
       "2    3.47                  9         154      5000        19           26  \n",
       "3    3.40                 10         102      5500        24           30  \n",
       "4    3.40                  8         115      5500        18           22  "
      ]
     },
     "execution_count": 8,
     "metadata": {},
     "output_type": "execute_result"
    }
   ],
   "source": [
    "X.head()"
   ]
  },
  {
   "cell_type": "code",
   "execution_count": 9,
   "id": "a74622dc",
   "metadata": {
    "execution": {
     "iopub.execute_input": "2022-02-11T18:35:34.752904Z",
     "iopub.status.busy": "2022-02-11T18:35:34.752149Z",
     "iopub.status.idle": "2022-02-11T18:35:34.757216Z",
     "shell.execute_reply": "2022-02-11T18:35:34.757775Z",
     "shell.execute_reply.started": "2022-02-11T18:26:11.134006Z"
    },
    "papermill": {
     "duration": 0.029475,
     "end_time": "2022-02-11T18:35:34.757963",
     "exception": false,
     "start_time": "2022-02-11T18:35:34.728488",
     "status": "completed"
    },
    "tags": []
   },
   "outputs": [],
   "source": [
    "discrete_feature=X.dtypes==int"
   ]
  },
  {
   "cell_type": "code",
   "execution_count": 10,
   "id": "606425b6",
   "metadata": {
    "execution": {
     "iopub.execute_input": "2022-02-11T18:35:34.801284Z",
     "iopub.status.busy": "2022-02-11T18:35:34.800606Z",
     "iopub.status.idle": "2022-02-11T18:35:34.804964Z",
     "shell.execute_reply": "2022-02-11T18:35:34.805679Z",
     "shell.execute_reply.started": "2022-02-11T18:26:13.146801Z"
    },
    "papermill": {
     "duration": 0.027956,
     "end_time": "2022-02-11T18:35:34.805867",
     "exception": false,
     "start_time": "2022-02-11T18:35:34.777911",
     "status": "completed"
    },
    "tags": []
   },
   "outputs": [],
   "source": [
    "def mi_score(X,y,feature):\n",
    "    score=mutual_info_regression(X,y,feature)\n",
    "    table=pd.Series(score,name=\"MI score\",index=X.columns)\n",
    "    return table\n",
    "\n"
   ]
  },
  {
   "cell_type": "code",
   "execution_count": 11,
   "id": "89206e00",
   "metadata": {
    "execution": {
     "iopub.execute_input": "2022-02-11T18:35:34.847759Z",
     "iopub.status.busy": "2022-02-11T18:35:34.847100Z",
     "iopub.status.idle": "2022-02-11T18:35:35.079102Z",
     "shell.execute_reply": "2022-02-11T18:35:35.078432Z",
     "shell.execute_reply.started": "2022-02-11T18:26:15.366855Z"
    },
    "papermill": {
     "duration": 0.254322,
     "end_time": "2022-02-11T18:35:35.079257",
     "exception": false,
     "start_time": "2022-02-11T18:35:34.824935",
     "status": "completed"
    },
    "tags": []
   },
   "outputs": [
    {
     "data": {
      "text/plain": [
       "curb_weight          1.553934\n",
       "horsepower           1.265758\n",
       "engine_size          1.008797\n",
       "highway_mpg          0.957637\n",
       "city_mpg             0.861045\n",
       "width                0.684898\n",
       "length               0.611586\n",
       "wheel_base           0.591242\n",
       "make                 0.544507\n",
       "fuel_system          0.482483\n",
       "bore                 0.480550\n",
       "peak_rpm             0.450597\n",
       "stroke               0.385846\n",
       "height               0.365904\n",
       "drive_wheels         0.333404\n",
       "num_of_cylinders     0.332900\n",
       "symboling            0.229938\n",
       "engine_type          0.150219\n",
       "compression_ratio    0.133171\n",
       "aspiration           0.087994\n",
       "body_style           0.080116\n",
       "fuel_type            0.047298\n",
       "engine_location      0.035905\n",
       "num_of_doors         0.012234\n",
       "Name: MI score, dtype: float64"
      ]
     },
     "execution_count": 11,
     "metadata": {},
     "output_type": "execute_result"
    }
   ],
   "source": [
    "mi_score_table=mi_score(X,y,discrete_feature).sort_values(ascending=False)\n",
    "mi_score_table"
   ]
  },
  {
   "cell_type": "code",
   "execution_count": 12,
   "id": "fa40c24b",
   "metadata": {
    "execution": {
     "iopub.execute_input": "2022-02-11T18:35:35.121316Z",
     "iopub.status.busy": "2022-02-11T18:35:35.120687Z",
     "iopub.status.idle": "2022-02-11T18:35:35.566126Z",
     "shell.execute_reply": "2022-02-11T18:35:35.565606Z",
     "shell.execute_reply.started": "2022-02-11T18:26:22.361500Z"
    },
    "papermill": {
     "duration": 0.467546,
     "end_time": "2022-02-11T18:35:35.566277",
     "exception": false,
     "start_time": "2022-02-11T18:35:35.098731",
     "status": "completed"
    },
    "tags": []
   },
   "outputs": [
    {
     "data": {
      "image/png": "[encoded data removed]",
      "text/plain": [
       "<Figure size 432x288 with 1 Axes>"
      ]
     },
     "metadata": {
      "needs_background": "light"
     },
     "output_type": "display_data"
    }
   ],
   "source": [
    "def plt_mi_score(table):\n",
    "    sns.barplot(table.values,table.index)\n",
    "plt_mi_score(mi_score_table)"
   ]
  },
  {
   "cell_type": "code",
   "execution_count": 13,
   "id": "58cb7b91",
   "metadata": {
    "execution": {
     "iopub.execute_input": "2022-02-11T18:35:35.632856Z",
     "iopub.status.busy": "2022-02-11T18:35:35.629114Z",
     "iopub.status.idle": "2022-02-11T18:35:35.876569Z",
     "shell.execute_reply": "2022-02-11T18:35:35.875421Z",
     "shell.execute_reply.started": "2022-02-11T18:28:37.783705Z"
    },
    "papermill": {
     "duration": 0.289494,
     "end_time": "2022-02-11T18:35:35.876747",
     "exception": false,
     "start_time": "2022-02-11T18:35:35.587253",
     "status": "completed"
    },
    "tags": []
   },
   "outputs": [
    {
     "data": {
      "text/plain": [
       "<AxesSubplot:xlabel='curb_weight', ylabel='price'>"
      ]
     },
     "execution_count": 13,
     "metadata": {},
     "output_type": "execute_result"
    },
    {
     "data": {
      "image/png": "[encoded data removed]",
      "text/plain": [
       "<Figure size 432x288 with 1 Axes>"
      ]
     },
     "metadata": {
      "needs_background": "light"
     },
     "output_type": "display_data"
    }
   ],
   "source": [
    "sns.scatterplot(y='price',x='curb_weight',data=df)"
   ]
  },
  {
   "cell_type": "code",
   "execution_count": 14,
   "id": "6de03c51",
   "metadata": {
    "execution": {
     "iopub.execute_input": "2022-02-11T18:35:35.949770Z",
     "iopub.status.busy": "2022-02-11T18:35:35.949012Z",
     "iopub.status.idle": "2022-02-11T18:35:37.178670Z",
     "shell.execute_reply": "2022-02-11T18:35:37.178072Z",
     "shell.execute_reply.started": "2022-02-11T18:34:24.809368Z"
    },
    "papermill": {
     "duration": 1.27764,
     "end_time": "2022-02-11T18:35:37.178817",
     "exception": false,
     "start_time": "2022-02-11T18:35:35.901177",
     "status": "completed"
    },
    "tags": []
   },
   "outputs": [
    {
     "data": {
      "text/plain": [
       "<seaborn.axisgrid.FacetGrid at 0x7fbcac7bbe10>"
      ]
     },
     "execution_count": 14,
     "metadata": {},
     "output_type": "execute_result"
    },
    {
     "data": {
      "image/png": "[encoded data removed]",
      "text/plain": [
       "<Figure size 429.375x360 with 1 Axes>"
      ]
     },
     "metadata": {
      "needs_background": "light"
     },
     "output_type": "display_data"
    }
   ],
   "source": [
    "sns.lmplot(y='price',x='horsepower',data=df,hue='engine_type')"
   ]
  },
  {
   "cell_type": "code",
   "execution_count": null,
   "id": "06f36d6d",
   "metadata": {
    "papermill": {
     "duration": 0.023208,
     "end_time": "2022-02-11T18:35:37.227462",
     "exception": false,
     "start_time": "2022-02-11T18:35:37.204254",
     "status": "completed"
    },
    "tags": []
   },
   "outputs": [],
   "source": []
  }
 ],
 "metadata": {
  "kernelspec": {
   "display_name": "Python 3",
   "language": "python",
   "name": "python3"
  },
  "language_info": {
   "codemirror_mode": {
    "name": "ipython",
    "version": 3
   },
   "file_extension": ".py",
   "mimetype": "text/x-python",
   "name": "python",
   "nbconvert_exporter": "python",
   "pygments_lexer": "ipython3",
   "version": "3.7.12"
  },
  "papermill": {
   "default_parameters": {},
   "duration": 18.194963,
   "end_time": "2022-02-11T18:35:38.063053",
   "environment_variables": {},
   "exception": null,
   "input_path": "__notebook__.ipynb",
   "output_path": "__notebook__.ipynb",
   "parameters": {},
   "start_time": "2022-02-11T18:35:19.868090",
   "version": "2.3.3"
  }
 },
 "nbformat": 4,
 "nbformat_minor": 5
}
